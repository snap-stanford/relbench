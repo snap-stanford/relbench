{
 "cells": [
  {
   "cell_type": "code",
   "execution_count": 1,
   "id": "1cc0bafe-53ba-447c-bca2-bad2935544fa",
   "metadata": {},
   "outputs": [],
   "source": [
    "import os\n",
    "import seaborn\n",
    "import matplotlib.pyplot as plt\n",
    "import pandas as pd"
   ]
  },
  {
   "cell_type": "code",
   "execution_count": 8,
   "id": "93f558b5-e591-4788-9b20-2372eed06094",
   "metadata": {},
   "outputs": [
    {
     "name": "stdout",
     "output_type": "stream",
     "text": [
      "Empty DataFrame\n",
      "Columns: [loader.temporal_strategy, average_precision, accuracy, f1, roc_auc]\n",
      "Index: []\n"
     ]
    }
   ],
   "source": [
    "def get_test_results(path):\n",
    "    base_dir = '../RDL/relbench/results'\n",
    "    seed = 42\n",
    "    \n",
    "    runs = [name[:-5] for name in os.listdir(os.path.join(base_dir, path))]\n",
    "    results = {}\n",
    "    \n",
    "    search_string = 'Test metrics: '\n",
    "    for run in runs:\n",
    "        cur_path = os.path.join(base_dir, run, str(seed), 'logging.log')\n",
    "        test_stats = None\n",
    "        try:\n",
    "            with open(cur_path, 'r') as f:\n",
    "                for line_number, line in enumerate(f, 1):  # Starting at line 1\n",
    "                    # Check if the search string is in the current line\n",
    "                    if search_string in line:\n",
    "                        # Return the line along with its line number\n",
    "                        test_stats = line[len(search_string):]\n",
    "                        break\n",
    "        except:\n",
    "            print(f'{cur_path} does not have a log')\n",
    "        if test_stats is None:\n",
    "            print(f'{run} does not have test stats')\n",
    "            continue\n",
    "        test_stats = eval(test_stats)\n",
    "        results[run] = test_stats\n",
    "    return results\n",
    "\n",
    "# yaml_collection_path = 'stackex-votes_model.channels_64_128_model.num_layers_2_3_model.use_self_join_True_False_optim.base_lr_0.01_0.001'\n",
    "# yaml_collection_path = 'amazon_churn_model.channels_64_128_model.num_layers_2_3_model.use_self_join_True_False_optim.base_lr_0.01_0.001'\n",
    "# yaml_collection_path = 'stackex-engage-attn_model.channels_64_128_model.num_layers_2_3_model.use_self_join_True_False_optim.base_lr_0.01_0.001'\n",
    "# yaml_collection_path = 'stackex-engage_model.channels_64_128_model.use_self_join_True_False_model.aggr_sum_mean_max'\n",
    "# yaml_collection_path = 'stackex-engage_model.channels_64_128_model.use_self_join_True_False_model.hetero_aggr_sum_mean_max'\n",
    "# yaml_collection_path = 'stackex-engage_model.channels_64_128_model.use_self_join_True_False_loader.num_neighbors_16_32_64_128_256'\n",
    "# yaml_collection_path = 'stackex-votes_model.channels_64_128_model.use_self_join_True_False_model.aggr_sum_mean_max'\n",
    "# yaml_collection_path = 'stackex-votes_model.channels_64_128_model.use_self_join_True_False_loader.num_neighbors_16_32_64_128_256'\n",
    "# yaml_collection_path = 'amazon_ltv_model.channels_64_128_model.num_layers_2_3_model.use_self_join_True_False_optim.base_lr_0.01_0.001'\n",
    "# yaml_collection_path = 'amazon_product_churn_model.channels_64_128_model.use_self_join_True_False_optim.base_lr_0.01_0.001'\n",
    "# yaml_collection_path = 'amazon_churn_model.channels_64_128_model.num_layers_2_3_4_model.use_self_join_True_False'\n",
    "# yaml_collection_path = 'stackex-engage_model.channels_64_128_model.num_layers_2_3_4_model.use_self_join_True_False'\n",
    "# yaml_collection_path = 'amazon_churn_model.channels_64_128_model.num_layers_2_3_model.use_self_join_True_False_loader.temporal_strategy_uniform_last'\n",
    "yaml_collection_path = 'f1-dnf-sj_model.channels_64_128_256_model.num_layers_2_model.use_self_join_True_False_model.dropout_0.0_0.2_0.5_0.8_optim.base_lr_0.01_0.001'\n",
    "res = get_test_results(yaml_collection_path)\n",
    "\n",
    "# Define hyperparameters to investigate\n",
    "hparams = {\n",
    "    'model.channels': [64, 128],\n",
    "    # 'model.conv': ['sage', 'gat'],\n",
    "    'model.num_layers': [2, 3],\n",
    "    'model.use_self_join': [True, False],\n",
    "    # 'model.aggr': ['sum', 'mean', 'max'],\n",
    "    # 'model.hetero_aggr': ['sum', 'mean', 'max'],\n",
    "    # 'optim.base_lr': [0.01, 0.001],\n",
    "    # 'loader.num_neighbors': [16, 32, 64, 128, 256],\n",
    "    'loader.temporal_strategy': ['uniform', 'last']\n",
    "}\n",
    "for key in res:\n",
    "    print(key, '   ', res[key])\n",
    "param_to_plot = 'loader.temporal_strategy'\n",
    "a = []\n",
    "columns = [param_to_plot, 'average_precision', 'accuracy', 'f1', 'roc_auc']  # classification\n",
    "# columns = [param_to_plot, 'mae', 'rmse']  # regression\n",
    "cnt = 0\n",
    "for value in hparams[param_to_plot]:\n",
    "    name = param_to_plot + '_' + str(value)\n",
    "    for exp_name in res:\n",
    "        if name not in exp_name:\n",
    "            continue\n",
    "        cur_res = res[exp_name]\n",
    "        cur_a = [value]\n",
    "        for col in columns[1:]:\n",
    "            cur_a.append(cur_res[col])\n",
    "        a.append(cur_a)\n",
    "a = pd.DataFrame(data=a, columns=columns)\n",
    "print(a)\n",
    "        "
   ]
  },
  {
   "cell_type": "code",
   "execution_count": 18,
   "id": "0753b97f-173b-44ad-887d-af957d9c2809",
   "metadata": {},
   "outputs": [
    {
     "name": "stderr",
     "output_type": "stream",
     "text": [
      "/tmp/user/23140/ipykernel_2641745/176417470.py:4: FutureWarning: \n",
      "\n",
      "Passing `palette` without assigning `hue` is deprecated and will be removed in v0.14.0. Assign the `x` variable to `hue` and set `legend=False` for the same effect.\n",
      "\n",
      "  ax = seaborn.boxplot(data=a, y='roc_auc', x=param_to_plot, palette=\"Blues\", whis=(0, 100))\n"
     ]
    },
    {
     "data": {
      "image/png": "[encoded data removed]",
      "text/plain": [
       "<Figure size 640x480 with 1 Axes>"
      ]
     },
     "metadata": {},
     "output_type": "display_data"
    }
   ],
   "source": [
    "%matplotlib inline\n",
    "seaborn.set(style=\"darkgrid\")\n",
    "\n",
    "ax = seaborn.boxplot(data=a, y='roc_auc', x=param_to_plot, palette=\"Blues\", whis=(0, 100))\n",
    "# ax = seaborn.violinplot(data=a, y='rmse', x=param_to_plot, palette=\"Blues\")"
   ]
  },
  {
   "cell_type": "markdown",
   "id": "ff0471a7-c9e7-4e69-a789-49504c1b3f52",
   "metadata": {},
   "source": [
    "### Ends here"
   ]
  },
  {
   "cell_type": "code",
   "execution_count": 49,
   "id": "6ffc7dd4-3d7f-4c4e-bf2a-45bd19262932",
   "metadata": {},
   "outputs": [
    {
     "name": "stdout",
     "output_type": "stream",
     "text": [
      "stackex-engage_model.channels_64_model.num_layers_3_model.use_self_join_False_optim.base_lr_0.005_run does not have test stats\n",
      "stackex-engage_model.channels_64_model.num_layers_2_model.use_self_join_False_optim.base_lr_0.01_run does not have test stats\n",
      "stackex-engage_model.channels_32_model.num_layers_3_model.use_self_join_False_optim.base_lr_0.005_run does not have test stats\n",
      "stackex-engage_model.channels_64_model.num_layers_2_model.use_self_join_False_optim.base_lr_0.001_run does not have test stats\n"
     ]
    }
   ],
   "source": [
    "def get_test_results(path):\n",
    "    base_dir = 'results'\n",
    "    seed = 42\n",
    "    \n",
    "    runs = [name[:-5] for name in os.listdir(os.path.join(base_dir, path))]\n",
    "    results = {}\n",
    "    \n",
    "    search_string = 'Test metrics: '\n",
    "    for run in runs:\n",
    "        cur_path = os.path.join(base_dir, run, str(seed), 'logging.log')\n",
    "        test_stats = None\n",
    "        try:\n",
    "            with open(cur_path, 'r') as f:\n",
    "                for line_number, line in enumerate(f, 1):  # Starting at line 1\n",
    "                    # Check if the search string is in the current line\n",
    "                    if search_string in line:\n",
    "                        # Return the line along with its line number\n",
    "                        test_stats = line[len(search_string):]\n",
    "                        break\n",
    "        except:\n",
    "            print(f'{cur_path} does not have a log')\n",
    "        if test_stats is None:\n",
    "            print(f'{run} does not have test stats')\n",
    "            continue\n",
    "        test_stats = eval(test_stats)\n",
    "        results[run] = test_stats\n",
    "    return results\n",
    "    \n",
    "\n",
    "yaml_collection_path = 'stackex-engage_model.channels_32_64_128_model.num_layers_2_3_model.use_self_join_False_optim.base_lr_0.01_0.005_0.001'\n",
    "res = get_test_results(yaml_collection_path)\n",
    "yaml_collection_path1 = 'stackex-engage_model.channels_32_64_128_model.num_layers_2_3_model.use_self_join_True_optim.base_lr_0.01_0.005_0.001'\n",
    "res1 = get_test_results(yaml_collection_path1)\n",
    "# print(res)\n",
    "# print(res1)"
   ]
  },
  {
   "cell_type": "code",
   "execution_count": 50,
   "id": "1b5c4dcc-5158-4a90-af62-ff01c9ca7638",
   "metadata": {},
   "outputs": [
    {
     "name": "stdout",
     "output_type": "stream",
     "text": [
      "    selfjoin  average_precision  accuracy        f1   roc_auc\n",
      "0      False           0.459299  0.948512  0.383926  0.878598\n",
      "1      False           0.454640  0.946969  0.393302  0.875479\n",
      "2      False           0.448392  0.945698  0.411171  0.873291\n",
      "3      False           0.437648  0.945902  0.394924  0.869246\n",
      "4      False           0.424755  0.939276  0.413158  0.869407\n",
      "5      False           0.442168  0.945267  0.402970  0.874033\n",
      "6      False           0.452106  0.948092  0.380333  0.875965\n",
      "7      False           0.448121  0.947729  0.383514  0.874174\n",
      "8      False           0.438994  0.947377  0.366912  0.872435\n",
      "9      False           0.446648  0.944246  0.424994  0.875226\n",
      "10     False           0.440880  0.945732  0.417205  0.874653\n",
      "11     False           0.445939  0.942805  0.432384  0.874612\n",
      "12     False           0.453223  0.948001  0.386397  0.875931\n",
      "13     False           0.455616  0.947570  0.383620  0.877269\n",
      "14      True           0.456637  0.947411  0.407062  0.877624\n",
      "15      True           0.445885  0.946470  0.397753  0.872845\n",
      "16      True           0.416054  0.931743  0.425735  0.864923\n",
      "17      True           0.447926  0.946005  0.411816  0.872965\n",
      "18      True           0.446255  0.947355  0.384615  0.874355\n",
      "19      True           0.453567  0.948262  0.366138  0.875184\n",
      "20      True           0.454021  0.947207  0.404149  0.877630\n",
      "21      True           0.415510  0.941432  0.403099  0.867503\n",
      "22      True           0.448909  0.946844  0.400512  0.874430\n",
      "23      True           0.447468  0.945471  0.414045  0.875128\n",
      "24      True           0.443710  0.947933  0.331731  0.872653\n",
      "25      True           0.447226  0.945392  0.413835  0.874280\n",
      "26      True           0.441931  0.943633  0.416490  0.875050\n",
      "27      True           0.437055  0.944507  0.410083  0.870285\n",
      "28      True           0.440550  0.947343  0.378964  0.873012\n",
      "29      True           0.446684  0.942124  0.428971  0.875012\n",
      "30      True           0.439536  0.945846  0.401955  0.871969\n",
      "31      True           0.421832  0.941614  0.405911  0.869210\n"
     ]
    }
   ],
   "source": [
    "a = []\n",
    "columns = ['selfjoin', 'average_precision', 'accuracy', 'f1', 'roc_auc']\n",
    "cnt = 0\n",
    "for exp_name in res:\n",
    "    cur_res = res[exp_name]\n",
    "    cur_a = [False]\n",
    "    for col in columns[1:]:\n",
    "        cur_a.append(cur_res[col])\n",
    "    a.append(cur_a)\n",
    "for exp_name in res1:\n",
    "    cur_res = res1[exp_name]\n",
    "    cur_a = [True]\n",
    "    for col in columns[1:]:\n",
    "        cur_a.append(cur_res[col])\n",
    "    a.append(cur_a)\n",
    "a = pd.DataFrame(data=a, columns=columns)\n",
    "print(a)"
   ]
  },
  {
   "cell_type": "code",
   "execution_count": 56,
   "id": "ae13131d-3f52-4741-8c6e-1083fefcbf49",
   "metadata": {},
   "outputs": [
    {
     "name": "stderr",
     "output_type": "stream",
     "text": [
      "/tmp/user/23140/ipykernel_1078721/846703776.py:4: FutureWarning: \n",
      "\n",
      "Passing `palette` without assigning `hue` is deprecated and will be removed in v0.14.0. Assign the `x` variable to `hue` and set `legend=False` for the same effect.\n",
      "\n",
      "  ax = seaborn.boxplot(data=a, y='f1', x='selfjoin', palette=\"Blues\")\n"
     ]
    },
    {
     "data": {
      "image/png": "[encoded data removed]",
      "text/plain": [
       "<Figure size 640x480 with 1 Axes>"
      ]
     },
     "metadata": {},
     "output_type": "display_data"
    }
   ],
   "source": [
    "%matplotlib inline\n",
    "seaborn.set(style=\"darkgrid\")\n",
    "\n",
    "ax = seaborn.boxplot(data=a, y='f1', x='selfjoin', palette=\"Blues\")"
   ]
  },
  {
   "cell_type": "code",
   "execution_count": 13,
   "id": "f980d657-5313-421a-a58c-ff09395f73d8",
   "metadata": {},
   "outputs": [
    {
     "data": {
      "text/plain": [
       "tensor([[ 1.5526,  0.6703,  1.2302,  ..., -0.0630, -1.7411,  0.7213],\n",
       "        [-0.1281, -0.2484, -1.2759,  ...,  1.2417, -1.5698,  0.7059],\n",
       "        [ 1.1681,  0.2591, -1.1529,  ...,  0.2187,  0.3762, -0.3652],\n",
       "        ...,\n",
       "        [-0.9252, -1.8957,  2.6438,  ...,  2.5184,  0.4527,  0.2948],\n",
       "        [-0.4808, -0.3784,  0.1630,  ...,  0.4860, -2.0863,  0.2761],\n",
       "        [ 0.5362,  0.5951,  0.4550,  ...,  1.5742,  0.6540,  1.2391]])"
      ]
     },
     "execution_count": 13,
     "metadata": {},
     "output_type": "execute_result"
    }
   ],
   "source": [
    "import torch\n",
    "a = torch.randn(12,128)\n",
    "a"
   ]
  },
  {
   "cell_type": "code",
   "execution_count": 15,
   "id": "d46e1322",
   "metadata": {},
   "outputs": [],
   "source": [
    "b = torch.nn.functional.dropout(a, p=0.5, training=True)"
   ]
  },
  {
   "cell_type": "code",
   "execution_count": 16,
   "id": "18c83bdb",
   "metadata": {},
   "outputs": [
    {
     "data": {
      "text/plain": [
       "tensor([[ 3.1051,  0.0000,  0.0000,  ..., -0.1260, -3.4822,  0.0000],\n",
       "        [-0.2562, -0.0000, -2.5517,  ...,  0.0000, -0.0000,  1.4119],\n",
       "        [ 0.0000,  0.5182, -2.3057,  ...,  0.0000,  0.0000, -0.0000],\n",
       "        ...,\n",
       "        [-0.0000, -3.7914,  5.2877,  ...,  5.0368,  0.0000,  0.5895],\n",
       "        [-0.0000, -0.0000,  0.3260,  ...,  0.0000, -4.1725,  0.0000],\n",
       "        [ 1.0724,  1.1901,  0.9101,  ...,  0.0000,  0.0000,  2.4781]])"
      ]
     },
     "execution_count": 16,
     "metadata": {},
     "output_type": "execute_result"
    }
   ],
   "source": [
    "b"
   ]
  }
 ],
 "metadata": {
  "kernelspec": {
   "display_name": "Python 3 (ipykernel)",
   "language": "python",
   "name": "python3"
  },
  "language_info": {
   "codemirror_mode": {
    "name": "ipython",
    "version": 3
   },
   "file_extension": ".py",
   "mimetype": "text/x-python",
   "name": "python",
   "nbconvert_exporter": "python",
   "pygments_lexer": "ipython3",
   "version": "3.11.5"
  }
 },
 "nbformat": 4,
 "nbformat_minor": 5
}
