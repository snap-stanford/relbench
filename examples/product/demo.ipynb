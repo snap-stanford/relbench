{
 "cells": [
  {
   "cell_type": "code",
   "execution_count": 1,
   "id": "f328220d-6d96-447b-9da6-18ae0069025a",
   "metadata": {
    "execution": {
     "iopub.execute_input": "2023-11-15T23:28:40.219717Z",
     "iopub.status.busy": "2023-11-15T23:28:40.219268Z",
     "iopub.status.idle": "2023-11-15T23:28:40.242569Z",
     "shell.execute_reply": "2023-11-15T23:28:40.241774Z",
     "shell.execute_reply.started": "2023-11-15T23:28:40.219689Z"
    }
   },
   "outputs": [],
   "source": [
    "%load_ext autoreload\n",
    "%autoreload 2"
   ]
  },
  {
   "cell_type": "code",
   "execution_count": 2,
   "id": "6f3dac79-b7aa-46e7-9f60-7728da8bc263",
   "metadata": {
    "execution": {
     "iopub.execute_input": "2023-11-15T23:28:41.059120Z",
     "iopub.status.busy": "2023-11-15T23:28:41.058742Z",
     "iopub.status.idle": "2023-11-15T23:28:41.538128Z",
     "shell.execute_reply": "2023-11-15T23:28:41.537531Z",
     "shell.execute_reply.started": "2023-11-15T23:28:41.059084Z"
    }
   },
   "outputs": [],
   "source": [
    "from rtb.datasets import get_dataset\n",
    "from rtb.utils import rolling_window_sampler, one_window_sampler"
   ]
  },
  {
   "cell_type": "code",
   "execution_count": 25,
   "id": "7c9d1987-1582-4115-92e2-23d4e9da3a98",
   "metadata": {
    "execution": {
     "iopub.execute_input": "2023-11-15T23:48:45.378690Z",
     "iopub.status.busy": "2023-11-15T23:48:45.378278Z",
     "iopub.status.idle": "2023-11-15T23:51:21.297337Z",
     "shell.execute_reply": "2023-11-15T23:51:21.296200Z",
     "shell.execute_reply.started": "2023-11-15T23:48:45.378655Z"
    }
   },
   "outputs": [
    {
     "name": "stdout",
     "output_type": "stream",
     "text": [
      "processing db...\n",
      "reading product info from ../../data/rtb-product/books-5-core/raw/meta_Books.json...\n",
      "done in 1.25 seconds.\n",
      "converting to pandas dataframe...\n",
      "done in 5.64 seconds.\n",
      "processing product info...\n",
      "done in 4.11 seconds.\n",
      "reading review and customer info from ../../data/rtb-product/books-5-core/raw/Books_5.json...\n",
      "done in 8.65 seconds.\n",
      "converting to pandas dataframe...\n",
      "done in 40.98 seconds.\n",
      "processing review and customer info...\n",
      "done in 1.64 seconds.\n",
      "keeping only products common to product and review tables...\n",
      "done in 9.77 seconds.\n",
      "extracting customer table...\n",
      "done in 8.41 seconds.\n",
      "processing db took 80.87 seconds.\n",
      "reindexing pkeys and fkeys...\n",
      "reindexing pkeys and fkeys took 12.32 seconds.\n",
      "saving table product...\n",
      "done in 2.21 seconds.\n",
      "saving table customer...\n",
      "done in 0.38 seconds.\n",
      "saving table review...\n",
      "done in 60.04 seconds.\n"
     ]
    }
   ],
   "source": [
    "ds = get_dataset(\n",
    "    name=\"rtb-product\",\n",
    "    root=\"../../data\",\n",
    "    # default is books-5-core\n",
    "    # category=\"fashion\",\n",
    "    # use_5_core=False,\n",
    "    process=True,\n",
    ")"
   ]
  },
  {
   "cell_type": "code",
   "execution_count": 26,
   "id": "999cf3cc-a470-4413-af3c-1e1e7a32adb4",
   "metadata": {
    "execution": {
     "iopub.execute_input": "2023-11-15T23:51:44.385677Z",
     "iopub.status.busy": "2023-11-15T23:51:44.385212Z",
     "iopub.status.idle": "2023-11-15T23:51:44.615272Z",
     "shell.execute_reply": "2023-11-15T23:51:44.614412Z",
     "shell.execute_reply.started": "2023-11-15T23:51:44.385639Z"
    }
   },
   "outputs": [],
   "source": [
    "db = ds._db"
   ]
  },
  {
   "cell_type": "code",
   "execution_count": 27,
   "id": "1ea16577-ca56-4edb-b459-e506f3c3f6b4",
   "metadata": {
    "execution": {
     "iopub.execute_input": "2023-11-15T23:51:45.455445Z",
     "iopub.status.busy": "2023-11-15T23:51:45.455099Z",
     "iopub.status.idle": "2023-11-15T23:51:45.472324Z",
     "shell.execute_reply": "2023-11-15T23:51:45.471614Z",
     "shell.execute_reply.started": "2023-11-15T23:51:45.455410Z"
    }
   },
   "outputs": [],
   "source": [
    "customer = db.tables[\"customer\"].df\n",
    "product = db.tables[\"product\"].df\n",
    "review = db.tables[\"review\"].df"
   ]
  },
  {
   "cell_type": "code",
   "execution_count": 28,
   "id": "559e16ec-8d0f-4ae0-8721-a254af40509a",
   "metadata": {
    "execution": {
     "iopub.execute_input": "2023-11-15T23:51:46.681979Z",
     "iopub.status.busy": "2023-11-15T23:51:46.681640Z",
     "iopub.status.idle": "2023-11-15T23:51:46.700978Z",
     "shell.execute_reply": "2023-11-15T23:51:46.700489Z",
     "shell.execute_reply.started": "2023-11-15T23:51:46.681946Z"
    }
   },
   "outputs": [
    {
     "data": {
      "text/html": [
       "<div>\n",
       "<style scoped>\n",
       "    .dataframe tbody tr th:only-of-type {\n",
       "        vertical-align: middle;\n",
       "    }\n",
       "\n",
       "    .dataframe tbody tr th {\n",
       "        vertical-align: top;\n",
       "    }\n",
       "\n",
       "    .dataframe thead th {\n",
       "        text-align: right;\n",
       "    }\n",
       "</style>\n",
       "<table border=\"1\" class=\"dataframe\">\n",
       "  <thead>\n",
       "    <tr style=\"text-align: right;\">\n",
       "      <th></th>\n",
       "      <th>customer_id</th>\n",
       "      <th>customer_name</th>\n",
       "    </tr>\n",
       "  </thead>\n",
       "  <tbody>\n",
       "    <tr>\n",
       "      <th>0</th>\n",
       "      <td>0</td>\n",
       "      <td>TW Ervin II</td>\n",
       "    </tr>\n",
       "    <tr>\n",
       "      <th>1</th>\n",
       "      <td>1</td>\n",
       "      <td>Amazon Customer</td>\n",
       "    </tr>\n",
       "    <tr>\n",
       "      <th>2</th>\n",
       "      <td>2</td>\n",
       "      <td>Tekla Borner</td>\n",
       "    </tr>\n",
       "    <tr>\n",
       "      <th>3</th>\n",
       "      <td>3</td>\n",
       "      <td>Deborah K Woroniecki</td>\n",
       "    </tr>\n",
       "    <tr>\n",
       "      <th>4</th>\n",
       "      <td>4</td>\n",
       "      <td>E</td>\n",
       "    </tr>\n",
       "    <tr>\n",
       "      <th>...</th>\n",
       "      <td>...</td>\n",
       "      <td>...</td>\n",
       "    </tr>\n",
       "    <tr>\n",
       "      <th>27156207</th>\n",
       "      <td>1850188</td>\n",
       "      <td>Amazon Customer</td>\n",
       "    </tr>\n",
       "    <tr>\n",
       "      <th>27156208</th>\n",
       "      <td>1850189</td>\n",
       "      <td>AmizoP</td>\n",
       "    </tr>\n",
       "    <tr>\n",
       "      <th>27161776</th>\n",
       "      <td>1850190</td>\n",
       "      <td>JuicyBeans</td>\n",
       "    </tr>\n",
       "    <tr>\n",
       "      <th>27161778</th>\n",
       "      <td>1850191</td>\n",
       "      <td>Halley Cortez</td>\n",
       "    </tr>\n",
       "    <tr>\n",
       "      <th>27161800</th>\n",
       "      <td>1850192</td>\n",
       "      <td>RNqueen</td>\n",
       "    </tr>\n",
       "  </tbody>\n",
       "</table>\n",
       "<p>1850193 rows × 2 columns</p>\n",
       "</div>"
      ],
      "text/plain": [
       "          customer_id         customer_name\n",
       "0                   0           TW Ervin II\n",
       "1                   1       Amazon Customer\n",
       "2                   2          Tekla Borner\n",
       "3                   3  Deborah K Woroniecki\n",
       "4                   4                     E\n",
       "...               ...                   ...\n",
       "27156207      1850188       Amazon Customer\n",
       "27156208      1850189                AmizoP\n",
       "27161776      1850190            JuicyBeans\n",
       "27161778      1850191         Halley Cortez\n",
       "27161800      1850192               RNqueen\n",
       "\n",
       "[1850193 rows x 2 columns]"
      ]
     },
     "execution_count": 28,
     "metadata": {},
     "output_type": "execute_result"
    }
   ],
   "source": [
    "db.tables[\"customer\"].df"
   ]
  },
  {
   "cell_type": "code",
   "execution_count": 29,
   "id": "a5115f80-4c86-4131-8ad4-f32af815041d",
   "metadata": {
    "execution": {
     "iopub.execute_input": "2023-11-15T23:51:47.198351Z",
     "iopub.status.busy": "2023-11-15T23:51:47.198108Z",
     "iopub.status.idle": "2023-11-15T23:51:47.214373Z",
     "shell.execute_reply": "2023-11-15T23:51:47.213876Z",
     "shell.execute_reply.started": "2023-11-15T23:51:47.198334Z"
    }
   },
   "outputs": [
    {
     "data": {
      "text/html": [
       "<div>\n",
       "<style scoped>\n",
       "    .dataframe tbody tr th:only-of-type {\n",
       "        vertical-align: middle;\n",
       "    }\n",
       "\n",
       "    .dataframe tbody tr th {\n",
       "        vertical-align: top;\n",
       "    }\n",
       "\n",
       "    .dataframe thead th {\n",
       "        text-align: right;\n",
       "    }\n",
       "</style>\n",
       "<table border=\"1\" class=\"dataframe\">\n",
       "  <thead>\n",
       "    <tr style=\"text-align: right;\">\n",
       "      <th></th>\n",
       "      <th>product_id</th>\n",
       "      <th>category</th>\n",
       "      <th>brand</th>\n",
       "      <th>title</th>\n",
       "      <th>description</th>\n",
       "      <th>price</th>\n",
       "    </tr>\n",
       "  </thead>\n",
       "  <tbody>\n",
       "    <tr>\n",
       "      <th>16</th>\n",
       "      <td>0</td>\n",
       "      <td>[Books, Literature &amp; Fiction, Dramas &amp; Plays]</td>\n",
       "      <td>Visit Amazon's William Shakespeare Page</td>\n",
       "      <td>Love's Labour's Lost: Performed by Derek Jacob...</td>\n",
       "      <td>William Shakespeare is widely regarded as the ...</td>\n",
       "      <td>20.93</td>\n",
       "    </tr>\n",
       "    <tr>\n",
       "      <th>25</th>\n",
       "      <td>1</td>\n",
       "      <td>[Books, Children's Books, Literature &amp; Fiction]</td>\n",
       "      <td>Louis (ed) UNTERMEYER</td>\n",
       "      <td>The golden treasury of poetry</td>\n",
       "      <td>Collection of Poetry</td>\n",
       "      <td>23.98</td>\n",
       "    </tr>\n",
       "    <tr>\n",
       "      <th>33</th>\n",
       "      <td>2</td>\n",
       "      <td>[Books, Mystery, Thriller &amp; Suspense]</td>\n",
       "      <td>Visit Amazon's Agatha Christie Page</td>\n",
       "      <td>The Blue Geranium (Miss Marple)</td>\n",
       "      <td>None</td>\n",
       "      <td>8.82</td>\n",
       "    </tr>\n",
       "    <tr>\n",
       "      <th>42</th>\n",
       "      <td>3</td>\n",
       "      <td>[Books, Humor &amp; Entertainment]</td>\n",
       "      <td>Visit Amazon's Tom Baker Page</td>\n",
       "      <td>Who on Earth Is Tom Baker?</td>\n",
       "      <td>Tom Baker's autobiography covers his childhood...</td>\n",
       "      <td>159.95</td>\n",
       "    </tr>\n",
       "    <tr>\n",
       "      <th>61</th>\n",
       "      <td>4</td>\n",
       "      <td>[Books, Christian Books &amp; Bibles, Bible Study ...</td>\n",
       "      <td>Visit Amazon's Clarence Larkin Page</td>\n",
       "      <td>The Greatest Book on &amp;quot;Dispensational Trut...</td>\n",
       "      <td>The Greatest Book on Dispensational Truth in t...</td>\n",
       "      <td>44.76</td>\n",
       "    </tr>\n",
       "    <tr>\n",
       "      <th>...</th>\n",
       "      <td>...</td>\n",
       "      <td>...</td>\n",
       "      <td>...</td>\n",
       "      <td>...</td>\n",
       "      <td>...</td>\n",
       "      <td>...</td>\n",
       "    </tr>\n",
       "    <tr>\n",
       "      <th>2933518</th>\n",
       "      <td>506007</td>\n",
       "      <td>None</td>\n",
       "      <td>Tricia &amp; Putman, Cara Goyer</td>\n",
       "      <td>Mason Jar Mayhem</td>\n",
       "      <td>Spring has come to Sugarcreek, and the communi...</td>\n",
       "      <td>15.05</td>\n",
       "    </tr>\n",
       "    <tr>\n",
       "      <th>2933605</th>\n",
       "      <td>506008</td>\n",
       "      <td>None</td>\n",
       "      <td>Author</td>\n",
       "      <td>The Little Book of Pussy (2013-06-16) [Paperback]</td>\n",
       "      <td>From the time The Big Penis Book was published...</td>\n",
       "      <td>17.0</td>\n",
       "    </tr>\n",
       "    <tr>\n",
       "      <th>2934395</th>\n",
       "      <td>506009</td>\n",
       "      <td>None</td>\n",
       "      <td></td>\n",
       "      <td>The Age of Not Believing: A Christmas Tale by ...</td>\n",
       "      <td>None</td>\n",
       "      <td>42.93</td>\n",
       "    </tr>\n",
       "    <tr>\n",
       "      <th>2934407</th>\n",
       "      <td>506010</td>\n",
       "      <td>None</td>\n",
       "      <td></td>\n",
       "      <td>The Charlies Angels' Casebook</td>\n",
       "      <td>None</td>\n",
       "      <td>17.87</td>\n",
       "    </tr>\n",
       "    <tr>\n",
       "      <th>2934414</th>\n",
       "      <td>506011</td>\n",
       "      <td>None</td>\n",
       "      <td></td>\n",
       "      <td>Underwater Photography Masterclass by Alex Mus...</td>\n",
       "      <td>None</td>\n",
       "      <td>46.62</td>\n",
       "    </tr>\n",
       "  </tbody>\n",
       "</table>\n",
       "<p>506012 rows × 6 columns</p>\n",
       "</div>"
      ],
      "text/plain": [
       "         product_id                                           category  \\\n",
       "16                0      [Books, Literature & Fiction, Dramas & Plays]   \n",
       "25                1    [Books, Children's Books, Literature & Fiction]   \n",
       "33                2              [Books, Mystery, Thriller & Suspense]   \n",
       "42                3                     [Books, Humor & Entertainment]   \n",
       "61                4  [Books, Christian Books & Bibles, Bible Study ...   \n",
       "...             ...                                                ...   \n",
       "2933518      506007                                               None   \n",
       "2933605      506008                                               None   \n",
       "2934395      506009                                               None   \n",
       "2934407      506010                                               None   \n",
       "2934414      506011                                               None   \n",
       "\n",
       "                                           brand  \\\n",
       "16       Visit Amazon's William Shakespeare Page   \n",
       "25                         Louis (ed) UNTERMEYER   \n",
       "33           Visit Amazon's Agatha Christie Page   \n",
       "42                 Visit Amazon's Tom Baker Page   \n",
       "61           Visit Amazon's Clarence Larkin Page   \n",
       "...                                          ...   \n",
       "2933518              Tricia & Putman, Cara Goyer   \n",
       "2933605                                   Author   \n",
       "2934395                                            \n",
       "2934407                                            \n",
       "2934414                                            \n",
       "\n",
       "                                                     title  \\\n",
       "16       Love's Labour's Lost: Performed by Derek Jacob...   \n",
       "25                           The golden treasury of poetry   \n",
       "33                         The Blue Geranium (Miss Marple)   \n",
       "42                              Who on Earth Is Tom Baker?   \n",
       "61       The Greatest Book on &quot;Dispensational Trut...   \n",
       "...                                                    ...   \n",
       "2933518                                   Mason Jar Mayhem   \n",
       "2933605  The Little Book of Pussy (2013-06-16) [Paperback]   \n",
       "2934395  The Age of Not Believing: A Christmas Tale by ...   \n",
       "2934407                      The Charlies Angels' Casebook   \n",
       "2934414  Underwater Photography Masterclass by Alex Mus...   \n",
       "\n",
       "                                               description   price  \n",
       "16       William Shakespeare is widely regarded as the ...   20.93  \n",
       "25                                    Collection of Poetry   23.98  \n",
       "33                                                    None    8.82  \n",
       "42       Tom Baker's autobiography covers his childhood...  159.95  \n",
       "61       The Greatest Book on Dispensational Truth in t...   44.76  \n",
       "...                                                    ...     ...  \n",
       "2933518  Spring has come to Sugarcreek, and the communi...   15.05  \n",
       "2933605  From the time The Big Penis Book was published...    17.0  \n",
       "2934395                                               None   42.93  \n",
       "2934407                                               None   17.87  \n",
       "2934414                                               None   46.62  \n",
       "\n",
       "[506012 rows x 6 columns]"
      ]
     },
     "execution_count": 29,
     "metadata": {},
     "output_type": "execute_result"
    }
   ],
   "source": [
    "product"
   ]
  },
  {
   "cell_type": "code",
   "execution_count": 30,
   "id": "39bd3e12-68c4-4e7a-9f5e-ce7ae0f4ca9a",
   "metadata": {
    "execution": {
     "iopub.execute_input": "2023-11-15T23:51:49.270577Z",
     "iopub.status.busy": "2023-11-15T23:51:49.269908Z",
     "iopub.status.idle": "2023-11-15T23:51:49.296225Z",
     "shell.execute_reply": "2023-11-15T23:51:49.295554Z",
     "shell.execute_reply.started": "2023-11-15T23:51:49.270512Z"
    }
   },
   "outputs": [
    {
     "data": {
      "text/html": [
       "<div>\n",
       "<style scoped>\n",
       "    .dataframe tbody tr th:only-of-type {\n",
       "        vertical-align: middle;\n",
       "    }\n",
       "\n",
       "    .dataframe tbody tr th {\n",
       "        vertical-align: top;\n",
       "    }\n",
       "\n",
       "    .dataframe thead th {\n",
       "        text-align: right;\n",
       "    }\n",
       "</style>\n",
       "<table border=\"1\" class=\"dataframe\">\n",
       "  <thead>\n",
       "    <tr style=\"text-align: right;\">\n",
       "      <th></th>\n",
       "      <th>review_time</th>\n",
       "      <th>customer_id</th>\n",
       "      <th>product_id</th>\n",
       "      <th>rating</th>\n",
       "      <th>verified</th>\n",
       "      <th>review_text</th>\n",
       "      <th>summary</th>\n",
       "    </tr>\n",
       "  </thead>\n",
       "  <tbody>\n",
       "    <tr>\n",
       "      <th>0</th>\n",
       "      <td>2005-03-30</td>\n",
       "      <td>0</td>\n",
       "      <td>14</td>\n",
       "      <td>5.0</td>\n",
       "      <td>False</td>\n",
       "      <td>The King, the Mice and the Cheese by Nancy Gur...</td>\n",
       "      <td>A story children will love and learn from</td>\n",
       "    </tr>\n",
       "    <tr>\n",
       "      <th>1</th>\n",
       "      <td>2016-06-20</td>\n",
       "      <td>1</td>\n",
       "      <td>14</td>\n",
       "      <td>5.0</td>\n",
       "      <td>True</td>\n",
       "      <td>The kids loved it!</td>\n",
       "      <td>Five Stars</td>\n",
       "    </tr>\n",
       "    <tr>\n",
       "      <th>2</th>\n",
       "      <td>2016-01-24</td>\n",
       "      <td>2</td>\n",
       "      <td>14</td>\n",
       "      <td>5.0</td>\n",
       "      <td>True</td>\n",
       "      <td>My students (3 &amp; 4 year olds) loved this book!...</td>\n",
       "      <td>Five Stars</td>\n",
       "    </tr>\n",
       "    <tr>\n",
       "      <th>3</th>\n",
       "      <td>2015-07-09</td>\n",
       "      <td>3</td>\n",
       "      <td>14</td>\n",
       "      <td>5.0</td>\n",
       "      <td>False</td>\n",
       "      <td>LOVE IT</td>\n",
       "      <td>Five Stars</td>\n",
       "    </tr>\n",
       "    <tr>\n",
       "      <th>4</th>\n",
       "      <td>2015-01-18</td>\n",
       "      <td>4</td>\n",
       "      <td>14</td>\n",
       "      <td>5.0</td>\n",
       "      <td>True</td>\n",
       "      <td>Great!</td>\n",
       "      <td>Five Stars</td>\n",
       "    </tr>\n",
       "    <tr>\n",
       "      <th>...</th>\n",
       "      <td>...</td>\n",
       "      <td>...</td>\n",
       "      <td>...</td>\n",
       "      <td>...</td>\n",
       "      <td>...</td>\n",
       "      <td>...</td>\n",
       "      <td>...</td>\n",
       "    </tr>\n",
       "    <tr>\n",
       "      <th>27164624</th>\n",
       "      <td>2012-12-02</td>\n",
       "      <td>319196</td>\n",
       "      <td>506010</td>\n",
       "      <td>5.0</td>\n",
       "      <td>False</td>\n",
       "      <td>This past year fans of \"Charlie's Angels\" were...</td>\n",
       "      <td>\"NOW THIS IS THE COMPANION TO THE \"CHARLIE'S A...</td>\n",
       "    </tr>\n",
       "    <tr>\n",
       "      <th>27164625</th>\n",
       "      <td>2008-12-15</td>\n",
       "      <td>1407251</td>\n",
       "      <td>506010</td>\n",
       "      <td>5.0</td>\n",
       "      <td>True</td>\n",
       "      <td>For any fan of Charlie's Angels, this book is ...</td>\n",
       "      <td>An Excellent Case!</td>\n",
       "    </tr>\n",
       "    <tr>\n",
       "      <th>27164626</th>\n",
       "      <td>2007-06-15</td>\n",
       "      <td>1373107</td>\n",
       "      <td>506010</td>\n",
       "      <td>3.0</td>\n",
       "      <td>False</td>\n",
       "      <td>To review this book I will divide it into two ...</td>\n",
       "      <td>Great Stories But A Little One-Sided</td>\n",
       "    </tr>\n",
       "    <tr>\n",
       "      <th>27164627</th>\n",
       "      <td>2018-05-27</td>\n",
       "      <td>319324</td>\n",
       "      <td>506011</td>\n",
       "      <td>3.0</td>\n",
       "      <td>True</td>\n",
       "      <td>Great pictures, good recommendations but not t...</td>\n",
       "      <td>Don't buy if your looking for details and sett...</td>\n",
       "    </tr>\n",
       "    <tr>\n",
       "      <th>27164628</th>\n",
       "      <td>2017-09-11</td>\n",
       "      <td>1703463</td>\n",
       "      <td>506011</td>\n",
       "      <td>5.0</td>\n",
       "      <td>True</td>\n",
       "      <td>Superb book. Very useful.</td>\n",
       "      <td>Superb book.</td>\n",
       "    </tr>\n",
       "  </tbody>\n",
       "</table>\n",
       "<p>21935284 rows × 7 columns</p>\n",
       "</div>"
      ],
      "text/plain": [
       "         review_time  customer_id  product_id  rating  verified  \\\n",
       "0         2005-03-30            0          14     5.0     False   \n",
       "1         2016-06-20            1          14     5.0      True   \n",
       "2         2016-01-24            2          14     5.0      True   \n",
       "3         2015-07-09            3          14     5.0     False   \n",
       "4         2015-01-18            4          14     5.0      True   \n",
       "...              ...          ...         ...     ...       ...   \n",
       "27164624  2012-12-02       319196      506010     5.0     False   \n",
       "27164625  2008-12-15      1407251      506010     5.0      True   \n",
       "27164626  2007-06-15      1373107      506010     3.0     False   \n",
       "27164627  2018-05-27       319324      506011     3.0      True   \n",
       "27164628  2017-09-11      1703463      506011     5.0      True   \n",
       "\n",
       "                                                review_text  \\\n",
       "0         The King, the Mice and the Cheese by Nancy Gur...   \n",
       "1                                        The kids loved it!   \n",
       "2         My students (3 & 4 year olds) loved this book!...   \n",
       "3                                                   LOVE IT   \n",
       "4                                                    Great!   \n",
       "...                                                     ...   \n",
       "27164624  This past year fans of \"Charlie's Angels\" were...   \n",
       "27164625  For any fan of Charlie's Angels, this book is ...   \n",
       "27164626  To review this book I will divide it into two ...   \n",
       "27164627  Great pictures, good recommendations but not t...   \n",
       "27164628                          Superb book. Very useful.   \n",
       "\n",
       "                                                    summary  \n",
       "0                 A story children will love and learn from  \n",
       "1                                                Five Stars  \n",
       "2                                                Five Stars  \n",
       "3                                                Five Stars  \n",
       "4                                                Five Stars  \n",
       "...                                                     ...  \n",
       "27164624  \"NOW THIS IS THE COMPANION TO THE \"CHARLIE'S A...  \n",
       "27164625                                 An Excellent Case!  \n",
       "27164626               Great Stories But A Little One-Sided  \n",
       "27164627  Don't buy if your looking for details and sett...  \n",
       "27164628                                       Superb book.  \n",
       "\n",
       "[21935284 rows x 7 columns]"
      ]
     },
     "execution_count": 30,
     "metadata": {},
     "output_type": "execute_result"
    }
   ],
   "source": [
    "review"
   ]
  },
  {
   "cell_type": "markdown",
   "id": "647c4d05-007e-4584-b2a4-98565a8f737e",
   "metadata": {},
   "source": [
    "## LTV"
   ]
  },
  {
   "cell_type": "code",
   "execution_count": 31,
   "id": "7541c166-af62-4915-9815-54af96dc7006",
   "metadata": {
    "execution": {
     "iopub.execute_input": "2023-11-15T23:51:49.297569Z",
     "iopub.status.busy": "2023-11-15T23:51:49.297355Z",
     "iopub.status.idle": "2023-11-15T23:51:49.336853Z",
     "shell.execute_reply": "2023-11-15T23:51:49.336110Z",
     "shell.execute_reply.started": "2023-11-15T23:51:49.297553Z"
    }
   },
   "outputs": [
    {
     "data": {
      "text/plain": [
       "Timedelta('364 days 00:00:00')"
      ]
     },
     "execution_count": 31,
     "metadata": {},
     "output_type": "execute_result"
    }
   ],
   "source": [
    "window_size = ds.tasks[\"ltv\"].window_sizes[0]\n",
    "window_size"
   ]
  },
  {
   "cell_type": "markdown",
   "id": "e029889c-e6b0-4cc0-ad87-680bb39c897c",
   "metadata": {
    "execution": {
     "iopub.execute_input": "2023-11-15T05:58:40.530507Z",
     "iopub.status.busy": "2023-11-15T05:58:40.530055Z",
     "iopub.status.idle": "2023-11-15T05:58:40.557811Z",
     "shell.execute_reply": "2023-11-15T05:58:40.557146Z",
     "shell.execute_reply.started": "2023-11-15T05:58:40.530470Z"
    }
   },
   "source": [
    "### train table"
   ]
  },
  {
   "cell_type": "code",
   "execution_count": 32,
   "id": "709463e5-6c36-40d9-8f6e-e50e983ecd7e",
   "metadata": {
    "execution": {
     "iopub.execute_input": "2023-11-15T23:51:49.580148Z",
     "iopub.status.busy": "2023-11-15T23:51:49.579530Z",
     "iopub.status.idle": "2023-11-15T23:51:49.598873Z",
     "shell.execute_reply": "2023-11-15T23:51:49.598253Z",
     "shell.execute_reply.started": "2023-11-15T23:51:49.580114Z"
    }
   },
   "outputs": [
    {
     "data": {
      "text/html": [
       "<div>\n",
       "<style scoped>\n",
       "    .dataframe tbody tr th:only-of-type {\n",
       "        vertical-align: middle;\n",
       "    }\n",
       "\n",
       "    .dataframe tbody tr th {\n",
       "        vertical-align: top;\n",
       "    }\n",
       "\n",
       "    .dataframe thead th {\n",
       "        text-align: right;\n",
       "    }\n",
       "</style>\n",
       "<table border=\"1\" class=\"dataframe\">\n",
       "  <thead>\n",
       "    <tr style=\"text-align: right;\">\n",
       "      <th></th>\n",
       "      <th>window_min_time</th>\n",
       "      <th>window_max_time</th>\n",
       "    </tr>\n",
       "  </thead>\n",
       "  <tbody>\n",
       "    <tr>\n",
       "      <th>0</th>\n",
       "      <td>1996-06-25 00:00:01</td>\n",
       "      <td>1997-06-24 00:00:01</td>\n",
       "    </tr>\n",
       "    <tr>\n",
       "      <th>1</th>\n",
       "      <td>1997-06-24 00:00:01</td>\n",
       "      <td>1998-06-23 00:00:01</td>\n",
       "    </tr>\n",
       "    <tr>\n",
       "      <th>2</th>\n",
       "      <td>1998-06-23 00:00:01</td>\n",
       "      <td>1999-06-22 00:00:01</td>\n",
       "    </tr>\n",
       "    <tr>\n",
       "      <th>3</th>\n",
       "      <td>1999-06-22 00:00:01</td>\n",
       "      <td>2000-06-20 00:00:01</td>\n",
       "    </tr>\n",
       "    <tr>\n",
       "      <th>4</th>\n",
       "      <td>2000-06-20 00:00:01</td>\n",
       "      <td>2001-06-19 00:00:01</td>\n",
       "    </tr>\n",
       "    <tr>\n",
       "      <th>5</th>\n",
       "      <td>2001-06-19 00:00:01</td>\n",
       "      <td>2002-06-18 00:00:01</td>\n",
       "    </tr>\n",
       "    <tr>\n",
       "      <th>6</th>\n",
       "      <td>2002-06-18 00:00:01</td>\n",
       "      <td>2003-06-17 00:00:01</td>\n",
       "    </tr>\n",
       "    <tr>\n",
       "      <th>7</th>\n",
       "      <td>2003-06-17 00:00:01</td>\n",
       "      <td>2004-06-15 00:00:01</td>\n",
       "    </tr>\n",
       "    <tr>\n",
       "      <th>8</th>\n",
       "      <td>2004-06-15 00:00:01</td>\n",
       "      <td>2005-06-14 00:00:01</td>\n",
       "    </tr>\n",
       "    <tr>\n",
       "      <th>9</th>\n",
       "      <td>2005-06-14 00:00:01</td>\n",
       "      <td>2006-06-13 00:00:01</td>\n",
       "    </tr>\n",
       "    <tr>\n",
       "      <th>10</th>\n",
       "      <td>2006-06-13 00:00:01</td>\n",
       "      <td>2007-06-12 00:00:01</td>\n",
       "    </tr>\n",
       "    <tr>\n",
       "      <th>11</th>\n",
       "      <td>2007-06-12 00:00:01</td>\n",
       "      <td>2008-06-10 00:00:01</td>\n",
       "    </tr>\n",
       "    <tr>\n",
       "      <th>12</th>\n",
       "      <td>2008-06-10 00:00:01</td>\n",
       "      <td>2009-06-09 00:00:01</td>\n",
       "    </tr>\n",
       "    <tr>\n",
       "      <th>13</th>\n",
       "      <td>2009-06-09 00:00:01</td>\n",
       "      <td>2010-06-08 00:00:01</td>\n",
       "    </tr>\n",
       "    <tr>\n",
       "      <th>14</th>\n",
       "      <td>2010-06-08 00:00:01</td>\n",
       "      <td>2011-06-07 00:00:01</td>\n",
       "    </tr>\n",
       "    <tr>\n",
       "      <th>15</th>\n",
       "      <td>2011-06-07 00:00:01</td>\n",
       "      <td>2012-06-05 00:00:01</td>\n",
       "    </tr>\n",
       "    <tr>\n",
       "      <th>16</th>\n",
       "      <td>2012-06-05 00:00:01</td>\n",
       "      <td>2013-06-04 00:00:01</td>\n",
       "    </tr>\n",
       "  </tbody>\n",
       "</table>\n",
       "</div>"
      ],
      "text/plain": [
       "       window_min_time     window_max_time\n",
       "0  1996-06-25 00:00:01 1997-06-24 00:00:01\n",
       "1  1997-06-24 00:00:01 1998-06-23 00:00:01\n",
       "2  1998-06-23 00:00:01 1999-06-22 00:00:01\n",
       "3  1999-06-22 00:00:01 2000-06-20 00:00:01\n",
       "4  2000-06-20 00:00:01 2001-06-19 00:00:01\n",
       "5  2001-06-19 00:00:01 2002-06-18 00:00:01\n",
       "6  2002-06-18 00:00:01 2003-06-17 00:00:01\n",
       "7  2003-06-17 00:00:01 2004-06-15 00:00:01\n",
       "8  2004-06-15 00:00:01 2005-06-14 00:00:01\n",
       "9  2005-06-14 00:00:01 2006-06-13 00:00:01\n",
       "10 2006-06-13 00:00:01 2007-06-12 00:00:01\n",
       "11 2007-06-12 00:00:01 2008-06-10 00:00:01\n",
       "12 2008-06-10 00:00:01 2009-06-09 00:00:01\n",
       "13 2009-06-09 00:00:01 2010-06-08 00:00:01\n",
       "14 2010-06-08 00:00:01 2011-06-07 00:00:01\n",
       "15 2011-06-07 00:00:01 2012-06-05 00:00:01\n",
       "16 2012-06-05 00:00:01 2013-06-04 00:00:01"
      ]
     },
     "execution_count": 32,
     "metadata": {},
     "output_type": "execute_result"
    }
   ],
   "source": [
    "# default time window sampler used inside make_train_table\n",
    "time_window_df = rolling_window_sampler(\n",
    "    ds.min_time, ds.train_max_time, window_size, window_size\n",
    ")\n",
    "time_window_df"
   ]
  },
  {
   "cell_type": "code",
   "execution_count": 33,
   "id": "c3a070ed-9423-4ce7-99c0-2699f78c9f58",
   "metadata": {
    "execution": {
     "iopub.execute_input": "2023-11-15T23:51:49.820071Z",
     "iopub.status.busy": "2023-11-15T23:51:49.819052Z",
     "iopub.status.idle": "2023-11-15T23:52:01.699719Z",
     "shell.execute_reply": "2023-11-15T23:52:01.698610Z",
     "shell.execute_reply.started": "2023-11-15T23:51:49.820019Z"
    }
   },
   "outputs": [
    {
     "data": {
      "application/vnd.jupyter.widget-view+json": {
       "model_id": "5aa7a9cae31b4e91ae9a2d2e6b9f2307",
       "version_major": 2,
       "version_minor": 0
      },
      "text/plain": [
       "FloatProgress(value=0.0, layout=Layout(width='auto'), style=ProgressStyle(bar_color='black'))"
      ]
     },
     "metadata": {},
     "output_type": "display_data"
    }
   ],
   "source": [
    "train_table = ds.make_train_table(\"ltv\", window_size)"
   ]
  },
  {
   "cell_type": "code",
   "execution_count": 34,
   "id": "1023c4d7-48c7-414d-bfcc-4cb601ce6e00",
   "metadata": {
    "execution": {
     "iopub.execute_input": "2023-11-15T23:52:01.701339Z",
     "iopub.status.busy": "2023-11-15T23:52:01.701172Z",
     "iopub.status.idle": "2023-11-15T23:52:01.723152Z",
     "shell.execute_reply": "2023-11-15T23:52:01.722433Z",
     "shell.execute_reply.started": "2023-11-15T23:52:01.701321Z"
    }
   },
   "outputs": [
    {
     "data": {
      "text/html": [
       "<div>\n",
       "<style scoped>\n",
       "    .dataframe tbody tr th:only-of-type {\n",
       "        vertical-align: middle;\n",
       "    }\n",
       "\n",
       "    .dataframe tbody tr th {\n",
       "        vertical-align: top;\n",
       "    }\n",
       "\n",
       "    .dataframe thead th {\n",
       "        text-align: right;\n",
       "    }\n",
       "</style>\n",
       "<table border=\"1\" class=\"dataframe\">\n",
       "  <thead>\n",
       "    <tr style=\"text-align: right;\">\n",
       "      <th></th>\n",
       "      <th>window_min_time</th>\n",
       "      <th>window_max_time</th>\n",
       "      <th>customer_id</th>\n",
       "      <th>ltv</th>\n",
       "      <th>count</th>\n",
       "    </tr>\n",
       "  </thead>\n",
       "  <tbody>\n",
       "    <tr>\n",
       "      <th>0</th>\n",
       "      <td>1996-06-25 00:00:01</td>\n",
       "      <td>1997-06-24 00:00:01</td>\n",
       "      <td>1843200</td>\n",
       "      <td>0.00</td>\n",
       "      <td>0</td>\n",
       "    </tr>\n",
       "    <tr>\n",
       "      <th>1</th>\n",
       "      <td>1996-06-25 00:00:01</td>\n",
       "      <td>1997-06-24 00:00:01</td>\n",
       "      <td>1843201</td>\n",
       "      <td>0.00</td>\n",
       "      <td>0</td>\n",
       "    </tr>\n",
       "    <tr>\n",
       "      <th>2</th>\n",
       "      <td>1996-06-25 00:00:01</td>\n",
       "      <td>1997-06-24 00:00:01</td>\n",
       "      <td>1843203</td>\n",
       "      <td>0.00</td>\n",
       "      <td>0</td>\n",
       "    </tr>\n",
       "    <tr>\n",
       "      <th>3</th>\n",
       "      <td>1996-06-25 00:00:01</td>\n",
       "      <td>1997-06-24 00:00:01</td>\n",
       "      <td>1843205</td>\n",
       "      <td>0.00</td>\n",
       "      <td>0</td>\n",
       "    </tr>\n",
       "    <tr>\n",
       "      <th>4</th>\n",
       "      <td>1996-06-25 00:00:01</td>\n",
       "      <td>1997-06-24 00:00:01</td>\n",
       "      <td>1843206</td>\n",
       "      <td>0.00</td>\n",
       "      <td>0</td>\n",
       "    </tr>\n",
       "    <tr>\n",
       "      <th>...</th>\n",
       "      <td>...</td>\n",
       "      <td>...</td>\n",
       "      <td>...</td>\n",
       "      <td>...</td>\n",
       "      <td>...</td>\n",
       "    </tr>\n",
       "    <tr>\n",
       "      <th>31453276</th>\n",
       "      <td>2012-06-05 00:00:01</td>\n",
       "      <td>2013-06-04 00:00:01</td>\n",
       "      <td>1023989</td>\n",
       "      <td>24.09</td>\n",
       "      <td>2</td>\n",
       "    </tr>\n",
       "    <tr>\n",
       "      <th>31453277</th>\n",
       "      <td>2012-06-05 00:00:01</td>\n",
       "      <td>2013-06-04 00:00:01</td>\n",
       "      <td>1023991</td>\n",
       "      <td>29.24</td>\n",
       "      <td>2</td>\n",
       "    </tr>\n",
       "    <tr>\n",
       "      <th>31453278</th>\n",
       "      <td>2012-06-05 00:00:01</td>\n",
       "      <td>2013-06-04 00:00:01</td>\n",
       "      <td>1021954</td>\n",
       "      <td>0.00</td>\n",
       "      <td>0</td>\n",
       "    </tr>\n",
       "    <tr>\n",
       "      <th>31453279</th>\n",
       "      <td>2012-06-05 00:00:01</td>\n",
       "      <td>2013-06-04 00:00:01</td>\n",
       "      <td>1023588</td>\n",
       "      <td>433.85</td>\n",
       "      <td>36</td>\n",
       "    </tr>\n",
       "    <tr>\n",
       "      <th>31453280</th>\n",
       "      <td>2012-06-05 00:00:01</td>\n",
       "      <td>2013-06-04 00:00:01</td>\n",
       "      <td>1023883</td>\n",
       "      <td>0.00</td>\n",
       "      <td>0</td>\n",
       "    </tr>\n",
       "  </tbody>\n",
       "</table>\n",
       "<p>31453281 rows × 5 columns</p>\n",
       "</div>"
      ],
      "text/plain": [
       "             window_min_time     window_max_time  customer_id     ltv  count\n",
       "0        1996-06-25 00:00:01 1997-06-24 00:00:01      1843200    0.00      0\n",
       "1        1996-06-25 00:00:01 1997-06-24 00:00:01      1843201    0.00      0\n",
       "2        1996-06-25 00:00:01 1997-06-24 00:00:01      1843203    0.00      0\n",
       "3        1996-06-25 00:00:01 1997-06-24 00:00:01      1843205    0.00      0\n",
       "4        1996-06-25 00:00:01 1997-06-24 00:00:01      1843206    0.00      0\n",
       "...                      ...                 ...          ...     ...    ...\n",
       "31453276 2012-06-05 00:00:01 2013-06-04 00:00:01      1023989   24.09      2\n",
       "31453277 2012-06-05 00:00:01 2013-06-04 00:00:01      1023991   29.24      2\n",
       "31453278 2012-06-05 00:00:01 2013-06-04 00:00:01      1021954    0.00      0\n",
       "31453279 2012-06-05 00:00:01 2013-06-04 00:00:01      1023588  433.85     36\n",
       "31453280 2012-06-05 00:00:01 2013-06-04 00:00:01      1023883    0.00      0\n",
       "\n",
       "[31453281 rows x 5 columns]"
      ]
     },
     "execution_count": 34,
     "metadata": {},
     "output_type": "execute_result"
    }
   ],
   "source": [
    "# here count is the number of products which contributed to the sum aggregation in ltv\n",
    "train_table.df"
   ]
  },
  {
   "cell_type": "code",
   "execution_count": 35,
   "id": "22e4c326-03ea-4542-b3ae-e8e4c6d1e5e3",
   "metadata": {
    "execution": {
     "iopub.execute_input": "2023-11-15T23:52:01.724027Z",
     "iopub.status.busy": "2023-11-15T23:52:01.723883Z",
     "iopub.status.idle": "2023-11-15T23:52:01.940188Z",
     "shell.execute_reply": "2023-11-15T23:52:01.939223Z",
     "shell.execute_reply.started": "2023-11-15T23:52:01.724012Z"
    }
   },
   "outputs": [
    {
     "data": {
      "text/plain": [
       "count\n",
       "0      95.140863\n",
       "1       2.509846\n",
       "2       0.924326\n",
       "3       0.471588\n",
       "4       0.286008\n",
       "         ...    \n",
       "220     0.000003\n",
       "295     0.000003\n",
       "288     0.000003\n",
       "603     0.000003\n",
       "339     0.000003\n",
       "Name: proportion, Length: 333, dtype: float64"
      ]
     },
     "execution_count": 35,
     "metadata": {},
     "output_type": "execute_result"
    }
   ],
   "source": [
    "# frequency of counts in percent\n",
    "train_table.df[\"count\"].value_counts(normalize=True) * 100"
   ]
  },
  {
   "cell_type": "markdown",
   "id": "cdd94afe-7389-40b6-a8eb-984f50bb2f23",
   "metadata": {},
   "source": [
    "_Note: this is very skewed! Test table is not this skewed (95% 0-counts vs 47%)._"
   ]
  },
  {
   "cell_type": "markdown",
   "id": "b446dd02-4114-4410-bccc-0e02305ac0d0",
   "metadata": {},
   "source": [
    "## val table"
   ]
  },
  {
   "cell_type": "code",
   "execution_count": 36,
   "id": "7959cdc8-c2ed-4d99-9c80-6ed9fb1653bd",
   "metadata": {
    "execution": {
     "iopub.execute_input": "2023-11-15T23:52:01.942893Z",
     "iopub.status.busy": "2023-11-15T23:52:01.942241Z",
     "iopub.status.idle": "2023-11-15T23:52:01.985194Z",
     "shell.execute_reply": "2023-11-15T23:52:01.984280Z",
     "shell.execute_reply.started": "2023-11-15T23:52:01.942866Z"
    }
   },
   "outputs": [
    {
     "data": {
      "text/html": [
       "<div>\n",
       "<style scoped>\n",
       "    .dataframe tbody tr th:only-of-type {\n",
       "        vertical-align: middle;\n",
       "    }\n",
       "\n",
       "    .dataframe tbody tr th {\n",
       "        vertical-align: top;\n",
       "    }\n",
       "\n",
       "    .dataframe thead th {\n",
       "        text-align: right;\n",
       "    }\n",
       "</style>\n",
       "<table border=\"1\" class=\"dataframe\">\n",
       "  <thead>\n",
       "    <tr style=\"text-align: right;\">\n",
       "      <th></th>\n",
       "      <th>window_min_time</th>\n",
       "      <th>window_max_time</th>\n",
       "    </tr>\n",
       "  </thead>\n",
       "  <tbody>\n",
       "    <tr>\n",
       "      <th>0</th>\n",
       "      <td>2016-07-07 00:00:01</td>\n",
       "      <td>2017-07-06</td>\n",
       "    </tr>\n",
       "  </tbody>\n",
       "</table>\n",
       "</div>"
      ],
      "text/plain": [
       "      window_min_time window_max_time\n",
       "0 2016-07-07 00:00:01      2017-07-06"
      ]
     },
     "execution_count": 36,
     "metadata": {},
     "output_type": "execute_result"
    }
   ],
   "source": [
    "# time sampler used inside make_val_table\n",
    "time_window_df = one_window_sampler(ds.val_max_time, window_size)\n",
    "time_window_df"
   ]
  },
  {
   "cell_type": "code",
   "execution_count": 37,
   "id": "64f96a10-a2e6-47a2-a35b-c724c9c22725",
   "metadata": {
    "execution": {
     "iopub.execute_input": "2023-11-15T23:52:01.986202Z",
     "iopub.status.busy": "2023-11-15T23:52:01.986051Z",
     "iopub.status.idle": "2023-11-15T23:52:05.620136Z",
     "shell.execute_reply": "2023-11-15T23:52:05.619113Z",
     "shell.execute_reply.started": "2023-11-15T23:52:01.986185Z"
    }
   },
   "outputs": [],
   "source": [
    "val_table = ds.make_val_table(\"ltv\", window_size)"
   ]
  },
  {
   "cell_type": "code",
   "execution_count": 38,
   "id": "650f3400-7327-4a56-bb28-710f049783cf",
   "metadata": {
    "execution": {
     "iopub.execute_input": "2023-11-15T23:52:05.621409Z",
     "iopub.status.busy": "2023-11-15T23:52:05.621140Z",
     "iopub.status.idle": "2023-11-15T23:52:05.641039Z",
     "shell.execute_reply": "2023-11-15T23:52:05.640251Z",
     "shell.execute_reply.started": "2023-11-15T23:52:05.621393Z"
    }
   },
   "outputs": [
    {
     "data": {
      "text/html": [
       "<div>\n",
       "<style scoped>\n",
       "    .dataframe tbody tr th:only-of-type {\n",
       "        vertical-align: middle;\n",
       "    }\n",
       "\n",
       "    .dataframe tbody tr th {\n",
       "        vertical-align: top;\n",
       "    }\n",
       "\n",
       "    .dataframe thead th {\n",
       "        text-align: right;\n",
       "    }\n",
       "</style>\n",
       "<table border=\"1\" class=\"dataframe\">\n",
       "  <thead>\n",
       "    <tr style=\"text-align: right;\">\n",
       "      <th></th>\n",
       "      <th>window_min_time</th>\n",
       "      <th>window_max_time</th>\n",
       "      <th>customer_id</th>\n",
       "      <th>ltv</th>\n",
       "      <th>count</th>\n",
       "    </tr>\n",
       "  </thead>\n",
       "  <tbody>\n",
       "    <tr>\n",
       "      <th>0</th>\n",
       "      <td>2014-04-16 00:00:01</td>\n",
       "      <td>2015-04-15</td>\n",
       "      <td>1843200</td>\n",
       "      <td>0.0</td>\n",
       "      <td>0</td>\n",
       "    </tr>\n",
       "    <tr>\n",
       "      <th>1</th>\n",
       "      <td>2014-04-16 00:00:01</td>\n",
       "      <td>2015-04-15</td>\n",
       "      <td>1843201</td>\n",
       "      <td>0.0</td>\n",
       "      <td>0</td>\n",
       "    </tr>\n",
       "    <tr>\n",
       "      <th>2</th>\n",
       "      <td>2014-04-16 00:00:01</td>\n",
       "      <td>2015-04-15</td>\n",
       "      <td>1843202</td>\n",
       "      <td>0.0</td>\n",
       "      <td>0</td>\n",
       "    </tr>\n",
       "    <tr>\n",
       "      <th>3</th>\n",
       "      <td>2014-04-16 00:00:01</td>\n",
       "      <td>2015-04-15</td>\n",
       "      <td>1843203</td>\n",
       "      <td>0.0</td>\n",
       "      <td>0</td>\n",
       "    </tr>\n",
       "    <tr>\n",
       "      <th>4</th>\n",
       "      <td>2014-04-16 00:00:01</td>\n",
       "      <td>2015-04-15</td>\n",
       "      <td>1843204</td>\n",
       "      <td>0.0</td>\n",
       "      <td>0</td>\n",
       "    </tr>\n",
       "    <tr>\n",
       "      <th>...</th>\n",
       "      <td>...</td>\n",
       "      <td>...</td>\n",
       "      <td>...</td>\n",
       "      <td>...</td>\n",
       "      <td>...</td>\n",
       "    </tr>\n",
       "    <tr>\n",
       "      <th>1850188</th>\n",
       "      <td>2014-04-16 00:00:01</td>\n",
       "      <td>2015-04-15</td>\n",
       "      <td>1841723</td>\n",
       "      <td>0.0</td>\n",
       "      <td>0</td>\n",
       "    </tr>\n",
       "    <tr>\n",
       "      <th>1850189</th>\n",
       "      <td>2014-04-16 00:00:01</td>\n",
       "      <td>2015-04-15</td>\n",
       "      <td>1842013</td>\n",
       "      <td>0.0</td>\n",
       "      <td>0</td>\n",
       "    </tr>\n",
       "    <tr>\n",
       "      <th>1850190</th>\n",
       "      <td>2014-04-16 00:00:01</td>\n",
       "      <td>2015-04-15</td>\n",
       "      <td>1842771</td>\n",
       "      <td>0.0</td>\n",
       "      <td>0</td>\n",
       "    </tr>\n",
       "    <tr>\n",
       "      <th>1850191</th>\n",
       "      <td>2014-04-16 00:00:01</td>\n",
       "      <td>2015-04-15</td>\n",
       "      <td>1843016</td>\n",
       "      <td>0.0</td>\n",
       "      <td>0</td>\n",
       "    </tr>\n",
       "    <tr>\n",
       "      <th>1850192</th>\n",
       "      <td>2014-04-16 00:00:01</td>\n",
       "      <td>2015-04-15</td>\n",
       "      <td>1842066</td>\n",
       "      <td>0.0</td>\n",
       "      <td>0</td>\n",
       "    </tr>\n",
       "  </tbody>\n",
       "</table>\n",
       "<p>1850193 rows × 5 columns</p>\n",
       "</div>"
      ],
      "text/plain": [
       "            window_min_time window_max_time  customer_id  ltv  count\n",
       "0       2014-04-16 00:00:01      2015-04-15      1843200  0.0      0\n",
       "1       2014-04-16 00:00:01      2015-04-15      1843201  0.0      0\n",
       "2       2014-04-16 00:00:01      2015-04-15      1843202  0.0      0\n",
       "3       2014-04-16 00:00:01      2015-04-15      1843203  0.0      0\n",
       "4       2014-04-16 00:00:01      2015-04-15      1843204  0.0      0\n",
       "...                     ...             ...          ...  ...    ...\n",
       "1850188 2014-04-16 00:00:01      2015-04-15      1841723  0.0      0\n",
       "1850189 2014-04-16 00:00:01      2015-04-15      1842013  0.0      0\n",
       "1850190 2014-04-16 00:00:01      2015-04-15      1842771  0.0      0\n",
       "1850191 2014-04-16 00:00:01      2015-04-15      1843016  0.0      0\n",
       "1850192 2014-04-16 00:00:01      2015-04-15      1842066  0.0      0\n",
       "\n",
       "[1850193 rows x 5 columns]"
      ]
     },
     "execution_count": 38,
     "metadata": {},
     "output_type": "execute_result"
    }
   ],
   "source": [
    "val_table.df"
   ]
  },
  {
   "cell_type": "code",
   "execution_count": 39,
   "id": "623906f8-2ef5-460e-9a1c-9b3155dd4a60",
   "metadata": {
    "execution": {
     "iopub.execute_input": "2023-11-15T23:52:05.641921Z",
     "iopub.status.busy": "2023-11-15T23:52:05.641775Z",
     "iopub.status.idle": "2023-11-15T23:52:05.740166Z",
     "shell.execute_reply": "2023-11-15T23:52:05.739237Z",
     "shell.execute_reply.started": "2023-11-15T23:52:05.641905Z"
    }
   },
   "outputs": [
    {
     "data": {
      "text/plain": [
       "count\n",
       "0       47.376679\n",
       "1       17.258091\n",
       "2       11.013446\n",
       "3        7.313778\n",
       "4        4.936566\n",
       "          ...    \n",
       "1171     0.000054\n",
       "232      0.000054\n",
       "228      0.000054\n",
       "284      0.000054\n",
       "240      0.000054\n",
       "Name: proportion, Length: 302, dtype: float64"
      ]
     },
     "execution_count": 39,
     "metadata": {},
     "output_type": "execute_result"
    }
   ],
   "source": [
    "val_table.df[\"count\"].value_counts(normalize=True) * 100"
   ]
  },
  {
   "cell_type": "markdown",
   "id": "dcfd6722-53b3-4a71-a0c4-18a3de928449",
   "metadata": {},
   "source": [
    "## Churn"
   ]
  },
  {
   "cell_type": "code",
   "execution_count": 40,
   "id": "020f21e4-c076-4c84-971f-658a7b9578a8",
   "metadata": {
    "execution": {
     "iopub.execute_input": "2023-11-15T23:52:05.741717Z",
     "iopub.status.busy": "2023-11-15T23:52:05.741255Z",
     "iopub.status.idle": "2023-11-15T23:52:05.777638Z",
     "shell.execute_reply": "2023-11-15T23:52:05.776750Z",
     "shell.execute_reply.started": "2023-11-15T23:52:05.741689Z"
    }
   },
   "outputs": [
    {
     "data": {
      "text/plain": [
       "Timedelta('364 days 00:00:00')"
      ]
     },
     "execution_count": 40,
     "metadata": {},
     "output_type": "execute_result"
    }
   ],
   "source": [
    "window_size = ds.tasks[\"churn\"].window_sizes[0]\n",
    "window_size"
   ]
  },
  {
   "cell_type": "markdown",
   "id": "04dc5000-3bc7-4ee4-b3bb-514bfb7f5d8f",
   "metadata": {
    "execution": {
     "iopub.execute_input": "2023-11-15T05:58:40.530507Z",
     "iopub.status.busy": "2023-11-15T05:58:40.530055Z",
     "iopub.status.idle": "2023-11-15T05:58:40.557811Z",
     "shell.execute_reply": "2023-11-15T05:58:40.557146Z",
     "shell.execute_reply.started": "2023-11-15T05:58:40.530470Z"
    }
   },
   "source": [
    "### train table"
   ]
  },
  {
   "cell_type": "code",
   "execution_count": 41,
   "id": "ca0b1659-272e-46ac-99c2-b59cea702d60",
   "metadata": {
    "execution": {
     "iopub.execute_input": "2023-11-15T23:52:05.778754Z",
     "iopub.status.busy": "2023-11-15T23:52:05.778515Z",
     "iopub.status.idle": "2023-11-15T23:52:05.829097Z",
     "shell.execute_reply": "2023-11-15T23:52:05.828332Z",
     "shell.execute_reply.started": "2023-11-15T23:52:05.778737Z"
    }
   },
   "outputs": [
    {
     "data": {
      "text/html": [
       "<div>\n",
       "<style scoped>\n",
       "    .dataframe tbody tr th:only-of-type {\n",
       "        vertical-align: middle;\n",
       "    }\n",
       "\n",
       "    .dataframe tbody tr th {\n",
       "        vertical-align: top;\n",
       "    }\n",
       "\n",
       "    .dataframe thead th {\n",
       "        text-align: right;\n",
       "    }\n",
       "</style>\n",
       "<table border=\"1\" class=\"dataframe\">\n",
       "  <thead>\n",
       "    <tr style=\"text-align: right;\">\n",
       "      <th></th>\n",
       "      <th>window_min_time</th>\n",
       "      <th>window_max_time</th>\n",
       "    </tr>\n",
       "  </thead>\n",
       "  <tbody>\n",
       "    <tr>\n",
       "      <th>0</th>\n",
       "      <td>1996-06-25 00:00:01</td>\n",
       "      <td>1997-06-24 00:00:01</td>\n",
       "    </tr>\n",
       "    <tr>\n",
       "      <th>1</th>\n",
       "      <td>1997-06-24 00:00:01</td>\n",
       "      <td>1998-06-23 00:00:01</td>\n",
       "    </tr>\n",
       "    <tr>\n",
       "      <th>2</th>\n",
       "      <td>1998-06-23 00:00:01</td>\n",
       "      <td>1999-06-22 00:00:01</td>\n",
       "    </tr>\n",
       "    <tr>\n",
       "      <th>3</th>\n",
       "      <td>1999-06-22 00:00:01</td>\n",
       "      <td>2000-06-20 00:00:01</td>\n",
       "    </tr>\n",
       "    <tr>\n",
       "      <th>4</th>\n",
       "      <td>2000-06-20 00:00:01</td>\n",
       "      <td>2001-06-19 00:00:01</td>\n",
       "    </tr>\n",
       "    <tr>\n",
       "      <th>5</th>\n",
       "      <td>2001-06-19 00:00:01</td>\n",
       "      <td>2002-06-18 00:00:01</td>\n",
       "    </tr>\n",
       "    <tr>\n",
       "      <th>6</th>\n",
       "      <td>2002-06-18 00:00:01</td>\n",
       "      <td>2003-06-17 00:00:01</td>\n",
       "    </tr>\n",
       "    <tr>\n",
       "      <th>7</th>\n",
       "      <td>2003-06-17 00:00:01</td>\n",
       "      <td>2004-06-15 00:00:01</td>\n",
       "    </tr>\n",
       "    <tr>\n",
       "      <th>8</th>\n",
       "      <td>2004-06-15 00:00:01</td>\n",
       "      <td>2005-06-14 00:00:01</td>\n",
       "    </tr>\n",
       "    <tr>\n",
       "      <th>9</th>\n",
       "      <td>2005-06-14 00:00:01</td>\n",
       "      <td>2006-06-13 00:00:01</td>\n",
       "    </tr>\n",
       "    <tr>\n",
       "      <th>10</th>\n",
       "      <td>2006-06-13 00:00:01</td>\n",
       "      <td>2007-06-12 00:00:01</td>\n",
       "    </tr>\n",
       "    <tr>\n",
       "      <th>11</th>\n",
       "      <td>2007-06-12 00:00:01</td>\n",
       "      <td>2008-06-10 00:00:01</td>\n",
       "    </tr>\n",
       "    <tr>\n",
       "      <th>12</th>\n",
       "      <td>2008-06-10 00:00:01</td>\n",
       "      <td>2009-06-09 00:00:01</td>\n",
       "    </tr>\n",
       "    <tr>\n",
       "      <th>13</th>\n",
       "      <td>2009-06-09 00:00:01</td>\n",
       "      <td>2010-06-08 00:00:01</td>\n",
       "    </tr>\n",
       "    <tr>\n",
       "      <th>14</th>\n",
       "      <td>2010-06-08 00:00:01</td>\n",
       "      <td>2011-06-07 00:00:01</td>\n",
       "    </tr>\n",
       "    <tr>\n",
       "      <th>15</th>\n",
       "      <td>2011-06-07 00:00:01</td>\n",
       "      <td>2012-06-05 00:00:01</td>\n",
       "    </tr>\n",
       "    <tr>\n",
       "      <th>16</th>\n",
       "      <td>2012-06-05 00:00:01</td>\n",
       "      <td>2013-06-04 00:00:01</td>\n",
       "    </tr>\n",
       "  </tbody>\n",
       "</table>\n",
       "</div>"
      ],
      "text/plain": [
       "       window_min_time     window_max_time\n",
       "0  1996-06-25 00:00:01 1997-06-24 00:00:01\n",
       "1  1997-06-24 00:00:01 1998-06-23 00:00:01\n",
       "2  1998-06-23 00:00:01 1999-06-22 00:00:01\n",
       "3  1999-06-22 00:00:01 2000-06-20 00:00:01\n",
       "4  2000-06-20 00:00:01 2001-06-19 00:00:01\n",
       "5  2001-06-19 00:00:01 2002-06-18 00:00:01\n",
       "6  2002-06-18 00:00:01 2003-06-17 00:00:01\n",
       "7  2003-06-17 00:00:01 2004-06-15 00:00:01\n",
       "8  2004-06-15 00:00:01 2005-06-14 00:00:01\n",
       "9  2005-06-14 00:00:01 2006-06-13 00:00:01\n",
       "10 2006-06-13 00:00:01 2007-06-12 00:00:01\n",
       "11 2007-06-12 00:00:01 2008-06-10 00:00:01\n",
       "12 2008-06-10 00:00:01 2009-06-09 00:00:01\n",
       "13 2009-06-09 00:00:01 2010-06-08 00:00:01\n",
       "14 2010-06-08 00:00:01 2011-06-07 00:00:01\n",
       "15 2011-06-07 00:00:01 2012-06-05 00:00:01\n",
       "16 2012-06-05 00:00:01 2013-06-04 00:00:01"
      ]
     },
     "execution_count": 41,
     "metadata": {},
     "output_type": "execute_result"
    }
   ],
   "source": [
    "# default time window sampler used inside make_train_table\n",
    "time_window_df = rolling_window_sampler(\n",
    "    ds.min_time, ds.train_max_time, window_size, window_size\n",
    ")\n",
    "time_window_df"
   ]
  },
  {
   "cell_type": "code",
   "execution_count": 43,
   "id": "6c5890ba-4b67-4f30-a936-a017a9cc040e",
   "metadata": {
    "execution": {
     "iopub.execute_input": "2023-11-15T23:53:55.869432Z",
     "iopub.status.busy": "2023-11-15T23:53:55.869114Z",
     "iopub.status.idle": "2023-11-15T23:54:02.493301Z",
     "shell.execute_reply": "2023-11-15T23:54:02.492419Z",
     "shell.execute_reply.started": "2023-11-15T23:53:55.869414Z"
    }
   },
   "outputs": [
    {
     "data": {
      "application/vnd.jupyter.widget-view+json": {
       "model_id": "eb5adcf4736e4b18b9bd8b5beabe2c36",
       "version_major": 2,
       "version_minor": 0
      },
      "text/plain": [
       "FloatProgress(value=0.0, layout=Layout(width='auto'), style=ProgressStyle(bar_color='black'))"
      ]
     },
     "metadata": {},
     "output_type": "display_data"
    }
   ],
   "source": [
    "train_table = ds.make_train_table(\"churn\", window_size)"
   ]
  },
  {
   "cell_type": "code",
   "execution_count": 44,
   "id": "10e23102-707b-449a-b6db-5f32847089ab",
   "metadata": {
    "execution": {
     "iopub.execute_input": "2023-11-15T23:54:02.494606Z",
     "iopub.status.busy": "2023-11-15T23:54:02.494451Z",
     "iopub.status.idle": "2023-11-15T23:54:02.514747Z",
     "shell.execute_reply": "2023-11-15T23:54:02.513927Z",
     "shell.execute_reply.started": "2023-11-15T23:54:02.494590Z"
    }
   },
   "outputs": [
    {
     "data": {
      "text/html": [
       "<div>\n",
       "<style scoped>\n",
       "    .dataframe tbody tr th:only-of-type {\n",
       "        vertical-align: middle;\n",
       "    }\n",
       "\n",
       "    .dataframe tbody tr th {\n",
       "        vertical-align: top;\n",
       "    }\n",
       "\n",
       "    .dataframe thead th {\n",
       "        text-align: right;\n",
       "    }\n",
       "</style>\n",
       "<table border=\"1\" class=\"dataframe\">\n",
       "  <thead>\n",
       "    <tr style=\"text-align: right;\">\n",
       "      <th></th>\n",
       "      <th>window_min_time</th>\n",
       "      <th>window_max_time</th>\n",
       "      <th>customer_id</th>\n",
       "      <th>churn</th>\n",
       "    </tr>\n",
       "  </thead>\n",
       "  <tbody>\n",
       "    <tr>\n",
       "      <th>0</th>\n",
       "      <td>1996-06-25 00:00:01</td>\n",
       "      <td>1997-06-24 00:00:01</td>\n",
       "      <td>1843200</td>\n",
       "      <td>True</td>\n",
       "    </tr>\n",
       "    <tr>\n",
       "      <th>1</th>\n",
       "      <td>1996-06-25 00:00:01</td>\n",
       "      <td>1997-06-24 00:00:01</td>\n",
       "      <td>1843201</td>\n",
       "      <td>True</td>\n",
       "    </tr>\n",
       "    <tr>\n",
       "      <th>2</th>\n",
       "      <td>1996-06-25 00:00:01</td>\n",
       "      <td>1997-06-24 00:00:01</td>\n",
       "      <td>1843202</td>\n",
       "      <td>True</td>\n",
       "    </tr>\n",
       "    <tr>\n",
       "      <th>3</th>\n",
       "      <td>1996-06-25 00:00:01</td>\n",
       "      <td>1997-06-24 00:00:01</td>\n",
       "      <td>1843203</td>\n",
       "      <td>True</td>\n",
       "    </tr>\n",
       "    <tr>\n",
       "      <th>4</th>\n",
       "      <td>1996-06-25 00:00:01</td>\n",
       "      <td>1997-06-24 00:00:01</td>\n",
       "      <td>1843204</td>\n",
       "      <td>True</td>\n",
       "    </tr>\n",
       "    <tr>\n",
       "      <th>...</th>\n",
       "      <td>...</td>\n",
       "      <td>...</td>\n",
       "      <td>...</td>\n",
       "      <td>...</td>\n",
       "    </tr>\n",
       "    <tr>\n",
       "      <th>31453276</th>\n",
       "      <td>2012-06-05 00:00:01</td>\n",
       "      <td>2013-06-04 00:00:01</td>\n",
       "      <td>921595</td>\n",
       "      <td>False</td>\n",
       "    </tr>\n",
       "    <tr>\n",
       "      <th>31453277</th>\n",
       "      <td>2012-06-05 00:00:01</td>\n",
       "      <td>2013-06-04 00:00:01</td>\n",
       "      <td>921596</td>\n",
       "      <td>False</td>\n",
       "    </tr>\n",
       "    <tr>\n",
       "      <th>31453278</th>\n",
       "      <td>2012-06-05 00:00:01</td>\n",
       "      <td>2013-06-04 00:00:01</td>\n",
       "      <td>921597</td>\n",
       "      <td>True</td>\n",
       "    </tr>\n",
       "    <tr>\n",
       "      <th>31453279</th>\n",
       "      <td>2012-06-05 00:00:01</td>\n",
       "      <td>2013-06-04 00:00:01</td>\n",
       "      <td>921598</td>\n",
       "      <td>True</td>\n",
       "    </tr>\n",
       "    <tr>\n",
       "      <th>31453280</th>\n",
       "      <td>2012-06-05 00:00:01</td>\n",
       "      <td>2013-06-04 00:00:01</td>\n",
       "      <td>921599</td>\n",
       "      <td>True</td>\n",
       "    </tr>\n",
       "  </tbody>\n",
       "</table>\n",
       "<p>31453281 rows × 4 columns</p>\n",
       "</div>"
      ],
      "text/plain": [
       "             window_min_time     window_max_time  customer_id  churn\n",
       "0        1996-06-25 00:00:01 1997-06-24 00:00:01      1843200   True\n",
       "1        1996-06-25 00:00:01 1997-06-24 00:00:01      1843201   True\n",
       "2        1996-06-25 00:00:01 1997-06-24 00:00:01      1843202   True\n",
       "3        1996-06-25 00:00:01 1997-06-24 00:00:01      1843203   True\n",
       "4        1996-06-25 00:00:01 1997-06-24 00:00:01      1843204   True\n",
       "...                      ...                 ...          ...    ...\n",
       "31453276 2012-06-05 00:00:01 2013-06-04 00:00:01       921595  False\n",
       "31453277 2012-06-05 00:00:01 2013-06-04 00:00:01       921596  False\n",
       "31453278 2012-06-05 00:00:01 2013-06-04 00:00:01       921597   True\n",
       "31453279 2012-06-05 00:00:01 2013-06-04 00:00:01       921598   True\n",
       "31453280 2012-06-05 00:00:01 2013-06-04 00:00:01       921599   True\n",
       "\n",
       "[31453281 rows x 4 columns]"
      ]
     },
     "execution_count": 44,
     "metadata": {},
     "output_type": "execute_result"
    }
   ],
   "source": [
    "# here count is the number of products which contributed to the sum aggregation in ltv\n",
    "train_table.df"
   ]
  },
  {
   "cell_type": "code",
   "execution_count": 45,
   "id": "3596c7e2-b59c-4030-b31f-a1c25786bce7",
   "metadata": {
    "execution": {
     "iopub.execute_input": "2023-11-15T23:54:02.515870Z",
     "iopub.status.busy": "2023-11-15T23:54:02.515718Z",
     "iopub.status.idle": "2023-11-15T23:54:02.728417Z",
     "shell.execute_reply": "2023-11-15T23:54:02.727432Z",
     "shell.execute_reply.started": "2023-11-15T23:54:02.515854Z"
    }
   },
   "outputs": [
    {
     "data": {
      "text/plain": [
       "churn\n",
       "True     95.140863\n",
       "False     4.859137\n",
       "Name: proportion, dtype: float64"
      ]
     },
     "execution_count": 45,
     "metadata": {},
     "output_type": "execute_result"
    }
   ],
   "source": [
    "# frequency of churn in percent\n",
    "train_table.df[\"churn\"].value_counts(normalize=True) * 100"
   ]
  },
  {
   "cell_type": "markdown",
   "id": "8f178dce-3ff3-4222-84e9-ba8842e4a2a6",
   "metadata": {},
   "source": [
    "_Note: this is very skewed! Val table is not this skewed (95% 0-counts vs 52%)._"
   ]
  },
  {
   "cell_type": "markdown",
   "id": "65f15e81-da66-4f33-9656-eb15cc7814f3",
   "metadata": {},
   "source": [
    "## val table"
   ]
  },
  {
   "cell_type": "code",
   "execution_count": 46,
   "id": "5d950571-948e-403d-b9e6-4056361db274",
   "metadata": {
    "execution": {
     "iopub.execute_input": "2023-11-15T23:54:04.739195Z",
     "iopub.status.busy": "2023-11-15T23:54:04.738748Z",
     "iopub.status.idle": "2023-11-15T23:54:04.759268Z",
     "shell.execute_reply": "2023-11-15T23:54:04.758519Z",
     "shell.execute_reply.started": "2023-11-15T23:54:04.739156Z"
    }
   },
   "outputs": [
    {
     "data": {
      "text/html": [
       "<div>\n",
       "<style scoped>\n",
       "    .dataframe tbody tr th:only-of-type {\n",
       "        vertical-align: middle;\n",
       "    }\n",
       "\n",
       "    .dataframe tbody tr th {\n",
       "        vertical-align: top;\n",
       "    }\n",
       "\n",
       "    .dataframe thead th {\n",
       "        text-align: right;\n",
       "    }\n",
       "</style>\n",
       "<table border=\"1\" class=\"dataframe\">\n",
       "  <thead>\n",
       "    <tr style=\"text-align: right;\">\n",
       "      <th></th>\n",
       "      <th>window_min_time</th>\n",
       "      <th>window_max_time</th>\n",
       "    </tr>\n",
       "  </thead>\n",
       "  <tbody>\n",
       "    <tr>\n",
       "      <th>0</th>\n",
       "      <td>2014-04-16 00:00:01</td>\n",
       "      <td>2015-04-15</td>\n",
       "    </tr>\n",
       "  </tbody>\n",
       "</table>\n",
       "</div>"
      ],
      "text/plain": [
       "      window_min_time window_max_time\n",
       "0 2014-04-16 00:00:01      2015-04-15"
      ]
     },
     "execution_count": 46,
     "metadata": {},
     "output_type": "execute_result"
    }
   ],
   "source": [
    "# time sampler used inside make_val_table\n",
    "time_window_df = one_window_sampler(ds.train_max_time, window_size)\n",
    "time_window_df"
   ]
  },
  {
   "cell_type": "code",
   "execution_count": 47,
   "id": "33a31916-60da-49be-b4b7-4f4a47d31b52",
   "metadata": {
    "execution": {
     "iopub.execute_input": "2023-11-15T23:54:05.876733Z",
     "iopub.status.busy": "2023-11-15T23:54:05.876474Z",
     "iopub.status.idle": "2023-11-15T23:54:08.453227Z",
     "shell.execute_reply": "2023-11-15T23:54:08.452205Z",
     "shell.execute_reply.started": "2023-11-15T23:54:05.876715Z"
    }
   },
   "outputs": [],
   "source": [
    "val_table = ds.make_val_table(\"churn\", window_size)"
   ]
  },
  {
   "cell_type": "code",
   "execution_count": 48,
   "id": "26b15b3a-78c5-4499-bd75-d938c2d4334e",
   "metadata": {
    "execution": {
     "iopub.execute_input": "2023-11-15T23:54:08.454567Z",
     "iopub.status.busy": "2023-11-15T23:54:08.454410Z",
     "iopub.status.idle": "2023-11-15T23:54:08.504786Z",
     "shell.execute_reply": "2023-11-15T23:54:08.504056Z",
     "shell.execute_reply.started": "2023-11-15T23:54:08.454551Z"
    }
   },
   "outputs": [
    {
     "data": {
      "text/html": [
       "<div>\n",
       "<style scoped>\n",
       "    .dataframe tbody tr th:only-of-type {\n",
       "        vertical-align: middle;\n",
       "    }\n",
       "\n",
       "    .dataframe tbody tr th {\n",
       "        vertical-align: top;\n",
       "    }\n",
       "\n",
       "    .dataframe thead th {\n",
       "        text-align: right;\n",
       "    }\n",
       "</style>\n",
       "<table border=\"1\" class=\"dataframe\">\n",
       "  <thead>\n",
       "    <tr style=\"text-align: right;\">\n",
       "      <th></th>\n",
       "      <th>window_min_time</th>\n",
       "      <th>window_max_time</th>\n",
       "      <th>customer_id</th>\n",
       "      <th>churn</th>\n",
       "    </tr>\n",
       "  </thead>\n",
       "  <tbody>\n",
       "    <tr>\n",
       "      <th>0</th>\n",
       "      <td>2014-04-16 00:00:01</td>\n",
       "      <td>2015-04-15</td>\n",
       "      <td>716800</td>\n",
       "      <td>False</td>\n",
       "    </tr>\n",
       "    <tr>\n",
       "      <th>1</th>\n",
       "      <td>2014-04-16 00:00:01</td>\n",
       "      <td>2015-04-15</td>\n",
       "      <td>716801</td>\n",
       "      <td>False</td>\n",
       "    </tr>\n",
       "    <tr>\n",
       "      <th>2</th>\n",
       "      <td>2014-04-16 00:00:01</td>\n",
       "      <td>2015-04-15</td>\n",
       "      <td>716802</td>\n",
       "      <td>True</td>\n",
       "    </tr>\n",
       "    <tr>\n",
       "      <th>3</th>\n",
       "      <td>2014-04-16 00:00:01</td>\n",
       "      <td>2015-04-15</td>\n",
       "      <td>716803</td>\n",
       "      <td>True</td>\n",
       "    </tr>\n",
       "    <tr>\n",
       "      <th>4</th>\n",
       "      <td>2014-04-16 00:00:01</td>\n",
       "      <td>2015-04-15</td>\n",
       "      <td>716804</td>\n",
       "      <td>True</td>\n",
       "    </tr>\n",
       "    <tr>\n",
       "      <th>...</th>\n",
       "      <td>...</td>\n",
       "      <td>...</td>\n",
       "      <td>...</td>\n",
       "      <td>...</td>\n",
       "    </tr>\n",
       "    <tr>\n",
       "      <th>1850188</th>\n",
       "      <td>2014-04-16 00:00:01</td>\n",
       "      <td>2015-04-15</td>\n",
       "      <td>1331195</td>\n",
       "      <td>True</td>\n",
       "    </tr>\n",
       "    <tr>\n",
       "      <th>1850189</th>\n",
       "      <td>2014-04-16 00:00:01</td>\n",
       "      <td>2015-04-15</td>\n",
       "      <td>1331196</td>\n",
       "      <td>True</td>\n",
       "    </tr>\n",
       "    <tr>\n",
       "      <th>1850190</th>\n",
       "      <td>2014-04-16 00:00:01</td>\n",
       "      <td>2015-04-15</td>\n",
       "      <td>1331197</td>\n",
       "      <td>True</td>\n",
       "    </tr>\n",
       "    <tr>\n",
       "      <th>1850191</th>\n",
       "      <td>2014-04-16 00:00:01</td>\n",
       "      <td>2015-04-15</td>\n",
       "      <td>1331198</td>\n",
       "      <td>False</td>\n",
       "    </tr>\n",
       "    <tr>\n",
       "      <th>1850192</th>\n",
       "      <td>2014-04-16 00:00:01</td>\n",
       "      <td>2015-04-15</td>\n",
       "      <td>1331199</td>\n",
       "      <td>False</td>\n",
       "    </tr>\n",
       "  </tbody>\n",
       "</table>\n",
       "<p>1850193 rows × 4 columns</p>\n",
       "</div>"
      ],
      "text/plain": [
       "            window_min_time window_max_time  customer_id  churn\n",
       "0       2014-04-16 00:00:01      2015-04-15       716800  False\n",
       "1       2014-04-16 00:00:01      2015-04-15       716801  False\n",
       "2       2014-04-16 00:00:01      2015-04-15       716802   True\n",
       "3       2014-04-16 00:00:01      2015-04-15       716803   True\n",
       "4       2014-04-16 00:00:01      2015-04-15       716804   True\n",
       "...                     ...             ...          ...    ...\n",
       "1850188 2014-04-16 00:00:01      2015-04-15      1331195   True\n",
       "1850189 2014-04-16 00:00:01      2015-04-15      1331196   True\n",
       "1850190 2014-04-16 00:00:01      2015-04-15      1331197   True\n",
       "1850191 2014-04-16 00:00:01      2015-04-15      1331198  False\n",
       "1850192 2014-04-16 00:00:01      2015-04-15      1331199  False\n",
       "\n",
       "[1850193 rows x 4 columns]"
      ]
     },
     "execution_count": 48,
     "metadata": {},
     "output_type": "execute_result"
    }
   ],
   "source": [
    "val_table.df"
   ]
  },
  {
   "cell_type": "code",
   "execution_count": 49,
   "id": "488f2ef5-009c-432a-9872-6e629839b429",
   "metadata": {
    "execution": {
     "iopub.execute_input": "2023-11-15T23:54:08.505929Z",
     "iopub.status.busy": "2023-11-15T23:54:08.505692Z",
     "iopub.status.idle": "2023-11-15T23:54:08.560067Z",
     "shell.execute_reply": "2023-11-15T23:54:08.559226Z",
     "shell.execute_reply.started": "2023-11-15T23:54:08.505905Z"
    }
   },
   "outputs": [
    {
     "data": {
      "text/plain": [
       "churn\n",
       "False    52.623321\n",
       "True     47.376679\n",
       "Name: proportion, dtype: float64"
      ]
     },
     "execution_count": 49,
     "metadata": {},
     "output_type": "execute_result"
    }
   ],
   "source": [
    "val_table.df[\"churn\"].value_counts(normalize=True) * 100"
   ]
  },
  {
   "cell_type": "code",
   "execution_count": null,
   "id": "350cef28-206b-46dd-a4db-e0b48bf5ad24",
   "metadata": {},
   "outputs": [],
   "source": []
  }
 ],
 "metadata": {
  "kernelspec": {
   "display_name": "Python [conda env:rtb]",
   "language": "python",
   "name": "conda-env-rtb-py"
  },
  "language_info": {
   "codemirror_mode": {
    "name": "ipython",
    "version": 3
   },
   "file_extension": ".py",
   "mimetype": "text/x-python",
   "name": "python",
   "nbconvert_exporter": "python",
   "pygments_lexer": "ipython3",
   "version": "3.10.13"
  }
 },
 "nbformat": 4,
 "nbformat_minor": 5
}
