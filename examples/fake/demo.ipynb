{
 "cells": [
  {
   "cell_type": "code",
   "execution_count": 1,
   "id": "2a845de0-1200-4d41-a280-dc0d48c81824",
   "metadata": {
    "execution": {
     "iopub.execute_input": "2023-11-16T01:47:29.058945Z",
     "iopub.status.busy": "2023-11-16T01:47:29.058525Z",
     "iopub.status.idle": "2023-11-16T01:47:29.084195Z",
     "shell.execute_reply": "2023-11-16T01:47:29.083344Z",
     "shell.execute_reply.started": "2023-11-16T01:47:29.058907Z"
    }
   },
   "outputs": [],
   "source": [
    "%load_ext autoreload\n",
    "%autoreload 2"
   ]
  },
  {
   "cell_type": "code",
   "execution_count": 2,
   "id": "dfbbd9e5-64d4-4eb8-9c78-b5cd1ebeee7d",
   "metadata": {
    "execution": {
     "iopub.execute_input": "2023-11-16T01:47:29.879100Z",
     "iopub.status.busy": "2023-11-16T01:47:29.878733Z",
     "iopub.status.idle": "2023-11-16T01:47:30.350373Z",
     "shell.execute_reply": "2023-11-16T01:47:30.349816Z",
     "shell.execute_reply.started": "2023-11-16T01:47:29.879065Z"
    }
   },
   "outputs": [],
   "source": [
    "import pandas as pd\n",
    "\n",
    "from rtb.datasets.fake import FakeProductDataset"
   ]
  },
  {
   "cell_type": "code",
   "execution_count": 23,
   "id": "ded9a336-30b5-4823-bb02-ef83d1def772",
   "metadata": {
    "execution": {
     "iopub.execute_input": "2023-11-16T02:08:55.557214Z",
     "iopub.status.busy": "2023-11-16T02:08:55.556815Z",
     "iopub.status.idle": "2023-11-16T02:08:55.885026Z",
     "shell.execute_reply": "2023-11-16T02:08:55.884209Z",
     "shell.execute_reply.started": "2023-11-16T02:08:55.557177Z"
    }
   },
   "outputs": [
    {
     "name": "stdout",
     "output_type": "stream",
     "text": [
      "processing db...\n",
      "processing db took 0.00 seconds.\n",
      "reindexing pkeys and fkeys...\n",
      "reindexing pkeys and fkeys took 0.00 seconds.\n",
      "saving table product...\n",
      "done in 0.00 seconds.\n",
      "saving table customer...\n",
      "done in 0.00 seconds.\n",
      "saving table review...\n",
      "done in 0.00 seconds.\n"
     ]
    }
   ],
   "source": [
    "ds = FakeProductDataset(root=\"../../data\", process=True)"
   ]
  },
  {
   "cell_type": "code",
   "execution_count": 34,
   "id": "a3a6d57d-c2f0-4cad-bdae-898d47005c46",
   "metadata": {
    "execution": {
     "iopub.execute_input": "2023-11-16T02:29:28.852053Z",
     "iopub.status.busy": "2023-11-16T02:29:28.851516Z",
     "iopub.status.idle": "2023-11-16T02:29:29.474180Z",
     "shell.execute_reply": "2023-11-16T02:29:29.473254Z",
     "shell.execute_reply.started": "2023-11-16T02:29:28.852015Z"
    }
   },
   "outputs": [
    {
     "data": {
      "text/plain": [
       "FakeProductDataset(\n",
       "  tables=['customer', 'product', 'review'],\n",
       "  tasks=['churn', 'ltv'],\n",
       "  min_time=1970-01-01 00:00:00,\n",
       "  max_time=1983-08-31 00:00:00,\n",
       "  train_max_time=1980-12-06 00:00:00,\n",
       "  val_max_time=1982-04-19 00:00:00,\n",
       ")"
      ]
     },
     "execution_count": 34,
     "metadata": {},
     "output_type": "execute_result"
    }
   ],
   "source": [
    "ds"
   ]
  },
  {
   "cell_type": "code",
   "execution_count": 24,
   "id": "44f17d0e-d462-4916-8d1a-0615c6a4c511",
   "metadata": {
    "execution": {
     "iopub.execute_input": "2023-11-16T02:08:56.783601Z",
     "iopub.status.busy": "2023-11-16T02:08:56.783268Z",
     "iopub.status.idle": "2023-11-16T02:08:56.799967Z",
     "shell.execute_reply": "2023-11-16T02:08:56.799357Z",
     "shell.execute_reply.started": "2023-11-16T02:08:56.783566Z"
    }
   },
   "outputs": [],
   "source": [
    "db = ds._db"
   ]
  },
  {
   "cell_type": "code",
   "execution_count": 25,
   "id": "740db031-cf43-4504-9a96-aa0a96b329f1",
   "metadata": {
    "execution": {
     "iopub.execute_input": "2023-11-16T02:08:57.520555Z",
     "iopub.status.busy": "2023-11-16T02:08:57.520334Z",
     "iopub.status.idle": "2023-11-16T02:08:57.535243Z",
     "shell.execute_reply": "2023-11-16T02:08:57.534532Z",
     "shell.execute_reply.started": "2023-11-16T02:08:57.520539Z"
    }
   },
   "outputs": [
    {
     "data": {
      "text/plain": [
       "Table(df=\n",
       "    product_id       category    title     price\n",
       "0            0           None  title_1  6.523037\n",
       "1            1             []  title_2  1.541314\n",
       "2            2  [toy, health]  title_3  0.894173\n",
       "3            3           None  title_1  4.216620\n",
       "4            4             []  title_2  1.061467\n",
       "5            5  [toy, health]  title_3  3.684594\n",
       "6            6           None  title_1  9.772576\n",
       "7            7             []  title_2  1.702511\n",
       "8            8  [toy, health]  title_3  8.169753\n",
       "9            9           None  title_1  8.844051\n",
       "10          10             []  title_2  2.860061\n",
       "11          11  [toy, health]  title_3  0.007624\n",
       "12          12           None  title_1  3.153043\n",
       "13          13             []  title_2  4.093500\n",
       "14          14  [toy, health]  title_3  9.904809\n",
       "15          15           None  title_1  5.728990\n",
       "16          16             []  title_2  5.695456\n",
       "17          17  [toy, health]  title_3  5.493068\n",
       "18          18           None  title_1  8.238289\n",
       "19          19             []  title_2  9.503620\n",
       "20          20  [toy, health]  title_3  6.710574\n",
       "21          21           None  title_1  6.785667\n",
       "22          22             []  title_2  4.869332\n",
       "23          23  [toy, health]  title_3  4.668251\n",
       "24          24           None  title_1  3.062908\n",
       "25          25             []  title_2  2.967770\n",
       "26          26  [toy, health]  title_3  0.089985\n",
       "27          27           None  title_1  0.250355\n",
       "28          28             []  title_2  0.419186\n",
       "29          29  [toy, health]  title_3  6.596137,\n",
       "  fkey_col_to_pkey_table={},\n",
       "  pkey_col=product_id,\n",
       "  time_col=None)"
      ]
     },
     "execution_count": 25,
     "metadata": {},
     "output_type": "execute_result"
    }
   ],
   "source": [
    "db.tables[\"product\"]"
   ]
  },
  {
   "cell_type": "code",
   "execution_count": 26,
   "id": "1f9f4d59-133a-4b87-a026-4bab923c488e",
   "metadata": {
    "execution": {
     "iopub.execute_input": "2023-11-16T02:08:58.459526Z",
     "iopub.status.busy": "2023-11-16T02:08:58.459245Z",
     "iopub.status.idle": "2023-11-16T02:08:58.476774Z",
     "shell.execute_reply": "2023-11-16T02:08:58.476066Z",
     "shell.execute_reply.started": "2023-11-16T02:08:58.459509Z"
    }
   },
   "outputs": [
    {
     "data": {
      "text/plain": [
       "Table(df=\n",
       "     customer_id  product_id review_time  rating\n",
       "0             74          17  1970-01-01       4\n",
       "1             59           2  1970-01-11       1\n",
       "2             79          29  1970-01-21       3\n",
       "3             10          24  1970-01-31       4\n",
       "4             95          24  1970-02-10       1\n",
       "..           ...         ...         ...     ...\n",
       "495           47          15  1983-07-22       4\n",
       "496            8          29  1983-08-01       3\n",
       "497           36           4  1983-08-11       2\n",
       "498            0          23  1983-08-21       3\n",
       "499           21           9  1983-08-31       4\n",
       "\n",
       "[500 rows x 4 columns],\n",
       "  fkey_col_to_pkey_table={'customer_id': 'customer', 'product_id': 'product'},\n",
       "  pkey_col=None,\n",
       "  time_col=review_time)"
      ]
     },
     "execution_count": 26,
     "metadata": {},
     "output_type": "execute_result"
    }
   ],
   "source": [
    "db.tables[\"review\"]"
   ]
  },
  {
   "cell_type": "code",
   "execution_count": 27,
   "id": "a5ba5d73-4961-4eb0-8e42-a5070d018b3f",
   "metadata": {
    "execution": {
     "iopub.execute_input": "2023-11-16T02:08:59.361264Z",
     "iopub.status.busy": "2023-11-16T02:08:59.360936Z",
     "iopub.status.idle": "2023-11-16T02:08:59.379261Z",
     "shell.execute_reply": "2023-11-16T02:08:59.378589Z",
     "shell.execute_reply.started": "2023-11-16T02:08:59.361237Z"
    }
   },
   "outputs": [
    {
     "data": {
      "text/plain": [
       "Table(df=\n",
       "    customer_id  age  gender\n",
       "0             0   43    male\n",
       "1             1   30  female\n",
       "2             2   34    male\n",
       "3             3   41  female\n",
       "4             4   35    male\n",
       "..          ...  ...     ...\n",
       "95           95   45  female\n",
       "96           96   43    male\n",
       "97           97   35  female\n",
       "98           98   18    male\n",
       "99           99   19  female\n",
       "\n",
       "[100 rows x 3 columns],\n",
       "  fkey_col_to_pkey_table={},\n",
       "  pkey_col=customer_id,\n",
       "  time_col=None)"
      ]
     },
     "execution_count": 27,
     "metadata": {},
     "output_type": "execute_result"
    }
   ],
   "source": [
    "db.tables[\"customer\"]"
   ]
  },
  {
   "cell_type": "markdown",
   "id": "0a566b8b-0b96-43a6-a6cd-73bc0a58fd11",
   "metadata": {},
   "source": [
    "## LTV"
   ]
  },
  {
   "cell_type": "code",
   "execution_count": 28,
   "id": "558bd883-2ae3-42b1-924b-9932cabc61c3",
   "metadata": {
    "execution": {
     "iopub.execute_input": "2023-11-16T02:09:01.712382Z",
     "iopub.status.busy": "2023-11-16T02:09:01.712000Z",
     "iopub.status.idle": "2023-11-16T02:09:01.729787Z",
     "shell.execute_reply": "2023-11-16T02:09:01.729177Z",
     "shell.execute_reply.started": "2023-11-16T02:09:01.712346Z"
    }
   },
   "outputs": [
    {
     "data": {
      "text/plain": [
       "Timedelta('364 days 00:00:00')"
      ]
     },
     "execution_count": 28,
     "metadata": {},
     "output_type": "execute_result"
    }
   ],
   "source": [
    "window_size = ds.tasks[\"ltv\"].window_sizes[0]\n",
    "window_size"
   ]
  },
  {
   "cell_type": "code",
   "execution_count": 29,
   "id": "2728fda6-1523-4988-bfc8-86d47133f58f",
   "metadata": {
    "execution": {
     "iopub.execute_input": "2023-11-16T02:09:03.960370Z",
     "iopub.status.busy": "2023-11-16T02:09:03.959948Z",
     "iopub.status.idle": "2023-11-16T02:09:03.997466Z",
     "shell.execute_reply": "2023-11-16T02:09:03.996985Z",
     "shell.execute_reply.started": "2023-11-16T02:09:03.960331Z"
    }
   },
   "outputs": [
    {
     "data": {
      "text/plain": [
       "Table(df=\n",
       "        window_min_time     window_max_time  customer_id       ltv  count\n",
       "0   1970-01-01 00:00:01 1970-12-31 00:00:01            0  0.000000      0\n",
       "1   1970-01-01 00:00:01 1970-12-31 00:00:01            1  0.000000      0\n",
       "2   1970-01-01 00:00:01 1970-12-31 00:00:01            2  0.000000      0\n",
       "3   1970-01-01 00:00:01 1970-12-31 00:00:01            3  7.729392      2\n",
       "4   1970-01-01 00:00:01 1970-12-31 00:00:01            5  0.000000      0\n",
       "..                  ...                 ...          ...       ...    ...\n",
       "995 1978-12-21 00:00:01 1979-12-20 00:00:01           42  0.000000      0\n",
       "996 1978-12-21 00:00:01 1979-12-20 00:00:01           81  2.860061      1\n",
       "997 1978-12-21 00:00:01 1979-12-20 00:00:01           97  0.000000      0\n",
       "998 1970-01-01 00:00:01 1970-12-31 00:00:01           11  0.000000      0\n",
       "999 1978-12-21 00:00:01 1979-12-20 00:00:01           61  0.894173      1\n",
       "\n",
       "[1000 rows x 5 columns],\n",
       "  fkey_col_to_pkey_table={'customer_id': 'customer'},\n",
       "  pkey_col=None,\n",
       "  time_col=window_min_time)"
      ]
     },
     "execution_count": 29,
     "metadata": {},
     "output_type": "execute_result"
    }
   ],
   "source": [
    "train_table = ds.make_train_table(\"ltv\", window_size)\n",
    "train_table"
   ]
  },
  {
   "cell_type": "code",
   "execution_count": 30,
   "id": "31303937-30c3-4a94-b6c9-06c301a5b8bb",
   "metadata": {
    "execution": {
     "iopub.execute_input": "2023-11-16T02:09:05.948804Z",
     "iopub.status.busy": "2023-11-16T02:09:05.948414Z",
     "iopub.status.idle": "2023-11-16T02:09:05.984248Z",
     "shell.execute_reply": "2023-11-16T02:09:05.983822Z",
     "shell.execute_reply.started": "2023-11-16T02:09:05.948767Z"
    }
   },
   "outputs": [
    {
     "data": {
      "text/plain": [
       "Table(df=\n",
       "       window_min_time window_max_time  customer_id\n",
       "0  1982-04-19 00:00:01      1983-04-18            0\n",
       "1  1982-04-19 00:00:01      1983-04-18            1\n",
       "2  1982-04-19 00:00:01      1983-04-18            2\n",
       "3  1982-04-19 00:00:01      1983-04-18            3\n",
       "4  1982-04-19 00:00:01      1983-04-18            4\n",
       "..                 ...             ...          ...\n",
       "95 1982-04-19 00:00:01      1983-04-18           98\n",
       "96 1982-04-19 00:00:01      1983-04-18           99\n",
       "97 1982-04-19 00:00:01      1983-04-18           53\n",
       "98 1982-04-19 00:00:01      1983-04-18           59\n",
       "99 1982-04-19 00:00:01      1983-04-18           79\n",
       "\n",
       "[100 rows x 3 columns],\n",
       "  fkey_col_to_pkey_table={'customer_id': 'customer'},\n",
       "  pkey_col=None,\n",
       "  time_col=window_min_time)"
      ]
     },
     "execution_count": 30,
     "metadata": {},
     "output_type": "execute_result"
    }
   ],
   "source": [
    "test_table = ds.make_test_table(\"ltv\", window_size)\n",
    "test_table"
   ]
  },
  {
   "cell_type": "markdown",
   "id": "bb1d62c7-577c-4646-9e08-31c035562c7c",
   "metadata": {},
   "source": [
    "## Churn"
   ]
  },
  {
   "cell_type": "code",
   "execution_count": 31,
   "id": "77998437-c439-4cdb-b7ac-7091684800f1",
   "metadata": {
    "execution": {
     "iopub.execute_input": "2023-11-16T02:09:10.548159Z",
     "iopub.status.busy": "2023-11-16T02:09:10.547633Z",
     "iopub.status.idle": "2023-11-16T02:09:10.565860Z",
     "shell.execute_reply": "2023-11-16T02:09:10.565143Z",
     "shell.execute_reply.started": "2023-11-16T02:09:10.548121Z"
    }
   },
   "outputs": [
    {
     "data": {
      "text/plain": [
       "Timedelta('364 days 00:00:00')"
      ]
     },
     "execution_count": 31,
     "metadata": {},
     "output_type": "execute_result"
    }
   ],
   "source": [
    "window_size = ds.tasks[\"churn\"].window_sizes[0]\n",
    "window_size"
   ]
  },
  {
   "cell_type": "code",
   "execution_count": 32,
   "id": "436f098a-6c86-4068-95e9-f5a027440940",
   "metadata": {
    "execution": {
     "iopub.execute_input": "2023-11-16T02:09:11.000467Z",
     "iopub.status.busy": "2023-11-16T02:09:11.000271Z",
     "iopub.status.idle": "2023-11-16T02:09:11.022884Z",
     "shell.execute_reply": "2023-11-16T02:09:11.022029Z",
     "shell.execute_reply.started": "2023-11-16T02:09:11.000450Z"
    }
   },
   "outputs": [
    {
     "data": {
      "text/plain": [
       "Table(df=\n",
       "        window_min_time     window_max_time  customer_id  churn\n",
       "0   1970-01-01 00:00:01 1970-12-31 00:00:01            0   True\n",
       "1   1970-01-01 00:00:01 1970-12-31 00:00:01            1   True\n",
       "2   1970-01-01 00:00:01 1970-12-31 00:00:01            2   True\n",
       "3   1970-01-01 00:00:01 1970-12-31 00:00:01            3  False\n",
       "4   1970-01-01 00:00:01 1970-12-31 00:00:01            4   True\n",
       "..                  ...                 ...          ...    ...\n",
       "995 1978-12-21 00:00:01 1979-12-20 00:00:01           95  False\n",
       "996 1978-12-21 00:00:01 1979-12-20 00:00:01           96  False\n",
       "997 1978-12-21 00:00:01 1979-12-20 00:00:01           97   True\n",
       "998 1978-12-21 00:00:01 1979-12-20 00:00:01           98   True\n",
       "999 1978-12-21 00:00:01 1979-12-20 00:00:01           99   True\n",
       "\n",
       "[1000 rows x 4 columns],\n",
       "  fkey_col_to_pkey_table={'customer_id': 'customer'},\n",
       "  pkey_col=None,\n",
       "  time_col=window_min_time)"
      ]
     },
     "execution_count": 32,
     "metadata": {},
     "output_type": "execute_result"
    }
   ],
   "source": [
    "train_table = ds.make_train_table(\"churn\", window_size)\n",
    "train_table"
   ]
  },
  {
   "cell_type": "code",
   "execution_count": 33,
   "id": "3f5b5702-199f-4e78-8c2a-47452e2227e2",
   "metadata": {
    "execution": {
     "iopub.execute_input": "2023-11-16T02:09:11.501963Z",
     "iopub.status.busy": "2023-11-16T02:09:11.501627Z",
     "iopub.status.idle": "2023-11-16T02:09:11.525376Z",
     "shell.execute_reply": "2023-11-16T02:09:11.524589Z",
     "shell.execute_reply.started": "2023-11-16T02:09:11.501946Z"
    }
   },
   "outputs": [
    {
     "data": {
      "text/plain": [
       "Table(df=\n",
       "       window_min_time window_max_time  customer_id\n",
       "0  1982-04-19 00:00:01      1983-04-18            0\n",
       "1  1982-04-19 00:00:01      1983-04-18            1\n",
       "2  1982-04-19 00:00:01      1983-04-18            2\n",
       "3  1982-04-19 00:00:01      1983-04-18            3\n",
       "4  1982-04-19 00:00:01      1983-04-18            4\n",
       "..                 ...             ...          ...\n",
       "95 1982-04-19 00:00:01      1983-04-18           95\n",
       "96 1982-04-19 00:00:01      1983-04-18           96\n",
       "97 1982-04-19 00:00:01      1983-04-18           97\n",
       "98 1982-04-19 00:00:01      1983-04-18           98\n",
       "99 1982-04-19 00:00:01      1983-04-18           99\n",
       "\n",
       "[100 rows x 3 columns],\n",
       "  fkey_col_to_pkey_table={'customer_id': 'customer'},\n",
       "  pkey_col=None,\n",
       "  time_col=window_min_time)"
      ]
     },
     "execution_count": 33,
     "metadata": {},
     "output_type": "execute_result"
    }
   ],
   "source": [
    "test_table = ds.make_test_table(\"churn\", window_size)\n",
    "test_table"
   ]
  },
  {
   "cell_type": "code",
   "execution_count": null,
   "id": "0e52661f-48d0-44bc-afe4-5afaa6602e7a",
   "metadata": {},
   "outputs": [],
   "source": []
  }
 ],
 "metadata": {
  "kernelspec": {
   "display_name": "Python 3 (ipykernel)",
   "language": "python",
   "name": "python3"
  },
  "language_info": {
   "codemirror_mode": {
    "name": "ipython",
    "version": 3
   },
   "file_extension": ".py",
   "mimetype": "text/x-python",
   "name": "python",
   "nbconvert_exporter": "python",
   "pygments_lexer": "ipython3",
   "version": "3.11.6"
  }
 },
 "nbformat": 4,
 "nbformat_minor": 5
}
