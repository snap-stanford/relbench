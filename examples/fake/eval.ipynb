{
 "cells": [
  {
   "cell_type": "code",
   "execution_count": 1,
   "id": "2a845de0-1200-4d41-a280-dc0d48c81824",
   "metadata": {
    "execution": {
     "iopub.execute_input": "2023-11-17T20:02:31.483968Z",
     "iopub.status.busy": "2023-11-17T20:02:31.483479Z",
     "iopub.status.idle": "2023-11-17T20:02:31.503372Z",
     "shell.execute_reply": "2023-11-17T20:02:31.502646Z",
     "shell.execute_reply.started": "2023-11-17T20:02:31.483928Z"
    }
   },
   "outputs": [],
   "source": [
    "%load_ext autoreload\n",
    "%autoreload 2"
   ]
  },
  {
   "cell_type": "code",
   "execution_count": 2,
   "id": "dfbbd9e5-64d4-4eb8-9c78-b5cd1ebeee7d",
   "metadata": {
    "execution": {
     "iopub.execute_input": "2023-11-17T20:02:33.437480Z",
     "iopub.status.busy": "2023-11-17T20:02:33.437146Z",
     "iopub.status.idle": "2023-11-17T20:02:33.861181Z",
     "shell.execute_reply": "2023-11-17T20:02:33.860423Z",
     "shell.execute_reply.started": "2023-11-17T20:02:33.437445Z"
    }
   },
   "outputs": [],
   "source": [
    "import pandas as pd\n",
    "\n",
    "from rtb.datasets.fake import FakeProductDataset"
   ]
  },
  {
   "cell_type": "code",
   "execution_count": 3,
   "id": "ded9a336-30b5-4823-bb02-ef83d1def772",
   "metadata": {
    "execution": {
     "iopub.execute_input": "2023-11-17T20:02:34.889574Z",
     "iopub.status.busy": "2023-11-17T20:02:34.889140Z",
     "iopub.status.idle": "2023-11-17T20:02:34.915046Z",
     "shell.execute_reply": "2023-11-17T20:02:34.914237Z",
     "shell.execute_reply.started": "2023-11-17T20:02:34.889556Z"
    }
   },
   "outputs": [
    {
     "name": "stdout",
     "output_type": "stream",
     "text": [
      "processing db...\n",
      "processing db took 0.00 seconds.\n",
      "reindexing pkeys and fkeys...\n",
      "reindexing pkeys and fkeys took 0.00 seconds.\n",
      "saving table product...\n",
      "done in 0.00 seconds.\n",
      "saving table customer...\n",
      "done in 0.00 seconds.\n",
      "saving table review...\n",
      "done in 0.00 seconds.\n"
     ]
    }
   ],
   "source": [
    "ds = FakeProductDataset(root=\"../../data\", process=True)"
   ]
  },
  {
   "cell_type": "code",
   "execution_count": 4,
   "id": "a3a6d57d-c2f0-4cad-bdae-898d47005c46",
   "metadata": {
    "execution": {
     "iopub.execute_input": "2023-11-17T20:02:36.834187Z",
     "iopub.status.busy": "2023-11-17T20:02:36.833845Z",
     "iopub.status.idle": "2023-11-17T20:02:36.852370Z",
     "shell.execute_reply": "2023-11-17T20:02:36.851630Z",
     "shell.execute_reply.started": "2023-11-17T20:02:36.834152Z"
    }
   },
   "outputs": [
    {
     "data": {
      "text/plain": [
       "FakeProductDataset(\n",
       "  tables=['customer', 'product', 'review'],\n",
       "  tasks=['churn', 'ltv'],\n",
       "  min_time=1970-01-01 00:00:00,\n",
       "  max_time=1983-08-31 00:00:00,\n",
       "  train_max_time=1980-12-06 00:00:00,\n",
       "  val_max_time=1982-04-19 00:00:00,\n",
       ")"
      ]
     },
     "execution_count": 4,
     "metadata": {},
     "output_type": "execute_result"
    }
   ],
   "source": [
    "ds"
   ]
  },
  {
   "cell_type": "code",
   "execution_count": 5,
   "id": "44f17d0e-d462-4916-8d1a-0615c6a4c511",
   "metadata": {
    "execution": {
     "iopub.execute_input": "2023-11-17T20:02:39.148623Z",
     "iopub.status.busy": "2023-11-17T20:02:39.148370Z",
     "iopub.status.idle": "2023-11-17T20:02:39.162671Z",
     "shell.execute_reply": "2023-11-17T20:02:39.162037Z",
     "shell.execute_reply.started": "2023-11-17T20:02:39.148598Z"
    }
   },
   "outputs": [],
   "source": [
    "db = ds._db"
   ]
  },
  {
   "cell_type": "code",
   "execution_count": 6,
   "id": "740db031-cf43-4504-9a96-aa0a96b329f1",
   "metadata": {
    "execution": {
     "iopub.execute_input": "2023-11-17T20:02:41.881117Z",
     "iopub.status.busy": "2023-11-17T20:02:41.880773Z",
     "iopub.status.idle": "2023-11-17T20:02:41.900021Z",
     "shell.execute_reply": "2023-11-17T20:02:41.899272Z",
     "shell.execute_reply.started": "2023-11-17T20:02:41.881084Z"
    }
   },
   "outputs": [
    {
     "data": {
      "text/plain": [
       "Table(df=\n",
       "    product_id     price\n",
       "0            0  7.933329\n",
       "1            1  7.038619\n",
       "2            2  0.158649\n",
       "3            3  0.518410\n",
       "4            4  4.818155\n",
       "5            5  3.141007\n",
       "6            6  1.431061\n",
       "7            7  1.547290\n",
       "8            8  2.967621\n",
       "9            9  0.746088\n",
       "10          10  5.842344\n",
       "11          11  1.880436\n",
       "12          12  6.401836\n",
       "13          13  3.386802\n",
       "14          14  4.306679\n",
       "15          15  5.949301\n",
       "16          16  1.939805\n",
       "17          17  5.664110\n",
       "18          18  1.053453\n",
       "19          19  8.652637\n",
       "20          20  3.733404\n",
       "21          21  9.676562\n",
       "22          22  3.578265\n",
       "23          23  9.182926\n",
       "24          24  1.824545\n",
       "25          25  6.855145\n",
       "26          26  9.202965\n",
       "27          27  8.073468\n",
       "28          28  3.573111\n",
       "29          29  9.352129,\n",
       "  fkey_col_to_pkey_table={},\n",
       "  pkey_col=product_id,\n",
       "  time_col=None)"
      ]
     },
     "execution_count": 6,
     "metadata": {},
     "output_type": "execute_result"
    }
   ],
   "source": [
    "db.tables[\"product\"]"
   ]
  },
  {
   "cell_type": "code",
   "execution_count": 7,
   "id": "1f9f4d59-133a-4b87-a026-4bab923c488e",
   "metadata": {
    "execution": {
     "iopub.execute_input": "2023-11-17T20:02:48.832898Z",
     "iopub.status.busy": "2023-11-17T20:02:48.832492Z",
     "iopub.status.idle": "2023-11-17T20:02:48.852602Z",
     "shell.execute_reply": "2023-11-17T20:02:48.851869Z",
     "shell.execute_reply.started": "2023-11-17T20:02:48.832861Z"
    }
   },
   "outputs": [
    {
     "data": {
      "text/plain": [
       "Table(df=\n",
       "     customer_id  product_id review_time  rating\n",
       "0             30           6  1970-01-01       1\n",
       "1             26          11  1970-01-11       2\n",
       "2             99           7  1970-01-21       4\n",
       "3           <NA>           7  1970-01-31       4\n",
       "4             17          26  1970-02-10       4\n",
       "..           ...         ...         ...     ...\n",
       "495           43          26  1983-07-22       5\n",
       "496         <NA>           2  1983-08-01       1\n",
       "497            6          24  1983-08-11       2\n",
       "498           90          27  1983-08-21       3\n",
       "499           66          26  1983-08-31       3\n",
       "\n",
       "[500 rows x 4 columns],\n",
       "  fkey_col_to_pkey_table={'customer_id': 'customer', 'product_id': 'product'},\n",
       "  pkey_col=None,\n",
       "  time_col=review_time)"
      ]
     },
     "execution_count": 7,
     "metadata": {},
     "output_type": "execute_result"
    }
   ],
   "source": [
    "db.tables[\"review\"]"
   ]
  },
  {
   "cell_type": "code",
   "execution_count": 8,
   "id": "a5ba5d73-4961-4eb0-8e42-a5070d018b3f",
   "metadata": {
    "execution": {
     "iopub.execute_input": "2023-11-17T20:02:57.739522Z",
     "iopub.status.busy": "2023-11-17T20:02:57.739110Z",
     "iopub.status.idle": "2023-11-17T20:02:57.757569Z",
     "shell.execute_reply": "2023-11-17T20:02:57.756932Z",
     "shell.execute_reply.started": "2023-11-17T20:02:57.739485Z"
    }
   },
   "outputs": [
    {
     "data": {
      "text/plain": [
       "Table(df=\n",
       "    customer_id  age  gender\n",
       "0             0   21    male\n",
       "1             1   49  female\n",
       "2             2   37    male\n",
       "3             3   11  female\n",
       "4             4   44    male\n",
       "..          ...  ...     ...\n",
       "95           95   32  female\n",
       "96           96   23    male\n",
       "97           97   38  female\n",
       "98           98   37    male\n",
       "99           99   21  female\n",
       "\n",
       "[100 rows x 3 columns],\n",
       "  fkey_col_to_pkey_table={},\n",
       "  pkey_col=customer_id,\n",
       "  time_col=None)"
      ]
     },
     "execution_count": 8,
     "metadata": {},
     "output_type": "execute_result"
    }
   ],
   "source": [
    "db.tables[\"customer\"]"
   ]
  },
  {
   "cell_type": "markdown",
   "id": "0a566b8b-0b96-43a6-a6cd-73bc0a58fd11",
   "metadata": {},
   "source": [
    "## LTV"
   ]
  },
  {
   "cell_type": "code",
   "execution_count": 9,
   "id": "558bd883-2ae3-42b1-924b-9932cabc61c3",
   "metadata": {
    "execution": {
     "iopub.execute_input": "2023-11-17T20:03:04.087853Z",
     "iopub.status.busy": "2023-11-17T20:03:04.087582Z",
     "iopub.status.idle": "2023-11-17T20:03:04.104804Z",
     "shell.execute_reply": "2023-11-17T20:03:04.103881Z",
     "shell.execute_reply.started": "2023-11-17T20:03:04.087834Z"
    }
   },
   "outputs": [
    {
     "data": {
      "text/plain": [
       "Timedelta('364 days 00:00:00')"
      ]
     },
     "execution_count": 9,
     "metadata": {},
     "output_type": "execute_result"
    }
   ],
   "source": [
    "window_size = ds.tasks[\"ltv\"].window_sizes[0]\n",
    "window_size"
   ]
  },
  {
   "cell_type": "code",
   "execution_count": 10,
   "id": "2728fda6-1523-4988-bfc8-86d47133f58f",
   "metadata": {
    "execution": {
     "iopub.execute_input": "2023-11-17T20:03:04.809245Z",
     "iopub.status.busy": "2023-11-17T20:03:04.809012Z",
     "iopub.status.idle": "2023-11-17T20:03:04.852906Z",
     "shell.execute_reply": "2023-11-17T20:03:04.851971Z",
     "shell.execute_reply.started": "2023-11-17T20:03:04.809229Z"
    }
   },
   "outputs": [
    {
     "data": {
      "text/plain": [
       "Table(df=\n",
       "    window_min_time window_max_time  customer_id       ltv  count\n",
       "0        1979-12-08      1980-12-06            0  0.000000      0\n",
       "1        1979-12-08      1980-12-06            1  0.000000      0\n",
       "2        1979-12-08      1980-12-06            3  0.000000      0\n",
       "3        1979-12-08      1980-12-06            4  9.676562      1\n",
       "4        1979-12-08      1980-12-06            5  0.000000      0\n",
       "..              ...             ...          ...       ...    ...\n",
       "895      1972-12-16      1973-12-15           74  3.733404      1\n",
       "896      1971-12-18      1972-12-16           15  0.000000      0\n",
       "897      1971-12-18      1972-12-16           25  0.000000      0\n",
       "898      1971-12-18      1972-12-16           93  0.000000      0\n",
       "899      1971-12-18      1972-12-16           97  0.000000      0\n",
       "\n",
       "[900 rows x 5 columns],\n",
       "  fkey_col_to_pkey_table={'customer_id': 'customer'},\n",
       "  pkey_col=None,\n",
       "  time_col=window_min_time)"
      ]
     },
     "execution_count": 10,
     "metadata": {},
     "output_type": "execute_result"
    }
   ],
   "source": [
    "train_table = ds.make_train_table(\"ltv\", window_size)\n",
    "train_table"
   ]
  },
  {
   "cell_type": "code",
   "execution_count": 11,
   "id": "31303937-30c3-4a94-b6c9-06c301a5b8bb",
   "metadata": {
    "execution": {
     "iopub.execute_input": "2023-11-17T20:03:08.893086Z",
     "iopub.status.busy": "2023-11-17T20:03:08.892680Z",
     "iopub.status.idle": "2023-11-17T20:03:08.932369Z",
     "shell.execute_reply": "2023-11-17T20:03:08.931556Z",
     "shell.execute_reply.started": "2023-11-17T20:03:08.893050Z"
    }
   },
   "outputs": [
    {
     "data": {
      "text/plain": [
       "Table(df=\n",
       "   window_min_time window_max_time  customer_id\n",
       "0       1982-04-19      1983-04-18            0\n",
       "1       1982-04-19      1983-04-18            1\n",
       "2       1982-04-19      1983-04-18            2\n",
       "3       1982-04-19      1983-04-18            3\n",
       "4       1982-04-19      1983-04-18            4\n",
       "..             ...             ...          ...\n",
       "95      1982-04-19      1983-04-18           98\n",
       "96      1982-04-19      1983-04-18           99\n",
       "97      1982-04-19      1983-04-18           53\n",
       "98      1982-04-19      1983-04-18           59\n",
       "99      1982-04-19      1983-04-18           79\n",
       "\n",
       "[100 rows x 3 columns],\n",
       "  fkey_col_to_pkey_table={'customer_id': 'customer'},\n",
       "  pkey_col=None,\n",
       "  time_col=window_min_time)"
      ]
     },
     "execution_count": 11,
     "metadata": {},
     "output_type": "execute_result"
    }
   ],
   "source": [
    "test_table = ds.make_test_table(\"ltv\", window_size)\n",
    "test_table"
   ]
  },
  {
   "cell_type": "markdown",
   "id": "bb1d62c7-577c-4646-9e08-31c035562c7c",
   "metadata": {},
   "source": [
    "## Churn"
   ]
  },
  {
   "cell_type": "code",
   "execution_count": 12,
   "id": "77998437-c439-4cdb-b7ac-7091684800f1",
   "metadata": {
    "execution": {
     "iopub.execute_input": "2023-11-17T20:03:15.815989Z",
     "iopub.status.busy": "2023-11-17T20:03:15.815439Z",
     "iopub.status.idle": "2023-11-17T20:03:15.834314Z",
     "shell.execute_reply": "2023-11-17T20:03:15.833557Z",
     "shell.execute_reply.started": "2023-11-17T20:03:15.815947Z"
    }
   },
   "outputs": [
    {
     "data": {
      "text/plain": [
       "Timedelta('364 days 00:00:00')"
      ]
     },
     "execution_count": 12,
     "metadata": {},
     "output_type": "execute_result"
    }
   ],
   "source": [
    "window_size = ds.tasks[\"churn\"].window_sizes[0]\n",
    "window_size"
   ]
  },
  {
   "cell_type": "code",
   "execution_count": 13,
   "id": "436f098a-6c86-4068-95e9-f5a027440940",
   "metadata": {
    "execution": {
     "iopub.execute_input": "2023-11-17T20:03:17.608354Z",
     "iopub.status.busy": "2023-11-17T20:03:17.607840Z",
     "iopub.status.idle": "2023-11-17T20:03:17.638739Z",
     "shell.execute_reply": "2023-11-17T20:03:17.637688Z",
     "shell.execute_reply.started": "2023-11-17T20:03:17.608303Z"
    }
   },
   "outputs": [
    {
     "data": {
      "text/plain": [
       "Table(df=\n",
       "    window_min_time window_max_time  customer_id  churn\n",
       "0        1979-12-08      1980-12-06            0   True\n",
       "1        1979-12-08      1980-12-06            1   True\n",
       "2        1979-12-08      1980-12-06            2   True\n",
       "3        1979-12-08      1980-12-06            3   True\n",
       "4        1979-12-08      1980-12-06            4  False\n",
       "..              ...             ...          ...    ...\n",
       "895      1971-12-18      1972-12-16           95  False\n",
       "896      1971-12-18      1972-12-16           96   True\n",
       "897      1971-12-18      1972-12-16           97   True\n",
       "898      1971-12-18      1972-12-16           98   True\n",
       "899      1971-12-18      1972-12-16           99   True\n",
       "\n",
       "[900 rows x 4 columns],\n",
       "  fkey_col_to_pkey_table={'customer_id': 'customer'},\n",
       "  pkey_col=None,\n",
       "  time_col=window_min_time)"
      ]
     },
     "execution_count": 13,
     "metadata": {},
     "output_type": "execute_result"
    }
   ],
   "source": [
    "train_table = ds.make_train_table(\"churn\", window_size)\n",
    "train_table"
   ]
  },
  {
   "cell_type": "code",
   "execution_count": 14,
   "id": "3f5b5702-199f-4e78-8c2a-47452e2227e2",
   "metadata": {
    "execution": {
     "iopub.execute_input": "2023-11-17T20:03:21.729725Z",
     "iopub.status.busy": "2023-11-17T20:03:21.729293Z",
     "iopub.status.idle": "2023-11-17T20:03:21.759123Z",
     "shell.execute_reply": "2023-11-17T20:03:21.758419Z",
     "shell.execute_reply.started": "2023-11-17T20:03:21.729689Z"
    }
   },
   "outputs": [
    {
     "data": {
      "text/plain": [
       "Table(df=\n",
       "   window_min_time window_max_time  customer_id\n",
       "0       1982-04-19      1983-04-18            0\n",
       "1       1982-04-19      1983-04-18            1\n",
       "2       1982-04-19      1983-04-18            2\n",
       "3       1982-04-19      1983-04-18            3\n",
       "4       1982-04-19      1983-04-18            4\n",
       "..             ...             ...          ...\n",
       "95      1982-04-19      1983-04-18           95\n",
       "96      1982-04-19      1983-04-18           96\n",
       "97      1982-04-19      1983-04-18           97\n",
       "98      1982-04-19      1983-04-18           98\n",
       "99      1982-04-19      1983-04-18           99\n",
       "\n",
       "[100 rows x 3 columns],\n",
       "  fkey_col_to_pkey_table={'customer_id': 'customer'},\n",
       "  pkey_col=None,\n",
       "  time_col=window_min_time)"
      ]
     },
     "execution_count": 14,
     "metadata": {},
     "output_type": "execute_result"
    }
   ],
   "source": [
    "test_table = ds.make_test_table(\"churn\", window_size)\n",
    "test_table"
   ]
  },
  {
   "cell_type": "code",
   "execution_count": null,
   "id": "0e52661f-48d0-44bc-afe4-5afaa6602e7a",
   "metadata": {},
   "outputs": [],
   "source": []
  }
 ],
 "metadata": {
  "kernelspec": {
   "display_name": "Python [conda env:rtb]",
   "language": "python",
   "name": "conda-env-rtb-py"
  },
  "language_info": {
   "codemirror_mode": {
    "name": "ipython",
    "version": 3
   },
   "file_extension": ".py",
   "mimetype": "text/x-python",
   "name": "python",
   "nbconvert_exporter": "python",
   "pygments_lexer": "ipython3",
   "version": "3.8.18"
  }
 },
 "nbformat": 4,
 "nbformat_minor": 5
}
