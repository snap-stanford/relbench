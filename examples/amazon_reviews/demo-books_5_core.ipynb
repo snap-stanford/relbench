{
 "cells": [
  {
   "cell_type": "code",
   "execution_count": 1,
   "id": "f328220d-6d96-447b-9da6-18ae0069025a",
   "metadata": {
    "execution": {
     "iopub.execute_input": "2023-11-25T03:31:17.613770Z",
     "iopub.status.busy": "2023-11-25T03:31:17.613451Z",
     "iopub.status.idle": "2023-11-25T03:31:17.639608Z",
     "shell.execute_reply": "2023-11-25T03:31:17.638576Z",
     "shell.execute_reply.started": "2023-11-25T03:31:17.613732Z"
    }
   },
   "outputs": [],
   "source": [
    "%load_ext autoreload\n",
    "%autoreload 2"
   ]
  },
  {
   "cell_type": "code",
   "execution_count": 2,
   "id": "6f3dac79-b7aa-46e7-9f60-7728da8bc263",
   "metadata": {
    "execution": {
     "iopub.execute_input": "2023-11-25T03:31:18.365569Z",
     "iopub.status.busy": "2023-11-25T03:31:18.365200Z",
     "iopub.status.idle": "2023-11-25T03:31:19.031005Z",
     "shell.execute_reply": "2023-11-25T03:31:19.030140Z",
     "shell.execute_reply.started": "2023-11-25T03:31:18.365534Z"
    }
   },
   "outputs": [],
   "source": [
    "from rtb.datasets import get_dataset"
   ]
  },
  {
   "cell_type": "code",
   "execution_count": 3,
   "id": "7c9d1987-1582-4115-92e2-23d4e9da3a98",
   "metadata": {
    "execution": {
     "iopub.execute_input": "2023-11-25T03:31:23.225747Z",
     "iopub.status.busy": "2023-11-25T03:31:23.225174Z",
     "iopub.status.idle": "2023-11-25T03:32:12.220953Z",
     "shell.execute_reply": "2023-11-25T03:32:12.219866Z",
     "shell.execute_reply.started": "2023-11-25T03:31:23.225709Z"
    }
   },
   "outputs": [
    {
     "name": "stdout",
     "output_type": "stream",
     "text": [
      "loading db...\n",
      "loading db took 46.48 seconds.\n"
     ]
    }
   ],
   "source": [
    "dataset = get_dataset(name=\"amazon_reviews\", root=\"../../data\")  # , process=True)"
   ]
  },
  {
   "cell_type": "code",
   "execution_count": 4,
   "id": "305c79f9-6f79-41b6-8fbe-e9d0370c23fc",
   "metadata": {
    "execution": {
     "iopub.execute_input": "2023-11-25T03:32:15.173871Z",
     "iopub.status.busy": "2023-11-25T03:32:15.173404Z",
     "iopub.status.idle": "2023-11-25T03:32:15.203365Z",
     "shell.execute_reply": "2023-11-25T03:32:15.202441Z",
     "shell.execute_reply.started": "2023-11-25T03:32:15.173832Z"
    }
   },
   "outputs": [
    {
     "data": {
      "text/plain": [
       "['customer_churn', 'customer_ltv']"
      ]
     },
     "execution_count": 4,
     "metadata": {},
     "output_type": "execute_result"
    }
   ],
   "source": [
    "dataset.task_names"
   ]
  },
  {
   "cell_type": "code",
   "execution_count": 5,
   "id": "999cf3cc-a470-4413-af3c-1e1e7a32adb4",
   "metadata": {
    "execution": {
     "iopub.execute_input": "2023-11-25T03:32:18.126094Z",
     "iopub.status.busy": "2023-11-25T03:32:18.125631Z",
     "iopub.status.idle": "2023-11-25T03:32:18.148382Z",
     "shell.execute_reply": "2023-11-25T03:32:18.147437Z",
     "shell.execute_reply.started": "2023-11-25T03:32:18.126057Z"
    }
   },
   "outputs": [],
   "source": [
    "db = dataset._db"
   ]
  },
  {
   "cell_type": "code",
   "execution_count": 6,
   "id": "1ea16577-ca56-4edb-b459-e506f3c3f6b4",
   "metadata": {
    "execution": {
     "iopub.execute_input": "2023-11-25T03:32:19.985369Z",
     "iopub.status.busy": "2023-11-25T03:32:19.984997Z",
     "iopub.status.idle": "2023-11-25T03:32:19.997385Z",
     "shell.execute_reply": "2023-11-25T03:32:19.996767Z",
     "shell.execute_reply.started": "2023-11-25T03:32:19.985339Z"
    }
   },
   "outputs": [],
   "source": [
    "customer = db.table_dict[\"customer\"].df\n",
    "product = db.table_dict[\"product\"].df\n",
    "review = db.table_dict[\"review\"].df"
   ]
  },
  {
   "cell_type": "code",
   "execution_count": 7,
   "id": "559e16ec-8d0f-4ae0-8721-a254af40509a",
   "metadata": {
    "execution": {
     "iopub.execute_input": "2023-11-25T03:32:20.488016Z",
     "iopub.status.busy": "2023-11-25T03:32:20.487686Z",
     "iopub.status.idle": "2023-11-25T03:32:20.509432Z",
     "shell.execute_reply": "2023-11-25T03:32:20.508682Z",
     "shell.execute_reply.started": "2023-11-25T03:32:20.487999Z"
    }
   },
   "outputs": [
    {
     "data": {
      "text/html": [
       "<div>\n",
       "<style scoped>\n",
       "    .dataframe tbody tr th:only-of-type {\n",
       "        vertical-align: middle;\n",
       "    }\n",
       "\n",
       "    .dataframe tbody tr th {\n",
       "        vertical-align: top;\n",
       "    }\n",
       "\n",
       "    .dataframe thead th {\n",
       "        text-align: right;\n",
       "    }\n",
       "</style>\n",
       "<table border=\"1\" class=\"dataframe\">\n",
       "  <thead>\n",
       "    <tr style=\"text-align: right;\">\n",
       "      <th></th>\n",
       "      <th>customer_id</th>\n",
       "      <th>customer_name</th>\n",
       "    </tr>\n",
       "  </thead>\n",
       "  <tbody>\n",
       "    <tr>\n",
       "      <th>0</th>\n",
       "      <td>0</td>\n",
       "      <td>TW Ervin II</td>\n",
       "    </tr>\n",
       "    <tr>\n",
       "      <th>1</th>\n",
       "      <td>1</td>\n",
       "      <td>Amazon Customer</td>\n",
       "    </tr>\n",
       "    <tr>\n",
       "      <th>2</th>\n",
       "      <td>2</td>\n",
       "      <td>Tekla Borner</td>\n",
       "    </tr>\n",
       "    <tr>\n",
       "      <th>3</th>\n",
       "      <td>3</td>\n",
       "      <td>Deborah K Woroniecki</td>\n",
       "    </tr>\n",
       "    <tr>\n",
       "      <th>4</th>\n",
       "      <td>4</td>\n",
       "      <td>E</td>\n",
       "    </tr>\n",
       "    <tr>\n",
       "      <th>...</th>\n",
       "      <td>...</td>\n",
       "      <td>...</td>\n",
       "    </tr>\n",
       "    <tr>\n",
       "      <th>1850188</th>\n",
       "      <td>1850188</td>\n",
       "      <td>Amazon Customer</td>\n",
       "    </tr>\n",
       "    <tr>\n",
       "      <th>1850189</th>\n",
       "      <td>1850189</td>\n",
       "      <td>AmizoP</td>\n",
       "    </tr>\n",
       "    <tr>\n",
       "      <th>1850190</th>\n",
       "      <td>1850190</td>\n",
       "      <td>JuicyBeans</td>\n",
       "    </tr>\n",
       "    <tr>\n",
       "      <th>1850191</th>\n",
       "      <td>1850191</td>\n",
       "      <td>Halley Cortez</td>\n",
       "    </tr>\n",
       "    <tr>\n",
       "      <th>1850192</th>\n",
       "      <td>1850192</td>\n",
       "      <td>RNqueen</td>\n",
       "    </tr>\n",
       "  </tbody>\n",
       "</table>\n",
       "<p>1850193 rows × 2 columns</p>\n",
       "</div>"
      ],
      "text/plain": [
       "         customer_id         customer_name\n",
       "0                  0           TW Ervin II\n",
       "1                  1       Amazon Customer\n",
       "2                  2          Tekla Borner\n",
       "3                  3  Deborah K Woroniecki\n",
       "4                  4                     E\n",
       "...              ...                   ...\n",
       "1850188      1850188       Amazon Customer\n",
       "1850189      1850189                AmizoP\n",
       "1850190      1850190            JuicyBeans\n",
       "1850191      1850191         Halley Cortez\n",
       "1850192      1850192               RNqueen\n",
       "\n",
       "[1850193 rows x 2 columns]"
      ]
     },
     "execution_count": 7,
     "metadata": {},
     "output_type": "execute_result"
    }
   ],
   "source": [
    "customer"
   ]
  },
  {
   "cell_type": "code",
   "execution_count": 8,
   "id": "a5115f80-4c86-4131-8ad4-f32af815041d",
   "metadata": {
    "execution": {
     "iopub.execute_input": "2023-11-25T03:32:21.115071Z",
     "iopub.status.busy": "2023-11-25T03:32:21.114842Z",
     "iopub.status.idle": "2023-11-25T03:32:21.135651Z",
     "shell.execute_reply": "2023-11-25T03:32:21.134721Z",
     "shell.execute_reply.started": "2023-11-25T03:32:21.115054Z"
    }
   },
   "outputs": [
    {
     "data": {
      "text/html": [
       "<div>\n",
       "<style scoped>\n",
       "    .dataframe tbody tr th:only-of-type {\n",
       "        vertical-align: middle;\n",
       "    }\n",
       "\n",
       "    .dataframe tbody tr th {\n",
       "        vertical-align: top;\n",
       "    }\n",
       "\n",
       "    .dataframe thead th {\n",
       "        text-align: right;\n",
       "    }\n",
       "</style>\n",
       "<table border=\"1\" class=\"dataframe\">\n",
       "  <thead>\n",
       "    <tr style=\"text-align: right;\">\n",
       "      <th></th>\n",
       "      <th>product_id</th>\n",
       "      <th>category</th>\n",
       "      <th>brand</th>\n",
       "      <th>title</th>\n",
       "      <th>description</th>\n",
       "      <th>price</th>\n",
       "    </tr>\n",
       "  </thead>\n",
       "  <tbody>\n",
       "    <tr>\n",
       "      <th>0</th>\n",
       "      <td>0</td>\n",
       "      <td>[Books, Literature &amp; Fiction, Dramas &amp; Plays]</td>\n",
       "      <td>Visit Amazon's William Shakespeare Page</td>\n",
       "      <td>Love's Labour's Lost: Performed by Derek Jacob...</td>\n",
       "      <td>William Shakespeare is widely regarded as the ...</td>\n",
       "      <td>20.93</td>\n",
       "    </tr>\n",
       "    <tr>\n",
       "      <th>1</th>\n",
       "      <td>1</td>\n",
       "      <td>[Books, Children's Books, Literature &amp; Fiction]</td>\n",
       "      <td>Louis (ed) UNTERMEYER</td>\n",
       "      <td>The golden treasury of poetry</td>\n",
       "      <td>Collection of Poetry</td>\n",
       "      <td>23.98</td>\n",
       "    </tr>\n",
       "    <tr>\n",
       "      <th>2</th>\n",
       "      <td>2</td>\n",
       "      <td>[Books, Mystery, Thriller &amp; Suspense]</td>\n",
       "      <td>Visit Amazon's Agatha Christie Page</td>\n",
       "      <td>The Blue Geranium (Miss Marple)</td>\n",
       "      <td>None</td>\n",
       "      <td>8.82</td>\n",
       "    </tr>\n",
       "    <tr>\n",
       "      <th>3</th>\n",
       "      <td>3</td>\n",
       "      <td>[Books, Humor &amp; Entertainment]</td>\n",
       "      <td>Visit Amazon's Tom Baker Page</td>\n",
       "      <td>Who on Earth Is Tom Baker?</td>\n",
       "      <td>Tom Baker's autobiography covers his childhood...</td>\n",
       "      <td>159.95</td>\n",
       "    </tr>\n",
       "    <tr>\n",
       "      <th>4</th>\n",
       "      <td>4</td>\n",
       "      <td>[Books, Christian Books &amp; Bibles, Bible Study ...</td>\n",
       "      <td>Visit Amazon's Clarence Larkin Page</td>\n",
       "      <td>The Greatest Book on &amp;quot;Dispensational Trut...</td>\n",
       "      <td>The Greatest Book on Dispensational Truth in t...</td>\n",
       "      <td>44.76</td>\n",
       "    </tr>\n",
       "    <tr>\n",
       "      <th>...</th>\n",
       "      <td>...</td>\n",
       "      <td>...</td>\n",
       "      <td>...</td>\n",
       "      <td>...</td>\n",
       "      <td>...</td>\n",
       "      <td>...</td>\n",
       "    </tr>\n",
       "    <tr>\n",
       "      <th>506007</th>\n",
       "      <td>506007</td>\n",
       "      <td>None</td>\n",
       "      <td>Tricia &amp; Putman, Cara Goyer</td>\n",
       "      <td>Mason Jar Mayhem</td>\n",
       "      <td>Spring has come to Sugarcreek, and the communi...</td>\n",
       "      <td>15.05</td>\n",
       "    </tr>\n",
       "    <tr>\n",
       "      <th>506008</th>\n",
       "      <td>506008</td>\n",
       "      <td>None</td>\n",
       "      <td>Author</td>\n",
       "      <td>The Little Book of Pussy (2013-06-16) [Paperback]</td>\n",
       "      <td>From the time The Big Penis Book was published...</td>\n",
       "      <td>17.00</td>\n",
       "    </tr>\n",
       "    <tr>\n",
       "      <th>506009</th>\n",
       "      <td>506009</td>\n",
       "      <td>None</td>\n",
       "      <td></td>\n",
       "      <td>The Age of Not Believing: A Christmas Tale by ...</td>\n",
       "      <td>None</td>\n",
       "      <td>42.93</td>\n",
       "    </tr>\n",
       "    <tr>\n",
       "      <th>506010</th>\n",
       "      <td>506010</td>\n",
       "      <td>None</td>\n",
       "      <td></td>\n",
       "      <td>The Charlies Angels' Casebook</td>\n",
       "      <td>None</td>\n",
       "      <td>17.87</td>\n",
       "    </tr>\n",
       "    <tr>\n",
       "      <th>506011</th>\n",
       "      <td>506011</td>\n",
       "      <td>None</td>\n",
       "      <td></td>\n",
       "      <td>Underwater Photography Masterclass by Alex Mus...</td>\n",
       "      <td>None</td>\n",
       "      <td>46.62</td>\n",
       "    </tr>\n",
       "  </tbody>\n",
       "</table>\n",
       "<p>506012 rows × 6 columns</p>\n",
       "</div>"
      ],
      "text/plain": [
       "        product_id                                           category  \\\n",
       "0                0      [Books, Literature & Fiction, Dramas & Plays]   \n",
       "1                1    [Books, Children's Books, Literature & Fiction]   \n",
       "2                2              [Books, Mystery, Thriller & Suspense]   \n",
       "3                3                     [Books, Humor & Entertainment]   \n",
       "4                4  [Books, Christian Books & Bibles, Bible Study ...   \n",
       "...            ...                                                ...   \n",
       "506007      506007                                               None   \n",
       "506008      506008                                               None   \n",
       "506009      506009                                               None   \n",
       "506010      506010                                               None   \n",
       "506011      506011                                               None   \n",
       "\n",
       "                                          brand  \\\n",
       "0       Visit Amazon's William Shakespeare Page   \n",
       "1                         Louis (ed) UNTERMEYER   \n",
       "2           Visit Amazon's Agatha Christie Page   \n",
       "3                 Visit Amazon's Tom Baker Page   \n",
       "4           Visit Amazon's Clarence Larkin Page   \n",
       "...                                         ...   \n",
       "506007              Tricia & Putman, Cara Goyer   \n",
       "506008                                   Author   \n",
       "506009                                            \n",
       "506010                                            \n",
       "506011                                            \n",
       "\n",
       "                                                    title  \\\n",
       "0       Love's Labour's Lost: Performed by Derek Jacob...   \n",
       "1                           The golden treasury of poetry   \n",
       "2                         The Blue Geranium (Miss Marple)   \n",
       "3                              Who on Earth Is Tom Baker?   \n",
       "4       The Greatest Book on &quot;Dispensational Trut...   \n",
       "...                                                   ...   \n",
       "506007                                   Mason Jar Mayhem   \n",
       "506008  The Little Book of Pussy (2013-06-16) [Paperback]   \n",
       "506009  The Age of Not Believing: A Christmas Tale by ...   \n",
       "506010                      The Charlies Angels' Casebook   \n",
       "506011  Underwater Photography Masterclass by Alex Mus...   \n",
       "\n",
       "                                              description   price  \n",
       "0       William Shakespeare is widely regarded as the ...   20.93  \n",
       "1                                    Collection of Poetry   23.98  \n",
       "2                                                    None    8.82  \n",
       "3       Tom Baker's autobiography covers his childhood...  159.95  \n",
       "4       The Greatest Book on Dispensational Truth in t...   44.76  \n",
       "...                                                   ...     ...  \n",
       "506007  Spring has come to Sugarcreek, and the communi...   15.05  \n",
       "506008  From the time The Big Penis Book was published...   17.00  \n",
       "506009                                               None   42.93  \n",
       "506010                                               None   17.87  \n",
       "506011                                               None   46.62  \n",
       "\n",
       "[506012 rows x 6 columns]"
      ]
     },
     "execution_count": 8,
     "metadata": {},
     "output_type": "execute_result"
    }
   ],
   "source": [
    "product"
   ]
  },
  {
   "cell_type": "code",
   "execution_count": 9,
   "id": "39bd3e12-68c4-4e7a-9f5e-ce7ae0f4ca9a",
   "metadata": {
    "execution": {
     "iopub.execute_input": "2023-11-25T03:32:21.645793Z",
     "iopub.status.busy": "2023-11-25T03:32:21.645517Z",
     "iopub.status.idle": "2023-11-25T03:32:21.666537Z",
     "shell.execute_reply": "2023-11-25T03:32:21.665634Z",
     "shell.execute_reply.started": "2023-11-25T03:32:21.645777Z"
    }
   },
   "outputs": [
    {
     "data": {
      "text/html": [
       "<div>\n",
       "<style scoped>\n",
       "    .dataframe tbody tr th:only-of-type {\n",
       "        vertical-align: middle;\n",
       "    }\n",
       "\n",
       "    .dataframe tbody tr th {\n",
       "        vertical-align: top;\n",
       "    }\n",
       "\n",
       "    .dataframe thead th {\n",
       "        text-align: right;\n",
       "    }\n",
       "</style>\n",
       "<table border=\"1\" class=\"dataframe\">\n",
       "  <thead>\n",
       "    <tr style=\"text-align: right;\">\n",
       "      <th></th>\n",
       "      <th>review_time</th>\n",
       "      <th>customer_id</th>\n",
       "      <th>product_id</th>\n",
       "      <th>rating</th>\n",
       "      <th>verified</th>\n",
       "      <th>review_text</th>\n",
       "      <th>summary</th>\n",
       "    </tr>\n",
       "  </thead>\n",
       "  <tbody>\n",
       "    <tr>\n",
       "      <th>0</th>\n",
       "      <td>2005-03-30</td>\n",
       "      <td>0</td>\n",
       "      <td>14</td>\n",
       "      <td>5.0</td>\n",
       "      <td>False</td>\n",
       "      <td>The King, the Mice and the Cheese by Nancy Gur...</td>\n",
       "      <td>A story children will love and learn from</td>\n",
       "    </tr>\n",
       "    <tr>\n",
       "      <th>1</th>\n",
       "      <td>2016-06-20</td>\n",
       "      <td>1</td>\n",
       "      <td>14</td>\n",
       "      <td>5.0</td>\n",
       "      <td>True</td>\n",
       "      <td>The kids loved it!</td>\n",
       "      <td>Five Stars</td>\n",
       "    </tr>\n",
       "    <tr>\n",
       "      <th>2</th>\n",
       "      <td>2016-01-24</td>\n",
       "      <td>2</td>\n",
       "      <td>14</td>\n",
       "      <td>5.0</td>\n",
       "      <td>True</td>\n",
       "      <td>My students (3 &amp; 4 year olds) loved this book!...</td>\n",
       "      <td>Five Stars</td>\n",
       "    </tr>\n",
       "    <tr>\n",
       "      <th>3</th>\n",
       "      <td>2015-07-09</td>\n",
       "      <td>3</td>\n",
       "      <td>14</td>\n",
       "      <td>5.0</td>\n",
       "      <td>False</td>\n",
       "      <td>LOVE IT</td>\n",
       "      <td>Five Stars</td>\n",
       "    </tr>\n",
       "    <tr>\n",
       "      <th>4</th>\n",
       "      <td>2015-01-18</td>\n",
       "      <td>4</td>\n",
       "      <td>14</td>\n",
       "      <td>5.0</td>\n",
       "      <td>True</td>\n",
       "      <td>Great!</td>\n",
       "      <td>Five Stars</td>\n",
       "    </tr>\n",
       "    <tr>\n",
       "      <th>...</th>\n",
       "      <td>...</td>\n",
       "      <td>...</td>\n",
       "      <td>...</td>\n",
       "      <td>...</td>\n",
       "      <td>...</td>\n",
       "      <td>...</td>\n",
       "      <td>...</td>\n",
       "    </tr>\n",
       "    <tr>\n",
       "      <th>21935279</th>\n",
       "      <td>2012-12-02</td>\n",
       "      <td>319196</td>\n",
       "      <td>506010</td>\n",
       "      <td>5.0</td>\n",
       "      <td>False</td>\n",
       "      <td>This past year fans of \"Charlie's Angels\" were...</td>\n",
       "      <td>\"NOW THIS IS THE COMPANION TO THE \"CHARLIE'S A...</td>\n",
       "    </tr>\n",
       "    <tr>\n",
       "      <th>21935280</th>\n",
       "      <td>2008-12-15</td>\n",
       "      <td>1407251</td>\n",
       "      <td>506010</td>\n",
       "      <td>5.0</td>\n",
       "      <td>True</td>\n",
       "      <td>For any fan of Charlie's Angels, this book is ...</td>\n",
       "      <td>An Excellent Case!</td>\n",
       "    </tr>\n",
       "    <tr>\n",
       "      <th>21935281</th>\n",
       "      <td>2007-06-15</td>\n",
       "      <td>1373107</td>\n",
       "      <td>506010</td>\n",
       "      <td>3.0</td>\n",
       "      <td>False</td>\n",
       "      <td>To review this book I will divide it into two ...</td>\n",
       "      <td>Great Stories But A Little One-Sided</td>\n",
       "    </tr>\n",
       "    <tr>\n",
       "      <th>21935282</th>\n",
       "      <td>2018-05-27</td>\n",
       "      <td>319324</td>\n",
       "      <td>506011</td>\n",
       "      <td>3.0</td>\n",
       "      <td>True</td>\n",
       "      <td>Great pictures, good recommendations but not t...</td>\n",
       "      <td>Don't buy if your looking for details and sett...</td>\n",
       "    </tr>\n",
       "    <tr>\n",
       "      <th>21935283</th>\n",
       "      <td>2017-09-11</td>\n",
       "      <td>1703463</td>\n",
       "      <td>506011</td>\n",
       "      <td>5.0</td>\n",
       "      <td>True</td>\n",
       "      <td>Superb book. Very useful.</td>\n",
       "      <td>Superb book.</td>\n",
       "    </tr>\n",
       "  </tbody>\n",
       "</table>\n",
       "<p>21935284 rows × 7 columns</p>\n",
       "</div>"
      ],
      "text/plain": [
       "         review_time  customer_id  product_id  rating  verified  \\\n",
       "0         2005-03-30            0          14     5.0     False   \n",
       "1         2016-06-20            1          14     5.0      True   \n",
       "2         2016-01-24            2          14     5.0      True   \n",
       "3         2015-07-09            3          14     5.0     False   \n",
       "4         2015-01-18            4          14     5.0      True   \n",
       "...              ...          ...         ...     ...       ...   \n",
       "21935279  2012-12-02       319196      506010     5.0     False   \n",
       "21935280  2008-12-15      1407251      506010     5.0      True   \n",
       "21935281  2007-06-15      1373107      506010     3.0     False   \n",
       "21935282  2018-05-27       319324      506011     3.0      True   \n",
       "21935283  2017-09-11      1703463      506011     5.0      True   \n",
       "\n",
       "                                                review_text  \\\n",
       "0         The King, the Mice and the Cheese by Nancy Gur...   \n",
       "1                                        The kids loved it!   \n",
       "2         My students (3 & 4 year olds) loved this book!...   \n",
       "3                                                   LOVE IT   \n",
       "4                                                    Great!   \n",
       "...                                                     ...   \n",
       "21935279  This past year fans of \"Charlie's Angels\" were...   \n",
       "21935280  For any fan of Charlie's Angels, this book is ...   \n",
       "21935281  To review this book I will divide it into two ...   \n",
       "21935282  Great pictures, good recommendations but not t...   \n",
       "21935283                          Superb book. Very useful.   \n",
       "\n",
       "                                                    summary  \n",
       "0                 A story children will love and learn from  \n",
       "1                                                Five Stars  \n",
       "2                                                Five Stars  \n",
       "3                                                Five Stars  \n",
       "4                                                Five Stars  \n",
       "...                                                     ...  \n",
       "21935279  \"NOW THIS IS THE COMPANION TO THE \"CHARLIE'S A...  \n",
       "21935280                                 An Excellent Case!  \n",
       "21935281               Great Stories But A Little One-Sided  \n",
       "21935282  Don't buy if your looking for details and sett...  \n",
       "21935283                                       Superb book.  \n",
       "\n",
       "[21935284 rows x 7 columns]"
      ]
     },
     "execution_count": 9,
     "metadata": {},
     "output_type": "execute_result"
    }
   ],
   "source": [
    "review"
   ]
  },
  {
   "cell_type": "markdown",
   "id": "647c4d05-007e-4584-b2a4-98565a8f737e",
   "metadata": {},
   "source": [
    "## LTV"
   ]
  },
  {
   "cell_type": "code",
   "execution_count": 28,
   "id": "26faae7c-0c3e-4918-8060-1d876f681fdb",
   "metadata": {
    "execution": {
     "iopub.execute_input": "2023-11-25T03:39:14.359724Z",
     "iopub.status.busy": "2023-11-25T03:39:14.359306Z",
     "iopub.status.idle": "2023-11-25T03:39:14.379877Z",
     "shell.execute_reply": "2023-11-25T03:39:14.378883Z",
     "shell.execute_reply.started": "2023-11-25T03:39:14.359687Z"
    }
   },
   "outputs": [],
   "source": [
    "task = dataset.get_task(\"customer_ltv\")"
   ]
  },
  {
   "cell_type": "markdown",
   "id": "e029889c-e6b0-4cc0-ad87-680bb39c897c",
   "metadata": {
    "execution": {
     "iopub.execute_input": "2023-11-15T05:58:40.530507Z",
     "iopub.status.busy": "2023-11-15T05:58:40.530055Z",
     "iopub.status.idle": "2023-11-15T05:58:40.557811Z",
     "shell.execute_reply": "2023-11-15T05:58:40.557146Z",
     "shell.execute_reply.started": "2023-11-15T05:58:40.530470Z"
    }
   },
   "source": [
    "### train table"
   ]
  },
  {
   "cell_type": "code",
   "execution_count": 12,
   "id": "c3a070ed-9423-4ce7-99c0-2699f78c9f58",
   "metadata": {
    "execution": {
     "iopub.execute_input": "2023-11-25T03:35:26.818769Z",
     "iopub.status.busy": "2023-11-25T03:35:26.818347Z",
     "iopub.status.idle": "2023-11-25T03:35:35.289252Z",
     "shell.execute_reply": "2023-11-25T03:35:35.288203Z",
     "shell.execute_reply.started": "2023-11-25T03:35:26.818731Z"
    }
   },
   "outputs": [],
   "source": [
    "train_table = task.get_default_train_table(process=True)"
   ]
  },
  {
   "cell_type": "code",
   "execution_count": 13,
   "id": "1023c4d7-48c7-414d-bfcc-4cb601ce6e00",
   "metadata": {
    "execution": {
     "iopub.execute_input": "2023-11-25T03:35:38.915991Z",
     "iopub.status.busy": "2023-11-25T03:35:38.915201Z",
     "iopub.status.idle": "2023-11-25T03:35:38.943529Z",
     "shell.execute_reply": "2023-11-25T03:35:38.942808Z",
     "shell.execute_reply.started": "2023-11-25T03:35:38.915949Z"
    }
   },
   "outputs": [
    {
     "data": {
      "text/html": [
       "<div>\n",
       "<style scoped>\n",
       "    .dataframe tbody tr th:only-of-type {\n",
       "        vertical-align: middle;\n",
       "    }\n",
       "\n",
       "    .dataframe tbody tr th {\n",
       "        vertical-align: top;\n",
       "    }\n",
       "\n",
       "    .dataframe thead th {\n",
       "        text-align: right;\n",
       "    }\n",
       "</style>\n",
       "<table border=\"1\" class=\"dataframe\">\n",
       "  <thead>\n",
       "    <tr style=\"text-align: right;\">\n",
       "      <th></th>\n",
       "      <th>timestamp</th>\n",
       "      <th>customer_id</th>\n",
       "      <th>ltv</th>\n",
       "      <th>count_</th>\n",
       "    </tr>\n",
       "  </thead>\n",
       "  <tbody>\n",
       "    <tr>\n",
       "      <th>0</th>\n",
       "      <td>2011-01-02</td>\n",
       "      <td>1843341</td>\n",
       "      <td>0.00</td>\n",
       "      <td>0</td>\n",
       "    </tr>\n",
       "    <tr>\n",
       "      <th>1</th>\n",
       "      <td>2011-01-02</td>\n",
       "      <td>1843344</td>\n",
       "      <td>0.00</td>\n",
       "      <td>0</td>\n",
       "    </tr>\n",
       "    <tr>\n",
       "      <th>2</th>\n",
       "      <td>2011-01-02</td>\n",
       "      <td>1843346</td>\n",
       "      <td>28.48</td>\n",
       "      <td>1</td>\n",
       "    </tr>\n",
       "    <tr>\n",
       "      <th>3</th>\n",
       "      <td>2011-01-02</td>\n",
       "      <td>1843357</td>\n",
       "      <td>0.00</td>\n",
       "      <td>0</td>\n",
       "    </tr>\n",
       "    <tr>\n",
       "      <th>4</th>\n",
       "      <td>2011-01-02</td>\n",
       "      <td>1843359</td>\n",
       "      <td>0.00</td>\n",
       "      <td>0</td>\n",
       "    </tr>\n",
       "    <tr>\n",
       "      <th>...</th>\n",
       "      <td>...</td>\n",
       "      <td>...</td>\n",
       "      <td>...</td>\n",
       "      <td>...</td>\n",
       "    </tr>\n",
       "    <tr>\n",
       "      <th>573741</th>\n",
       "      <td>2009-01-02</td>\n",
       "      <td>101144</td>\n",
       "      <td>32.19</td>\n",
       "      <td>1</td>\n",
       "    </tr>\n",
       "    <tr>\n",
       "      <th>573742</th>\n",
       "      <td>2009-01-02</td>\n",
       "      <td>102100</td>\n",
       "      <td>0.00</td>\n",
       "      <td>0</td>\n",
       "    </tr>\n",
       "    <tr>\n",
       "      <th>573743</th>\n",
       "      <td>2007-01-03</td>\n",
       "      <td>100835</td>\n",
       "      <td>83.25</td>\n",
       "      <td>4</td>\n",
       "    </tr>\n",
       "    <tr>\n",
       "      <th>573744</th>\n",
       "      <td>2005-01-03</td>\n",
       "      <td>100994</td>\n",
       "      <td>0.00</td>\n",
       "      <td>0</td>\n",
       "    </tr>\n",
       "    <tr>\n",
       "      <th>573745</th>\n",
       "      <td>2005-01-03</td>\n",
       "      <td>102399</td>\n",
       "      <td>0.00</td>\n",
       "      <td>0</td>\n",
       "    </tr>\n",
       "  </tbody>\n",
       "</table>\n",
       "<p>573746 rows × 4 columns</p>\n",
       "</div>"
      ],
      "text/plain": [
       "        timestamp  customer_id    ltv  count_\n",
       "0      2011-01-02      1843341   0.00       0\n",
       "1      2011-01-02      1843344   0.00       0\n",
       "2      2011-01-02      1843346  28.48       1\n",
       "3      2011-01-02      1843357   0.00       0\n",
       "4      2011-01-02      1843359   0.00       0\n",
       "...           ...          ...    ...     ...\n",
       "573741 2009-01-02       101144  32.19       1\n",
       "573742 2009-01-02       102100   0.00       0\n",
       "573743 2007-01-03       100835  83.25       4\n",
       "573744 2005-01-03       100994   0.00       0\n",
       "573745 2005-01-03       102399   0.00       0\n",
       "\n",
       "[573746 rows x 4 columns]"
      ]
     },
     "execution_count": 13,
     "metadata": {},
     "output_type": "execute_result"
    }
   ],
   "source": [
    "# here count is the number of products which contributed to the sum aggregation in ltv\n",
    "train_table.df"
   ]
  },
  {
   "cell_type": "code",
   "execution_count": 14,
   "id": "22e4c326-03ea-4542-b3ae-e8e4c6d1e5e3",
   "metadata": {
    "execution": {
     "iopub.execute_input": "2023-11-25T03:35:41.955428Z",
     "iopub.status.busy": "2023-11-25T03:35:41.955139Z",
     "iopub.status.idle": "2023-11-25T03:35:41.977914Z",
     "shell.execute_reply": "2023-11-25T03:35:41.977166Z",
     "shell.execute_reply.started": "2023-11-25T03:35:41.955408Z"
    }
   },
   "outputs": [
    {
     "data": {
      "text/plain": [
       "count_\n",
       "0      51.757921\n",
       "1      18.603877\n",
       "2       9.623074\n",
       "3       5.491454\n",
       "4       3.318367\n",
       "         ...    \n",
       "522     0.000174\n",
       "388     0.000174\n",
       "227     0.000174\n",
       "269     0.000174\n",
       "451     0.000174\n",
       "Name: proportion, Length: 377, dtype: float64"
      ]
     },
     "execution_count": 14,
     "metadata": {},
     "output_type": "execute_result"
    }
   ],
   "source": [
    "# frequency of counts in percent\n",
    "train_table.df[\"count_\"].value_counts(normalize=True) * 100"
   ]
  },
  {
   "cell_type": "markdown",
   "id": "b446dd02-4114-4410-bccc-0e02305ac0d0",
   "metadata": {},
   "source": [
    "## val table"
   ]
  },
  {
   "cell_type": "code",
   "execution_count": 15,
   "id": "64f96a10-a2e6-47a2-a35b-c724c9c22725",
   "metadata": {
    "execution": {
     "iopub.execute_input": "2023-11-25T03:35:53.699055Z",
     "iopub.status.busy": "2023-11-25T03:35:53.698226Z",
     "iopub.status.idle": "2023-11-25T03:35:55.083986Z",
     "shell.execute_reply": "2023-11-25T03:35:55.083364Z",
     "shell.execute_reply.started": "2023-11-25T03:35:53.699012Z"
    }
   },
   "outputs": [],
   "source": [
    "val_table = task.get_default_val_table(process=True)"
   ]
  },
  {
   "cell_type": "code",
   "execution_count": 16,
   "id": "650f3400-7327-4a56-bb28-710f049783cf",
   "metadata": {
    "execution": {
     "iopub.execute_input": "2023-11-25T03:35:56.665114Z",
     "iopub.status.busy": "2023-11-25T03:35:56.664547Z",
     "iopub.status.idle": "2023-11-25T03:35:56.688736Z",
     "shell.execute_reply": "2023-11-25T03:35:56.688260Z",
     "shell.execute_reply.started": "2023-11-25T03:35:56.665079Z"
    }
   },
   "outputs": [
    {
     "data": {
      "text/html": [
       "<div>\n",
       "<style scoped>\n",
       "    .dataframe tbody tr th:only-of-type {\n",
       "        vertical-align: middle;\n",
       "    }\n",
       "\n",
       "    .dataframe tbody tr th {\n",
       "        vertical-align: top;\n",
       "    }\n",
       "\n",
       "    .dataframe thead th {\n",
       "        text-align: right;\n",
       "    }\n",
       "</style>\n",
       "<table border=\"1\" class=\"dataframe\">\n",
       "  <thead>\n",
       "    <tr style=\"text-align: right;\">\n",
       "      <th></th>\n",
       "      <th>timestamp</th>\n",
       "      <th>customer_id</th>\n",
       "      <th>ltv</th>\n",
       "      <th>count_</th>\n",
       "    </tr>\n",
       "  </thead>\n",
       "  <tbody>\n",
       "    <tr>\n",
       "      <th>0</th>\n",
       "      <td>2013-01-01</td>\n",
       "      <td>1843206</td>\n",
       "      <td>51.95</td>\n",
       "      <td>2</td>\n",
       "    </tr>\n",
       "    <tr>\n",
       "      <th>1</th>\n",
       "      <td>2013-01-01</td>\n",
       "      <td>1843213</td>\n",
       "      <td>0.00</td>\n",
       "      <td>0</td>\n",
       "    </tr>\n",
       "    <tr>\n",
       "      <th>2</th>\n",
       "      <td>2013-01-01</td>\n",
       "      <td>1843233</td>\n",
       "      <td>0.00</td>\n",
       "      <td>0</td>\n",
       "    </tr>\n",
       "    <tr>\n",
       "      <th>3</th>\n",
       "      <td>2013-01-01</td>\n",
       "      <td>1843235</td>\n",
       "      <td>0.00</td>\n",
       "      <td>0</td>\n",
       "    </tr>\n",
       "    <tr>\n",
       "      <th>4</th>\n",
       "      <td>2013-01-01</td>\n",
       "      <td>1843242</td>\n",
       "      <td>0.00</td>\n",
       "      <td>0</td>\n",
       "    </tr>\n",
       "    <tr>\n",
       "      <th>...</th>\n",
       "      <td>...</td>\n",
       "      <td>...</td>\n",
       "      <td>...</td>\n",
       "      <td>...</td>\n",
       "    </tr>\n",
       "    <tr>\n",
       "      <th>441579</th>\n",
       "      <td>2013-01-01</td>\n",
       "      <td>1837071</td>\n",
       "      <td>26.96</td>\n",
       "      <td>1</td>\n",
       "    </tr>\n",
       "    <tr>\n",
       "      <th>441580</th>\n",
       "      <td>2013-01-01</td>\n",
       "      <td>1837074</td>\n",
       "      <td>15.00</td>\n",
       "      <td>1</td>\n",
       "    </tr>\n",
       "    <tr>\n",
       "      <th>441581</th>\n",
       "      <td>2013-01-01</td>\n",
       "      <td>1837166</td>\n",
       "      <td>0.00</td>\n",
       "      <td>0</td>\n",
       "    </tr>\n",
       "    <tr>\n",
       "      <th>441582</th>\n",
       "      <td>2013-01-01</td>\n",
       "      <td>1837330</td>\n",
       "      <td>0.00</td>\n",
       "      <td>0</td>\n",
       "    </tr>\n",
       "    <tr>\n",
       "      <th>441583</th>\n",
       "      <td>2013-01-01</td>\n",
       "      <td>1837397</td>\n",
       "      <td>36.19</td>\n",
       "      <td>2</td>\n",
       "    </tr>\n",
       "  </tbody>\n",
       "</table>\n",
       "<p>441584 rows × 4 columns</p>\n",
       "</div>"
      ],
      "text/plain": [
       "        timestamp  customer_id    ltv  count_\n",
       "0      2013-01-01      1843206  51.95       2\n",
       "1      2013-01-01      1843213   0.00       0\n",
       "2      2013-01-01      1843233   0.00       0\n",
       "3      2013-01-01      1843235   0.00       0\n",
       "4      2013-01-01      1843242   0.00       0\n",
       "...           ...          ...    ...     ...\n",
       "441579 2013-01-01      1837071  26.96       1\n",
       "441580 2013-01-01      1837074  15.00       1\n",
       "441581 2013-01-01      1837166   0.00       0\n",
       "441582 2013-01-01      1837330   0.00       0\n",
       "441583 2013-01-01      1837397  36.19       2\n",
       "\n",
       "[441584 rows x 4 columns]"
      ]
     },
     "execution_count": 16,
     "metadata": {},
     "output_type": "execute_result"
    }
   ],
   "source": [
    "val_table.df"
   ]
  },
  {
   "cell_type": "code",
   "execution_count": 17,
   "id": "623906f8-2ef5-460e-9a1c-9b3155dd4a60",
   "metadata": {
    "execution": {
     "iopub.execute_input": "2023-11-25T03:35:58.730455Z",
     "iopub.status.busy": "2023-11-25T03:35:58.729696Z",
     "iopub.status.idle": "2023-11-25T03:35:58.753836Z",
     "shell.execute_reply": "2023-11-25T03:35:58.753129Z",
     "shell.execute_reply.started": "2023-11-25T03:35:58.730412Z"
    }
   },
   "outputs": [
    {
     "data": {
      "text/plain": [
       "count_\n",
       "0       23.416609\n",
       "1       16.588010\n",
       "2       13.492563\n",
       "3       10.485661\n",
       "4        7.648828\n",
       "          ...    \n",
       "419      0.000226\n",
       "1778     0.000226\n",
       "256      0.000226\n",
       "412      0.000226\n",
       "411      0.000226\n",
       "Name: proportion, Length: 403, dtype: float64"
      ]
     },
     "execution_count": 17,
     "metadata": {},
     "output_type": "execute_result"
    }
   ],
   "source": [
    "val_table.df[\"count_\"].value_counts(normalize=True) * 100"
   ]
  },
  {
   "cell_type": "markdown",
   "id": "1ab57b1e-301b-41a6-82ba-22060b05a617",
   "metadata": {},
   "source": [
    "### test table"
   ]
  },
  {
   "cell_type": "code",
   "execution_count": 29,
   "id": "8a001209-bfdb-4e7b-8931-e2461b856afb",
   "metadata": {
    "execution": {
     "iopub.execute_input": "2023-11-25T03:39:24.575394Z",
     "iopub.status.busy": "2023-11-25T03:39:24.574964Z",
     "iopub.status.idle": "2023-11-25T03:39:26.413768Z",
     "shell.execute_reply": "2023-11-25T03:39:26.413176Z",
     "shell.execute_reply.started": "2023-11-25T03:39:24.575357Z"
    }
   },
   "outputs": [
    {
     "data": {
      "text/html": [
       "<div>\n",
       "<style scoped>\n",
       "    .dataframe tbody tr th:only-of-type {\n",
       "        vertical-align: middle;\n",
       "    }\n",
       "\n",
       "    .dataframe tbody tr th {\n",
       "        vertical-align: top;\n",
       "    }\n",
       "\n",
       "    .dataframe thead th {\n",
       "        text-align: right;\n",
       "    }\n",
       "</style>\n",
       "<table border=\"1\" class=\"dataframe\">\n",
       "  <thead>\n",
       "    <tr style=\"text-align: right;\">\n",
       "      <th></th>\n",
       "      <th>timestamp</th>\n",
       "      <th>customer_id</th>\n",
       "    </tr>\n",
       "  </thead>\n",
       "  <tbody>\n",
       "    <tr>\n",
       "      <th>0</th>\n",
       "      <td>2015-01-01</td>\n",
       "      <td>0</td>\n",
       "    </tr>\n",
       "    <tr>\n",
       "      <th>1</th>\n",
       "      <td>2015-01-01</td>\n",
       "      <td>5</td>\n",
       "    </tr>\n",
       "    <tr>\n",
       "      <th>2</th>\n",
       "      <td>2015-01-01</td>\n",
       "      <td>6</td>\n",
       "    </tr>\n",
       "    <tr>\n",
       "      <th>3</th>\n",
       "      <td>2015-01-01</td>\n",
       "      <td>7</td>\n",
       "    </tr>\n",
       "    <tr>\n",
       "      <th>4</th>\n",
       "      <td>2015-01-01</td>\n",
       "      <td>8</td>\n",
       "    </tr>\n",
       "    <tr>\n",
       "      <th>...</th>\n",
       "      <td>...</td>\n",
       "      <td>...</td>\n",
       "    </tr>\n",
       "    <tr>\n",
       "      <th>1187352</th>\n",
       "      <td>2015-01-01</td>\n",
       "      <td>1638154</td>\n",
       "    </tr>\n",
       "    <tr>\n",
       "      <th>1187353</th>\n",
       "      <td>2015-01-01</td>\n",
       "      <td>1638218</td>\n",
       "    </tr>\n",
       "    <tr>\n",
       "      <th>1187354</th>\n",
       "      <td>2015-01-01</td>\n",
       "      <td>1638268</td>\n",
       "    </tr>\n",
       "    <tr>\n",
       "      <th>1187355</th>\n",
       "      <td>2015-01-01</td>\n",
       "      <td>1637733</td>\n",
       "    </tr>\n",
       "    <tr>\n",
       "      <th>1187356</th>\n",
       "      <td>2015-01-01</td>\n",
       "      <td>1637973</td>\n",
       "    </tr>\n",
       "  </tbody>\n",
       "</table>\n",
       "<p>1187357 rows × 2 columns</p>\n",
       "</div>"
      ],
      "text/plain": [
       "         timestamp  customer_id\n",
       "0       2015-01-01            0\n",
       "1       2015-01-01            5\n",
       "2       2015-01-01            6\n",
       "3       2015-01-01            7\n",
       "4       2015-01-01            8\n",
       "...            ...          ...\n",
       "1187352 2015-01-01      1638154\n",
       "1187353 2015-01-01      1638218\n",
       "1187354 2015-01-01      1638268\n",
       "1187355 2015-01-01      1637733\n",
       "1187356 2015-01-01      1637973\n",
       "\n",
       "[1187357 rows x 2 columns]"
      ]
     },
     "execution_count": 29,
     "metadata": {},
     "output_type": "execute_result"
    }
   ],
   "source": [
    "input_test_table = task.get_input_test_table(process=True)\n",
    "input_test_table.df"
   ]
  },
  {
   "cell_type": "code",
   "execution_count": 30,
   "id": "b2e837e8-fd45-4577-bb49-c8ec45dca7ae",
   "metadata": {
    "execution": {
     "iopub.execute_input": "2023-11-25T03:39:31.454378Z",
     "iopub.status.busy": "2023-11-25T03:39:31.453356Z",
     "iopub.status.idle": "2023-11-25T03:39:31.478069Z",
     "shell.execute_reply": "2023-11-25T03:39:31.477269Z",
     "shell.execute_reply.started": "2023-11-25T03:39:31.454319Z"
    }
   },
   "outputs": [
    {
     "data": {
      "text/html": [
       "<div>\n",
       "<style scoped>\n",
       "    .dataframe tbody tr th:only-of-type {\n",
       "        vertical-align: middle;\n",
       "    }\n",
       "\n",
       "    .dataframe tbody tr th {\n",
       "        vertical-align: top;\n",
       "    }\n",
       "\n",
       "    .dataframe thead th {\n",
       "        text-align: right;\n",
       "    }\n",
       "</style>\n",
       "<table border=\"1\" class=\"dataframe\">\n",
       "  <thead>\n",
       "    <tr style=\"text-align: right;\">\n",
       "      <th></th>\n",
       "      <th>timestamp</th>\n",
       "      <th>customer_id</th>\n",
       "      <th>ltv</th>\n",
       "      <th>count_</th>\n",
       "    </tr>\n",
       "  </thead>\n",
       "  <tbody>\n",
       "    <tr>\n",
       "      <th>0</th>\n",
       "      <td>2015-01-01</td>\n",
       "      <td>0</td>\n",
       "      <td>73.48</td>\n",
       "      <td>4</td>\n",
       "    </tr>\n",
       "    <tr>\n",
       "      <th>1</th>\n",
       "      <td>2015-01-01</td>\n",
       "      <td>5</td>\n",
       "      <td>674.86</td>\n",
       "      <td>55</td>\n",
       "    </tr>\n",
       "    <tr>\n",
       "      <th>2</th>\n",
       "      <td>2015-01-01</td>\n",
       "      <td>6</td>\n",
       "      <td>0.00</td>\n",
       "      <td>0</td>\n",
       "    </tr>\n",
       "    <tr>\n",
       "      <th>3</th>\n",
       "      <td>2015-01-01</td>\n",
       "      <td>7</td>\n",
       "      <td>60.94</td>\n",
       "      <td>4</td>\n",
       "    </tr>\n",
       "    <tr>\n",
       "      <th>4</th>\n",
       "      <td>2015-01-01</td>\n",
       "      <td>8</td>\n",
       "      <td>120.08</td>\n",
       "      <td>10</td>\n",
       "    </tr>\n",
       "    <tr>\n",
       "      <th>...</th>\n",
       "      <td>...</td>\n",
       "      <td>...</td>\n",
       "      <td>...</td>\n",
       "      <td>...</td>\n",
       "    </tr>\n",
       "    <tr>\n",
       "      <th>1187352</th>\n",
       "      <td>2015-01-01</td>\n",
       "      <td>1638154</td>\n",
       "      <td>50.74</td>\n",
       "      <td>3</td>\n",
       "    </tr>\n",
       "    <tr>\n",
       "      <th>1187353</th>\n",
       "      <td>2015-01-01</td>\n",
       "      <td>1638218</td>\n",
       "      <td>0.00</td>\n",
       "      <td>0</td>\n",
       "    </tr>\n",
       "    <tr>\n",
       "      <th>1187354</th>\n",
       "      <td>2015-01-01</td>\n",
       "      <td>1638268</td>\n",
       "      <td>25.94</td>\n",
       "      <td>2</td>\n",
       "    </tr>\n",
       "    <tr>\n",
       "      <th>1187355</th>\n",
       "      <td>2015-01-01</td>\n",
       "      <td>1637733</td>\n",
       "      <td>21.98</td>\n",
       "      <td>2</td>\n",
       "    </tr>\n",
       "    <tr>\n",
       "      <th>1187356</th>\n",
       "      <td>2015-01-01</td>\n",
       "      <td>1637973</td>\n",
       "      <td>0.00</td>\n",
       "      <td>0</td>\n",
       "    </tr>\n",
       "  </tbody>\n",
       "</table>\n",
       "<p>1187357 rows × 4 columns</p>\n",
       "</div>"
      ],
      "text/plain": [
       "         timestamp  customer_id     ltv  count_\n",
       "0       2015-01-01            0   73.48       4\n",
       "1       2015-01-01            5  674.86      55\n",
       "2       2015-01-01            6    0.00       0\n",
       "3       2015-01-01            7   60.94       4\n",
       "4       2015-01-01            8  120.08      10\n",
       "...            ...          ...     ...     ...\n",
       "1187352 2015-01-01      1638154   50.74       3\n",
       "1187353 2015-01-01      1638218    0.00       0\n",
       "1187354 2015-01-01      1638268   25.94       2\n",
       "1187355 2015-01-01      1637733   21.98       2\n",
       "1187356 2015-01-01      1637973    0.00       0\n",
       "\n",
       "[1187357 rows x 4 columns]"
      ]
     },
     "execution_count": 30,
     "metadata": {},
     "output_type": "execute_result"
    }
   ],
   "source": [
    "task._test_table.df"
   ]
  },
  {
   "cell_type": "code",
   "execution_count": 32,
   "id": "b6846820-7ed1-48b5-9405-9f3e5d50502a",
   "metadata": {
    "execution": {
     "iopub.execute_input": "2023-11-25T03:39:49.389864Z",
     "iopub.status.busy": "2023-11-25T03:39:49.389451Z",
     "iopub.status.idle": "2023-11-25T03:39:49.416490Z",
     "shell.execute_reply": "2023-11-25T03:39:49.415670Z",
     "shell.execute_reply.started": "2023-11-25T03:39:49.389827Z"
    }
   },
   "outputs": [
    {
     "data": {
      "text/plain": [
       "count_\n",
       "0       27.127309\n",
       "1       17.466356\n",
       "2       14.152020\n",
       "3       10.695520\n",
       "4        7.458667\n",
       "          ...    \n",
       "947      0.000084\n",
       "554      0.000084\n",
       "1474     0.000084\n",
       "484      0.000084\n",
       "437      0.000084\n",
       "Name: proportion, Length: 469, dtype: float64"
      ]
     },
     "execution_count": 32,
     "metadata": {},
     "output_type": "execute_result"
    }
   ],
   "source": [
    "task._test_table.df[\"count_\"].value_counts(normalize=True) * 100"
   ]
  },
  {
   "cell_type": "markdown",
   "id": "dcfd6722-53b3-4a71-a0c4-18a3de928449",
   "metadata": {},
   "source": [
    "## Churn"
   ]
  },
  {
   "cell_type": "code",
   "execution_count": 18,
   "id": "020f21e4-c076-4c84-971f-658a7b9578a8",
   "metadata": {
    "execution": {
     "iopub.execute_input": "2023-11-25T03:36:07.108871Z",
     "iopub.status.busy": "2023-11-25T03:36:07.108447Z",
     "iopub.status.idle": "2023-11-25T03:36:07.128562Z",
     "shell.execute_reply": "2023-11-25T03:36:07.127890Z",
     "shell.execute_reply.started": "2023-11-25T03:36:07.108834Z"
    }
   },
   "outputs": [
    {
     "data": {
      "text/plain": [
       "CustomerChurnTask(dataset=AmazonReviewsDataset())"
      ]
     },
     "execution_count": 18,
     "metadata": {},
     "output_type": "execute_result"
    }
   ],
   "source": [
    "task = dataset.get_task(\"customer_churn\")\n",
    "task"
   ]
  },
  {
   "cell_type": "markdown",
   "id": "04dc5000-3bc7-4ee4-b3bb-514bfb7f5d8f",
   "metadata": {
    "execution": {
     "iopub.execute_input": "2023-11-15T05:58:40.530507Z",
     "iopub.status.busy": "2023-11-15T05:58:40.530055Z",
     "iopub.status.idle": "2023-11-15T05:58:40.557811Z",
     "shell.execute_reply": "2023-11-15T05:58:40.557146Z",
     "shell.execute_reply.started": "2023-11-15T05:58:40.530470Z"
    }
   },
   "source": [
    "### train table"
   ]
  },
  {
   "cell_type": "code",
   "execution_count": 19,
   "id": "6c5890ba-4b67-4f30-a936-a017a9cc040e",
   "metadata": {
    "execution": {
     "iopub.execute_input": "2023-11-25T03:36:16.713018Z",
     "iopub.status.busy": "2023-11-25T03:36:16.712648Z",
     "iopub.status.idle": "2023-11-25T03:36:19.172959Z",
     "shell.execute_reply": "2023-11-25T03:36:19.171924Z",
     "shell.execute_reply.started": "2023-11-25T03:36:16.712982Z"
    }
   },
   "outputs": [],
   "source": [
    "train_table = task.get_default_train_table(process=True)"
   ]
  },
  {
   "cell_type": "code",
   "execution_count": 20,
   "id": "10e23102-707b-449a-b6db-5f32847089ab",
   "metadata": {
    "execution": {
     "iopub.execute_input": "2023-11-25T03:36:19.891304Z",
     "iopub.status.busy": "2023-11-25T03:36:19.890368Z",
     "iopub.status.idle": "2023-11-25T03:36:19.916990Z",
     "shell.execute_reply": "2023-11-25T03:36:19.916503Z",
     "shell.execute_reply.started": "2023-11-25T03:36:19.891259Z"
    }
   },
   "outputs": [
    {
     "data": {
      "text/html": [
       "<div>\n",
       "<style scoped>\n",
       "    .dataframe tbody tr th:only-of-type {\n",
       "        vertical-align: middle;\n",
       "    }\n",
       "\n",
       "    .dataframe tbody tr th {\n",
       "        vertical-align: top;\n",
       "    }\n",
       "\n",
       "    .dataframe thead th {\n",
       "        text-align: right;\n",
       "    }\n",
       "</style>\n",
       "<table border=\"1\" class=\"dataframe\">\n",
       "  <thead>\n",
       "    <tr style=\"text-align: right;\">\n",
       "      <th></th>\n",
       "      <th>timestamp</th>\n",
       "      <th>customer_id</th>\n",
       "      <th>churn</th>\n",
       "    </tr>\n",
       "  </thead>\n",
       "  <tbody>\n",
       "    <tr>\n",
       "      <th>0</th>\n",
       "      <td>2011-01-02</td>\n",
       "      <td>1843206</td>\n",
       "      <td>0</td>\n",
       "    </tr>\n",
       "    <tr>\n",
       "      <th>1</th>\n",
       "      <td>2011-01-02</td>\n",
       "      <td>1843212</td>\n",
       "      <td>1</td>\n",
       "    </tr>\n",
       "    <tr>\n",
       "      <th>2</th>\n",
       "      <td>2011-01-02</td>\n",
       "      <td>1843341</td>\n",
       "      <td>1</td>\n",
       "    </tr>\n",
       "    <tr>\n",
       "      <th>3</th>\n",
       "      <td>2011-01-02</td>\n",
       "      <td>1843344</td>\n",
       "      <td>1</td>\n",
       "    </tr>\n",
       "    <tr>\n",
       "      <th>4</th>\n",
       "      <td>2011-01-02</td>\n",
       "      <td>1843346</td>\n",
       "      <td>0</td>\n",
       "    </tr>\n",
       "    <tr>\n",
       "      <th>...</th>\n",
       "      <td>...</td>\n",
       "      <td>...</td>\n",
       "      <td>...</td>\n",
       "    </tr>\n",
       "    <tr>\n",
       "      <th>573741</th>\n",
       "      <td>2003-01-04</td>\n",
       "      <td>1738929</td>\n",
       "      <td>1</td>\n",
       "    </tr>\n",
       "    <tr>\n",
       "      <th>573742</th>\n",
       "      <td>2003-01-04</td>\n",
       "      <td>1739935</td>\n",
       "      <td>1</td>\n",
       "    </tr>\n",
       "    <tr>\n",
       "      <th>573743</th>\n",
       "      <td>2003-01-04</td>\n",
       "      <td>1740294</td>\n",
       "      <td>1</td>\n",
       "    </tr>\n",
       "    <tr>\n",
       "      <th>573744</th>\n",
       "      <td>2001-01-04</td>\n",
       "      <td>1740294</td>\n",
       "      <td>0</td>\n",
       "    </tr>\n",
       "    <tr>\n",
       "      <th>573745</th>\n",
       "      <td>2001-01-04</td>\n",
       "      <td>1740474</td>\n",
       "      <td>1</td>\n",
       "    </tr>\n",
       "  </tbody>\n",
       "</table>\n",
       "<p>573746 rows × 3 columns</p>\n",
       "</div>"
      ],
      "text/plain": [
       "        timestamp  customer_id  churn\n",
       "0      2011-01-02      1843206      0\n",
       "1      2011-01-02      1843212      1\n",
       "2      2011-01-02      1843341      1\n",
       "3      2011-01-02      1843344      1\n",
       "4      2011-01-02      1843346      0\n",
       "...           ...          ...    ...\n",
       "573741 2003-01-04      1738929      1\n",
       "573742 2003-01-04      1739935      1\n",
       "573743 2003-01-04      1740294      1\n",
       "573744 2001-01-04      1740294      0\n",
       "573745 2001-01-04      1740474      1\n",
       "\n",
       "[573746 rows x 3 columns]"
      ]
     },
     "execution_count": 20,
     "metadata": {},
     "output_type": "execute_result"
    }
   ],
   "source": [
    "train_table.df"
   ]
  },
  {
   "cell_type": "code",
   "execution_count": 21,
   "id": "3596c7e2-b59c-4030-b31f-a1c25786bce7",
   "metadata": {
    "execution": {
     "iopub.execute_input": "2023-11-25T03:36:21.970671Z",
     "iopub.status.busy": "2023-11-25T03:36:21.970405Z",
     "iopub.status.idle": "2023-11-25T03:36:21.993265Z",
     "shell.execute_reply": "2023-11-25T03:36:21.992539Z",
     "shell.execute_reply.started": "2023-11-25T03:36:21.970653Z"
    }
   },
   "outputs": [
    {
     "data": {
      "text/plain": [
       "churn\n",
       "1    51.757921\n",
       "0    48.242079\n",
       "Name: proportion, dtype: float64"
      ]
     },
     "execution_count": 21,
     "metadata": {},
     "output_type": "execute_result"
    }
   ],
   "source": [
    "# frequency of churn in percent\n",
    "train_table.df[\"churn\"].value_counts(normalize=True) * 100"
   ]
  },
  {
   "cell_type": "markdown",
   "id": "65f15e81-da66-4f33-9656-eb15cc7814f3",
   "metadata": {},
   "source": [
    "## val table"
   ]
  },
  {
   "cell_type": "code",
   "execution_count": 22,
   "id": "33a31916-60da-49be-b4b7-4f4a47d31b52",
   "metadata": {
    "execution": {
     "iopub.execute_input": "2023-11-25T03:36:31.388604Z",
     "iopub.status.busy": "2023-11-25T03:36:31.388172Z",
     "iopub.status.idle": "2023-11-25T03:36:32.061273Z",
     "shell.execute_reply": "2023-11-25T03:36:32.060422Z",
     "shell.execute_reply.started": "2023-11-25T03:36:31.388567Z"
    }
   },
   "outputs": [],
   "source": [
    "val_table = task.get_default_val_table(process=True)"
   ]
  },
  {
   "cell_type": "code",
   "execution_count": 23,
   "id": "26b15b3a-78c5-4499-bd75-d938c2d4334e",
   "metadata": {
    "execution": {
     "iopub.execute_input": "2023-11-25T03:36:32.674698Z",
     "iopub.status.busy": "2023-11-25T03:36:32.674259Z",
     "iopub.status.idle": "2023-11-25T03:36:32.701699Z",
     "shell.execute_reply": "2023-11-25T03:36:32.701003Z",
     "shell.execute_reply.started": "2023-11-25T03:36:32.674658Z"
    }
   },
   "outputs": [
    {
     "data": {
      "text/html": [
       "<div>\n",
       "<style scoped>\n",
       "    .dataframe tbody tr th:only-of-type {\n",
       "        vertical-align: middle;\n",
       "    }\n",
       "\n",
       "    .dataframe tbody tr th {\n",
       "        vertical-align: top;\n",
       "    }\n",
       "\n",
       "    .dataframe thead th {\n",
       "        text-align: right;\n",
       "    }\n",
       "</style>\n",
       "<table border=\"1\" class=\"dataframe\">\n",
       "  <thead>\n",
       "    <tr style=\"text-align: right;\">\n",
       "      <th></th>\n",
       "      <th>timestamp</th>\n",
       "      <th>customer_id</th>\n",
       "      <th>churn</th>\n",
       "    </tr>\n",
       "  </thead>\n",
       "  <tbody>\n",
       "    <tr>\n",
       "      <th>0</th>\n",
       "      <td>2013-01-01</td>\n",
       "      <td>1843206</td>\n",
       "      <td>0</td>\n",
       "    </tr>\n",
       "    <tr>\n",
       "      <th>1</th>\n",
       "      <td>2013-01-01</td>\n",
       "      <td>1843211</td>\n",
       "      <td>0</td>\n",
       "    </tr>\n",
       "    <tr>\n",
       "      <th>2</th>\n",
       "      <td>2013-01-01</td>\n",
       "      <td>1843213</td>\n",
       "      <td>1</td>\n",
       "    </tr>\n",
       "    <tr>\n",
       "      <th>3</th>\n",
       "      <td>2013-01-01</td>\n",
       "      <td>1843233</td>\n",
       "      <td>1</td>\n",
       "    </tr>\n",
       "    <tr>\n",
       "      <th>4</th>\n",
       "      <td>2013-01-01</td>\n",
       "      <td>1843235</td>\n",
       "      <td>1</td>\n",
       "    </tr>\n",
       "    <tr>\n",
       "      <th>...</th>\n",
       "      <td>...</td>\n",
       "      <td>...</td>\n",
       "      <td>...</td>\n",
       "    </tr>\n",
       "    <tr>\n",
       "      <th>441579</th>\n",
       "      <td>2013-01-01</td>\n",
       "      <td>1832903</td>\n",
       "      <td>0</td>\n",
       "    </tr>\n",
       "    <tr>\n",
       "      <th>441580</th>\n",
       "      <td>2013-01-01</td>\n",
       "      <td>1832921</td>\n",
       "      <td>0</td>\n",
       "    </tr>\n",
       "    <tr>\n",
       "      <th>441581</th>\n",
       "      <td>2013-01-01</td>\n",
       "      <td>1832923</td>\n",
       "      <td>0</td>\n",
       "    </tr>\n",
       "    <tr>\n",
       "      <th>441582</th>\n",
       "      <td>2013-01-01</td>\n",
       "      <td>1832934</td>\n",
       "      <td>0</td>\n",
       "    </tr>\n",
       "    <tr>\n",
       "      <th>441583</th>\n",
       "      <td>2013-01-01</td>\n",
       "      <td>1832936</td>\n",
       "      <td>0</td>\n",
       "    </tr>\n",
       "  </tbody>\n",
       "</table>\n",
       "<p>441584 rows × 3 columns</p>\n",
       "</div>"
      ],
      "text/plain": [
       "        timestamp  customer_id  churn\n",
       "0      2013-01-01      1843206      0\n",
       "1      2013-01-01      1843211      0\n",
       "2      2013-01-01      1843213      1\n",
       "3      2013-01-01      1843233      1\n",
       "4      2013-01-01      1843235      1\n",
       "...           ...          ...    ...\n",
       "441579 2013-01-01      1832903      0\n",
       "441580 2013-01-01      1832921      0\n",
       "441581 2013-01-01      1832923      0\n",
       "441582 2013-01-01      1832934      0\n",
       "441583 2013-01-01      1832936      0\n",
       "\n",
       "[441584 rows x 3 columns]"
      ]
     },
     "execution_count": 23,
     "metadata": {},
     "output_type": "execute_result"
    }
   ],
   "source": [
    "val_table.df"
   ]
  },
  {
   "cell_type": "code",
   "execution_count": 24,
   "id": "488f2ef5-009c-432a-9872-6e629839b429",
   "metadata": {
    "execution": {
     "iopub.execute_input": "2023-11-25T03:36:34.103316Z",
     "iopub.status.busy": "2023-11-25T03:36:34.103015Z",
     "iopub.status.idle": "2023-11-25T03:36:34.120642Z",
     "shell.execute_reply": "2023-11-25T03:36:34.119899Z",
     "shell.execute_reply.started": "2023-11-25T03:36:34.103282Z"
    }
   },
   "outputs": [
    {
     "data": {
      "text/plain": [
       "churn\n",
       "0    76.583391\n",
       "1    23.416609\n",
       "Name: proportion, dtype: float64"
      ]
     },
     "execution_count": 24,
     "metadata": {},
     "output_type": "execute_result"
    }
   ],
   "source": [
    "val_table.df[\"churn\"].value_counts(normalize=True) * 100"
   ]
  },
  {
   "cell_type": "markdown",
   "id": "3e5d1ef0-8616-428c-9907-23caf024f026",
   "metadata": {},
   "source": [
    "### test table"
   ]
  },
  {
   "cell_type": "code",
   "execution_count": 25,
   "id": "b9b87cb6-d6c5-4d7b-8d18-68588306e017",
   "metadata": {
    "execution": {
     "iopub.execute_input": "2023-11-25T03:37:31.241524Z",
     "iopub.status.busy": "2023-11-25T03:37:31.241105Z",
     "iopub.status.idle": "2023-11-25T03:37:32.463072Z",
     "shell.execute_reply": "2023-11-25T03:37:32.462459Z",
     "shell.execute_reply.started": "2023-11-25T03:37:31.241488Z"
    }
   },
   "outputs": [
    {
     "data": {
      "text/html": [
       "<div>\n",
       "<style scoped>\n",
       "    .dataframe tbody tr th:only-of-type {\n",
       "        vertical-align: middle;\n",
       "    }\n",
       "\n",
       "    .dataframe tbody tr th {\n",
       "        vertical-align: top;\n",
       "    }\n",
       "\n",
       "    .dataframe thead th {\n",
       "        text-align: right;\n",
       "    }\n",
       "</style>\n",
       "<table border=\"1\" class=\"dataframe\">\n",
       "  <thead>\n",
       "    <tr style=\"text-align: right;\">\n",
       "      <th></th>\n",
       "      <th>timestamp</th>\n",
       "      <th>customer_id</th>\n",
       "    </tr>\n",
       "  </thead>\n",
       "  <tbody>\n",
       "    <tr>\n",
       "      <th>0</th>\n",
       "      <td>2015-01-01</td>\n",
       "      <td>1843202</td>\n",
       "    </tr>\n",
       "    <tr>\n",
       "      <th>1</th>\n",
       "      <td>2015-01-01</td>\n",
       "      <td>1843206</td>\n",
       "    </tr>\n",
       "    <tr>\n",
       "      <th>2</th>\n",
       "      <td>2015-01-01</td>\n",
       "      <td>1843211</td>\n",
       "    </tr>\n",
       "    <tr>\n",
       "      <th>3</th>\n",
       "      <td>2015-01-01</td>\n",
       "      <td>1843218</td>\n",
       "    </tr>\n",
       "    <tr>\n",
       "      <th>4</th>\n",
       "      <td>2015-01-01</td>\n",
       "      <td>1843222</td>\n",
       "    </tr>\n",
       "    <tr>\n",
       "      <th>...</th>\n",
       "      <td>...</td>\n",
       "      <td>...</td>\n",
       "    </tr>\n",
       "    <tr>\n",
       "      <th>1187352</th>\n",
       "      <td>2015-01-01</td>\n",
       "      <td>1126393</td>\n",
       "    </tr>\n",
       "    <tr>\n",
       "      <th>1187353</th>\n",
       "      <td>2015-01-01</td>\n",
       "      <td>1126394</td>\n",
       "    </tr>\n",
       "    <tr>\n",
       "      <th>1187354</th>\n",
       "      <td>2015-01-01</td>\n",
       "      <td>1126395</td>\n",
       "    </tr>\n",
       "    <tr>\n",
       "      <th>1187355</th>\n",
       "      <td>2015-01-01</td>\n",
       "      <td>1126398</td>\n",
       "    </tr>\n",
       "    <tr>\n",
       "      <th>1187356</th>\n",
       "      <td>2015-01-01</td>\n",
       "      <td>1126399</td>\n",
       "    </tr>\n",
       "  </tbody>\n",
       "</table>\n",
       "<p>1187357 rows × 2 columns</p>\n",
       "</div>"
      ],
      "text/plain": [
       "         timestamp  customer_id\n",
       "0       2015-01-01      1843202\n",
       "1       2015-01-01      1843206\n",
       "2       2015-01-01      1843211\n",
       "3       2015-01-01      1843218\n",
       "4       2015-01-01      1843222\n",
       "...            ...          ...\n",
       "1187352 2015-01-01      1126393\n",
       "1187353 2015-01-01      1126394\n",
       "1187354 2015-01-01      1126395\n",
       "1187355 2015-01-01      1126398\n",
       "1187356 2015-01-01      1126399\n",
       "\n",
       "[1187357 rows x 2 columns]"
      ]
     },
     "execution_count": 25,
     "metadata": {},
     "output_type": "execute_result"
    }
   ],
   "source": [
    "input_test_table = task.get_input_test_table(process=True)\n",
    "input_test_table.df"
   ]
  },
  {
   "cell_type": "code",
   "execution_count": 26,
   "id": "6cd9ff62-c3f5-4fe1-84a5-e5843e671761",
   "metadata": {
    "execution": {
     "iopub.execute_input": "2023-11-25T03:37:53.482088Z",
     "iopub.status.busy": "2023-11-25T03:37:53.481668Z",
     "iopub.status.idle": "2023-11-25T03:37:53.505585Z",
     "shell.execute_reply": "2023-11-25T03:37:53.504799Z",
     "shell.execute_reply.started": "2023-11-25T03:37:53.482052Z"
    }
   },
   "outputs": [
    {
     "data": {
      "text/html": [
       "<div>\n",
       "<style scoped>\n",
       "    .dataframe tbody tr th:only-of-type {\n",
       "        vertical-align: middle;\n",
       "    }\n",
       "\n",
       "    .dataframe tbody tr th {\n",
       "        vertical-align: top;\n",
       "    }\n",
       "\n",
       "    .dataframe thead th {\n",
       "        text-align: right;\n",
       "    }\n",
       "</style>\n",
       "<table border=\"1\" class=\"dataframe\">\n",
       "  <thead>\n",
       "    <tr style=\"text-align: right;\">\n",
       "      <th></th>\n",
       "      <th>timestamp</th>\n",
       "      <th>customer_id</th>\n",
       "      <th>churn</th>\n",
       "    </tr>\n",
       "  </thead>\n",
       "  <tbody>\n",
       "    <tr>\n",
       "      <th>0</th>\n",
       "      <td>2015-01-01</td>\n",
       "      <td>1843202</td>\n",
       "      <td>1</td>\n",
       "    </tr>\n",
       "    <tr>\n",
       "      <th>1</th>\n",
       "      <td>2015-01-01</td>\n",
       "      <td>1843206</td>\n",
       "      <td>1</td>\n",
       "    </tr>\n",
       "    <tr>\n",
       "      <th>2</th>\n",
       "      <td>2015-01-01</td>\n",
       "      <td>1843211</td>\n",
       "      <td>0</td>\n",
       "    </tr>\n",
       "    <tr>\n",
       "      <th>3</th>\n",
       "      <td>2015-01-01</td>\n",
       "      <td>1843218</td>\n",
       "      <td>0</td>\n",
       "    </tr>\n",
       "    <tr>\n",
       "      <th>4</th>\n",
       "      <td>2015-01-01</td>\n",
       "      <td>1843222</td>\n",
       "      <td>1</td>\n",
       "    </tr>\n",
       "    <tr>\n",
       "      <th>...</th>\n",
       "      <td>...</td>\n",
       "      <td>...</td>\n",
       "      <td>...</td>\n",
       "    </tr>\n",
       "    <tr>\n",
       "      <th>1187352</th>\n",
       "      <td>2015-01-01</td>\n",
       "      <td>1126393</td>\n",
       "      <td>0</td>\n",
       "    </tr>\n",
       "    <tr>\n",
       "      <th>1187353</th>\n",
       "      <td>2015-01-01</td>\n",
       "      <td>1126394</td>\n",
       "      <td>1</td>\n",
       "    </tr>\n",
       "    <tr>\n",
       "      <th>1187354</th>\n",
       "      <td>2015-01-01</td>\n",
       "      <td>1126395</td>\n",
       "      <td>1</td>\n",
       "    </tr>\n",
       "    <tr>\n",
       "      <th>1187355</th>\n",
       "      <td>2015-01-01</td>\n",
       "      <td>1126398</td>\n",
       "      <td>0</td>\n",
       "    </tr>\n",
       "    <tr>\n",
       "      <th>1187356</th>\n",
       "      <td>2015-01-01</td>\n",
       "      <td>1126399</td>\n",
       "      <td>1</td>\n",
       "    </tr>\n",
       "  </tbody>\n",
       "</table>\n",
       "<p>1187357 rows × 3 columns</p>\n",
       "</div>"
      ],
      "text/plain": [
       "         timestamp  customer_id  churn\n",
       "0       2015-01-01      1843202      1\n",
       "1       2015-01-01      1843206      1\n",
       "2       2015-01-01      1843211      0\n",
       "3       2015-01-01      1843218      0\n",
       "4       2015-01-01      1843222      1\n",
       "...            ...          ...    ...\n",
       "1187352 2015-01-01      1126393      0\n",
       "1187353 2015-01-01      1126394      1\n",
       "1187354 2015-01-01      1126395      1\n",
       "1187355 2015-01-01      1126398      0\n",
       "1187356 2015-01-01      1126399      1\n",
       "\n",
       "[1187357 rows x 3 columns]"
      ]
     },
     "execution_count": 26,
     "metadata": {},
     "output_type": "execute_result"
    }
   ],
   "source": [
    "task._test_table.df"
   ]
  },
  {
   "cell_type": "code",
   "execution_count": 27,
   "id": "98255b45-6c02-4d5f-b8de-f64569cf7b5a",
   "metadata": {
    "execution": {
     "iopub.execute_input": "2023-11-25T03:38:29.004948Z",
     "iopub.status.busy": "2023-11-25T03:38:29.004511Z",
     "iopub.status.idle": "2023-11-25T03:38:29.034462Z",
     "shell.execute_reply": "2023-11-25T03:38:29.033307Z",
     "shell.execute_reply.started": "2023-11-25T03:38:29.004910Z"
    }
   },
   "outputs": [
    {
     "data": {
      "text/plain": [
       "churn\n",
       "0    72.872691\n",
       "1    27.127309\n",
       "Name: proportion, dtype: float64"
      ]
     },
     "execution_count": 27,
     "metadata": {},
     "output_type": "execute_result"
    }
   ],
   "source": [
    "task._test_table.df[\"churn\"].value_counts(normalize=True) * 100"
   ]
  },
  {
   "cell_type": "code",
   "execution_count": null,
   "id": "cb7cbd86-945d-4a3d-88ee-fd867725e658",
   "metadata": {},
   "outputs": [],
   "source": []
  }
 ],
 "metadata": {
  "kernelspec": {
   "display_name": "Python [conda env:rtb]",
   "language": "python",
   "name": "conda-env-rtb-py"
  },
  "language_info": {
   "codemirror_mode": {
    "name": "ipython",
    "version": 3
   },
   "file_extension": ".py",
   "mimetype": "text/x-python",
   "name": "python",
   "nbconvert_exporter": "python",
   "pygments_lexer": "ipython3",
   "version": "3.8.18"
  }
 },
 "nbformat": 4,
 "nbformat_minor": 5
}
