{
 "cells": [
  {
   "cell_type": "code",
   "execution_count": 1,
   "id": "f328220d-6d96-447b-9da6-18ae0069025a",
   "metadata": {
    "execution": {
     "iopub.execute_input": "2023-11-26T05:06:40.827218Z",
     "iopub.status.busy": "2023-11-26T05:06:40.826942Z",
     "iopub.status.idle": "2023-11-26T05:06:40.846321Z",
     "shell.execute_reply": "2023-11-26T05:06:40.845801Z",
     "shell.execute_reply.started": "2023-11-26T05:06:40.827184Z"
    }
   },
   "outputs": [],
   "source": [
    "%load_ext autoreload\n",
    "%autoreload 2"
   ]
  },
  {
   "cell_type": "code",
   "execution_count": 3,
   "id": "6f3dac79-b7aa-46e7-9f60-7728da8bc263",
   "metadata": {
    "execution": {
     "iopub.execute_input": "2023-11-26T05:06:49.696311Z",
     "iopub.status.busy": "2023-11-26T05:06:49.695631Z",
     "iopub.status.idle": "2023-11-26T05:06:49.715822Z",
     "shell.execute_reply": "2023-11-26T05:06:49.714867Z",
     "shell.execute_reply.started": "2023-11-26T05:06:49.696270Z"
    }
   },
   "outputs": [],
   "source": [
    "from rtb.datasets import dataset_names, get_dataset"
   ]
  },
  {
   "cell_type": "code",
   "execution_count": 4,
   "id": "b5a42366-6ca6-4063-b8c2-7ecb709a7d9a",
   "metadata": {
    "execution": {
     "iopub.execute_input": "2023-11-26T05:06:55.835183Z",
     "iopub.status.busy": "2023-11-26T05:06:55.834275Z",
     "iopub.status.idle": "2023-11-26T05:06:55.857879Z",
     "shell.execute_reply": "2023-11-26T05:06:55.856450Z",
     "shell.execute_reply.started": "2023-11-26T05:06:55.835137Z"
    }
   },
   "outputs": [
    {
     "data": {
      "text/plain": [
       "['amazon_reviews', 'fake_reviews']"
      ]
     },
     "execution_count": 4,
     "metadata": {},
     "output_type": "execute_result"
    }
   ],
   "source": [
    "dataset_names"
   ]
  },
  {
   "cell_type": "code",
   "execution_count": 9,
   "id": "7c9d1987-1582-4115-92e2-23d4e9da3a98",
   "metadata": {
    "execution": {
     "iopub.execute_input": "2023-11-26T05:08:30.685469Z",
     "iopub.status.busy": "2023-11-26T05:08:30.685011Z",
     "iopub.status.idle": "2023-11-26T05:08:30.721956Z",
     "shell.execute_reply": "2023-11-26T05:08:30.720976Z",
     "shell.execute_reply.started": "2023-11-26T05:08:30.685428Z"
    }
   },
   "outputs": [
    {
     "data": {
      "text/plain": [
       "AmazonReviewsDataset()"
      ]
     },
     "execution_count": 9,
     "metadata": {},
     "output_type": "execute_result"
    }
   ],
   "source": [
    "dataset = get_dataset(\n",
    "    name=\"amazon_reviews\",\n",
    "    category=\"fashion\",\n",
    "    use_5_core=True,\n",
    ")\n",
    "dataset"
   ]
  },
  {
   "cell_type": "code",
   "execution_count": 11,
   "id": "4dc1ef48-e1fc-4c8a-afdf-cfb9ce65a62b",
   "metadata": {
    "execution": {
     "iopub.execute_input": "2023-11-26T05:09:37.500846Z",
     "iopub.status.busy": "2023-11-26T05:09:37.500430Z",
     "iopub.status.idle": "2023-11-26T05:09:37.520890Z",
     "shell.execute_reply": "2023-11-26T05:09:37.520206Z",
     "shell.execute_reply.started": "2023-11-26T05:09:37.500808Z"
    }
   },
   "outputs": [
    {
     "data": {
      "text/plain": [
       "(Timestamp('2013-01-01 00:00:00'), Timestamp('2015-01-01 00:00:00'))"
      ]
     },
     "execution_count": 11,
     "metadata": {},
     "output_type": "execute_result"
    }
   ],
   "source": [
    "dataset.val_timestamp, dataset.test_timestamp"
   ]
  },
  {
   "cell_type": "code",
   "execution_count": 12,
   "id": "ff041663-eb5a-476b-8f72-8b209ffb4dd3",
   "metadata": {
    "execution": {
     "iopub.execute_input": "2023-11-26T05:10:48.786472Z",
     "iopub.status.busy": "2023-11-26T05:10:48.786060Z",
     "iopub.status.idle": "2023-11-26T05:10:48.806133Z",
     "shell.execute_reply": "2023-11-26T05:10:48.805226Z",
     "shell.execute_reply.started": "2023-11-26T05:10:48.786433Z"
    }
   },
   "outputs": [
    {
     "data": {
      "text/plain": [
       "Database()"
      ]
     },
     "execution_count": 12,
     "metadata": {},
     "output_type": "execute_result"
    }
   ],
   "source": [
    "# this contains only rows until test_timestamp\n",
    "# for full database use dataset._full_db (private to discourage user access)\n",
    "dataset.db"
   ]
  },
  {
   "cell_type": "code",
   "execution_count": 13,
   "id": "1526e8c8-f52f-4c2f-bd96-f5dae3d65dc9",
   "metadata": {
    "execution": {
     "iopub.execute_input": "2023-11-26T05:11:07.210001Z",
     "iopub.status.busy": "2023-11-26T05:11:07.209579Z",
     "iopub.status.idle": "2023-11-26T05:11:07.230150Z",
     "shell.execute_reply": "2023-11-26T05:11:07.229247Z",
     "shell.execute_reply.started": "2023-11-26T05:11:07.209962Z"
    }
   },
   "outputs": [
    {
     "data": {
      "text/plain": [
       "dict_keys(['customer', 'product', 'review'])"
      ]
     },
     "execution_count": 13,
     "metadata": {},
     "output_type": "execute_result"
    }
   ],
   "source": [
    "dataset.db.table_dict.keys()"
   ]
  },
  {
   "cell_type": "code",
   "execution_count": 17,
   "id": "e1c6e47b-a978-48d3-8d14-ffb12938e28f",
   "metadata": {
    "execution": {
     "iopub.execute_input": "2023-11-26T05:11:57.739414Z",
     "iopub.status.busy": "2023-11-26T05:11:57.738534Z",
     "iopub.status.idle": "2023-11-26T05:11:57.762611Z",
     "shell.execute_reply": "2023-11-26T05:11:57.761608Z",
     "shell.execute_reply.started": "2023-11-26T05:11:57.739369Z"
    }
   },
   "outputs": [
    {
     "data": {
      "text/html": [
       "<div>\n",
       "<style scoped>\n",
       "    .dataframe tbody tr th:only-of-type {\n",
       "        vertical-align: middle;\n",
       "    }\n",
       "\n",
       "    .dataframe tbody tr th {\n",
       "        vertical-align: top;\n",
       "    }\n",
       "\n",
       "    .dataframe thead th {\n",
       "        text-align: right;\n",
       "    }\n",
       "</style>\n",
       "<table border=\"1\" class=\"dataframe\">\n",
       "  <thead>\n",
       "    <tr style=\"text-align: right;\">\n",
       "      <th></th>\n",
       "      <th>customer_id</th>\n",
       "      <th>customer_name</th>\n",
       "    </tr>\n",
       "  </thead>\n",
       "  <tbody>\n",
       "    <tr>\n",
       "      <th>0</th>\n",
       "      <td>0</td>\n",
       "      <td>Tonya B.</td>\n",
       "    </tr>\n",
       "    <tr>\n",
       "      <th>1</th>\n",
       "      <td>1</td>\n",
       "      <td>NaeNae</td>\n",
       "    </tr>\n",
       "    <tr>\n",
       "      <th>2</th>\n",
       "      <td>2</td>\n",
       "      <td>Denise A. Conte</td>\n",
       "    </tr>\n",
       "    <tr>\n",
       "      <th>3</th>\n",
       "      <td>3</td>\n",
       "      <td>Cognizant Consumer</td>\n",
       "    </tr>\n",
       "    <tr>\n",
       "      <th>4</th>\n",
       "      <td>4</td>\n",
       "      <td>William_Jasper</td>\n",
       "    </tr>\n",
       "    <tr>\n",
       "      <th>...</th>\n",
       "      <td>...</td>\n",
       "      <td>...</td>\n",
       "    </tr>\n",
       "    <tr>\n",
       "      <th>401</th>\n",
       "      <td>401</td>\n",
       "      <td>Amazon Customer</td>\n",
       "    </tr>\n",
       "    <tr>\n",
       "      <th>402</th>\n",
       "      <td>402</td>\n",
       "      <td>J. Avila</td>\n",
       "    </tr>\n",
       "    <tr>\n",
       "      <th>403</th>\n",
       "      <td>403</td>\n",
       "      <td>Amazon Customer</td>\n",
       "    </tr>\n",
       "    <tr>\n",
       "      <th>404</th>\n",
       "      <td>404</td>\n",
       "      <td>Peter</td>\n",
       "    </tr>\n",
       "    <tr>\n",
       "      <th>405</th>\n",
       "      <td>405</td>\n",
       "      <td>Susan</td>\n",
       "    </tr>\n",
       "  </tbody>\n",
       "</table>\n",
       "<p>406 rows × 2 columns</p>\n",
       "</div>"
      ],
      "text/plain": [
       "     customer_id       customer_name\n",
       "0              0            Tonya B.\n",
       "1              1              NaeNae\n",
       "2              2     Denise A. Conte\n",
       "3              3  Cognizant Consumer\n",
       "4              4      William_Jasper\n",
       "..           ...                 ...\n",
       "401          401     Amazon Customer\n",
       "402          402            J. Avila\n",
       "403          403     Amazon Customer\n",
       "404          404               Peter\n",
       "405          405               Susan\n",
       "\n",
       "[406 rows x 2 columns]"
      ]
     },
     "execution_count": 17,
     "metadata": {},
     "output_type": "execute_result"
    }
   ],
   "source": [
    "dataset.db.table_dict[\"customer\"].df"
   ]
  },
  {
   "cell_type": "code",
   "execution_count": 16,
   "id": "ff7d6c00-f508-402e-af4b-ef48116e6451",
   "metadata": {
    "execution": {
     "iopub.execute_input": "2023-11-26T05:11:53.629858Z",
     "iopub.status.busy": "2023-11-26T05:11:53.629419Z",
     "iopub.status.idle": "2023-11-26T05:11:53.656201Z",
     "shell.execute_reply": "2023-11-26T05:11:53.655525Z",
     "shell.execute_reply.started": "2023-11-26T05:11:53.629817Z"
    }
   },
   "outputs": [
    {
     "data": {
      "text/html": [
       "<div>\n",
       "<style scoped>\n",
       "    .dataframe tbody tr th:only-of-type {\n",
       "        vertical-align: middle;\n",
       "    }\n",
       "\n",
       "    .dataframe tbody tr th {\n",
       "        vertical-align: top;\n",
       "    }\n",
       "\n",
       "    .dataframe thead th {\n",
       "        text-align: right;\n",
       "    }\n",
       "</style>\n",
       "<table border=\"1\" class=\"dataframe\">\n",
       "  <thead>\n",
       "    <tr style=\"text-align: right;\">\n",
       "      <th></th>\n",
       "      <th>product_id</th>\n",
       "      <th>category</th>\n",
       "      <th>brand</th>\n",
       "      <th>title</th>\n",
       "      <th>description</th>\n",
       "      <th>price</th>\n",
       "    </tr>\n",
       "  </thead>\n",
       "  <tbody>\n",
       "    <tr>\n",
       "      <th>0</th>\n",
       "      <td>0</td>\n",
       "      <td>None</td>\n",
       "      <td>None</td>\n",
       "      <td>Calvin Klein Boy's Assorted Boxer Briefs (Pack...</td>\n",
       "      <td>None</td>\n",
       "      <td>10.02</td>\n",
       "    </tr>\n",
       "    <tr>\n",
       "      <th>1</th>\n",
       "      <td>1</td>\n",
       "      <td>None</td>\n",
       "      <td>None</td>\n",
       "      <td>Powerstep Pinnacle Orthotic Shoe Insoles</td>\n",
       "      <td>None</td>\n",
       "      <td>24.49</td>\n",
       "    </tr>\n",
       "    <tr>\n",
       "      <th>2</th>\n",
       "      <td>2</td>\n",
       "      <td>None</td>\n",
       "      <td>None</td>\n",
       "      <td>Powerstep Pinnacle Orthotic Shoe Insoles</td>\n",
       "      <td>None</td>\n",
       "      <td>24.59</td>\n",
       "    </tr>\n",
       "    <tr>\n",
       "      <th>3</th>\n",
       "      <td>3</td>\n",
       "      <td>None</td>\n",
       "      <td>None</td>\n",
       "      <td>Hanes Mens EcoSmart Fleece Sweatpant</td>\n",
       "      <td>The Hanes men's comfort blend EcoSmart sweatpa...</td>\n",
       "      <td>7.73</td>\n",
       "    </tr>\n",
       "    <tr>\n",
       "      <th>4</th>\n",
       "      <td>4</td>\n",
       "      <td>None</td>\n",
       "      <td>None</td>\n",
       "      <td>Havaianas Women's Top Flip Flop Sandal</td>\n",
       "      <td>These monochrome Havaianas flip-flops have bol...</td>\n",
       "      <td>7.99</td>\n",
       "    </tr>\n",
       "    <tr>\n",
       "      <th>5</th>\n",
       "      <td>5</td>\n",
       "      <td>None</td>\n",
       "      <td>None</td>\n",
       "      <td>var aPageStart = (new Date()).getTime();\\nvar ...</td>\n",
       "      <td>Tackle your workout like a champion in the upd...</td>\n",
       "      <td>54.95</td>\n",
       "    </tr>\n",
       "    <tr>\n",
       "      <th>6</th>\n",
       "      <td>6</td>\n",
       "      <td>None</td>\n",
       "      <td>None</td>\n",
       "      <td>Leg Avenue Women's Athletic Thigh High Socks</td>\n",
       "      <td>Fun and sexy 3 stripe athletic ribbed thigh hi...</td>\n",
       "      <td>14.76</td>\n",
       "    </tr>\n",
       "    <tr>\n",
       "      <th>7</th>\n",
       "      <td>7</td>\n",
       "      <td>None</td>\n",
       "      <td>Kidorable</td>\n",
       "      <td>var aPageStart = (new Date()).getTime();\\nvar ...</td>\n",
       "      <td>Nothing brightens up the cold months better th...</td>\n",
       "      <td>14.50</td>\n",
       "    </tr>\n",
       "    <tr>\n",
       "      <th>8</th>\n",
       "      <td>8</td>\n",
       "      <td>None</td>\n",
       "      <td>Boomer Eyeware</td>\n",
       "      <td>Extra Pair Value Eyes Plastic Frames 6 Pack - ...</td>\n",
       "      <td>Many of our customers have requested that we d...</td>\n",
       "      <td>9.99</td>\n",
       "    </tr>\n",
       "    <tr>\n",
       "      <th>9</th>\n",
       "      <td>9</td>\n",
       "      <td>None</td>\n",
       "      <td>Boomer Eyeware</td>\n",
       "      <td>Extra Pair Value Eyes Plastic Frames 6 Pack - ...</td>\n",
       "      <td>Many of our customers have requested that we d...</td>\n",
       "      <td>9.99</td>\n",
       "    </tr>\n",
       "    <tr>\n",
       "      <th>10</th>\n",
       "      <td>10</td>\n",
       "      <td>None</td>\n",
       "      <td>None</td>\n",
       "      <td>NIKE Women's Flex Supreme TR 4 Cross Trainer</td>\n",
       "      <td>Tackle your workout like a champion in the upd...</td>\n",
       "      <td>54.95</td>\n",
       "    </tr>\n",
       "    <tr>\n",
       "      <th>11</th>\n",
       "      <td>11</td>\n",
       "      <td>None</td>\n",
       "      <td>None</td>\n",
       "      <td>Hanes Mens EcoSmart Fleece Sweatpant</td>\n",
       "      <td>The Hanes men's comfort blend EcoSmart sweatpa...</td>\n",
       "      <td>7.73</td>\n",
       "    </tr>\n",
       "    <tr>\n",
       "      <th>12</th>\n",
       "      <td>12</td>\n",
       "      <td>None</td>\n",
       "      <td>None</td>\n",
       "      <td>Zoo York Big Boys' Short Sleeve Crew Neck Shirt</td>\n",
       "      <td>None</td>\n",
       "      <td>3.28</td>\n",
       "    </tr>\n",
       "    <tr>\n",
       "      <th>13</th>\n",
       "      <td>13</td>\n",
       "      <td>None</td>\n",
       "      <td>None</td>\n",
       "      <td>NIKE Women's Flex Supreme TR 4 Cross Trainer</td>\n",
       "      <td>Tackle your workout like a champion in the upd...</td>\n",
       "      <td>54.95</td>\n",
       "    </tr>\n",
       "    <tr>\n",
       "      <th>14</th>\n",
       "      <td>14</td>\n",
       "      <td>None</td>\n",
       "      <td>None</td>\n",
       "      <td>NIKE Women's Flex Supreme TR 4 Cross Trainer</td>\n",
       "      <td>Tackle your workout like a champion in the upd...</td>\n",
       "      <td>54.95</td>\n",
       "    </tr>\n",
       "    <tr>\n",
       "      <th>15</th>\n",
       "      <td>15</td>\n",
       "      <td>None</td>\n",
       "      <td>None</td>\n",
       "      <td>NIKE Women's Flex Supreme TR 4 Cross Trainer</td>\n",
       "      <td>Tackle your workout like a champion in the upd...</td>\n",
       "      <td>54.95</td>\n",
       "    </tr>\n",
       "    <tr>\n",
       "      <th>16</th>\n",
       "      <td>16</td>\n",
       "      <td>None</td>\n",
       "      <td>None</td>\n",
       "      <td>NIKE Women's Flex Supreme TR 4 Cross Trainer</td>\n",
       "      <td>Tackle your workout like a champion in the upd...</td>\n",
       "      <td>54.95</td>\n",
       "    </tr>\n",
       "    <tr>\n",
       "      <th>17</th>\n",
       "      <td>17</td>\n",
       "      <td>None</td>\n",
       "      <td>MJ Metals Jewelry</td>\n",
       "      <td>MJ Metals Jewelry 2mm to 10mm White Tungsten C...</td>\n",
       "      <td>None</td>\n",
       "      <td>9.99</td>\n",
       "    </tr>\n",
       "    <tr>\n",
       "      <th>18</th>\n",
       "      <td>18</td>\n",
       "      <td>None</td>\n",
       "      <td>Forum Novelties</td>\n",
       "      <td>Forum Novelties Light-Up Ugly Christmas Sweater</td>\n",
       "      <td>Pay tribute to Christmas past in our throwback...</td>\n",
       "      <td>9.99</td>\n",
       "    </tr>\n",
       "    <tr>\n",
       "      <th>19</th>\n",
       "      <td>19</td>\n",
       "      <td>None</td>\n",
       "      <td>None</td>\n",
       "      <td>90 Degree By Reflex Power Flex Yoga Capri – Ca...</td>\n",
       "      <td>Adapted from our best-selling 22\" Power Flex C...</td>\n",
       "      <td>18.99</td>\n",
       "    </tr>\n",
       "    <tr>\n",
       "      <th>20</th>\n",
       "      <td>20</td>\n",
       "      <td>None</td>\n",
       "      <td>Quest Sweet</td>\n",
       "      <td>Baby Headbands Turban Knotted, Girl's Hairband...</td>\n",
       "      <td>None</td>\n",
       "      <td>15.95</td>\n",
       "    </tr>\n",
       "    <tr>\n",
       "      <th>21</th>\n",
       "      <td>21</td>\n",
       "      <td>None</td>\n",
       "      <td>Senchanting</td>\n",
       "      <td>Senchanting Women Winter Warm Ski Knitted Croc...</td>\n",
       "      <td>Features:  Popular and classic knitted baggy b...</td>\n",
       "      <td>7.99</td>\n",
       "    </tr>\n",
       "    <tr>\n",
       "      <th>22</th>\n",
       "      <td>22</td>\n",
       "      <td>None</td>\n",
       "      <td>Epoint</td>\n",
       "      <td>Epoint EGC1B01-03 Multi Mens Paisley Waistcoat...</td>\n",
       "      <td>Brand Name: EpointMaterial: 100% MicrofiberSiz...</td>\n",
       "      <td>15.99</td>\n",
       "    </tr>\n",
       "    <tr>\n",
       "      <th>23</th>\n",
       "      <td>23</td>\n",
       "      <td>None</td>\n",
       "      <td>MJ Metals Jewelry</td>\n",
       "      <td>MJ Metals Jewelry 2mm to 10mm White Tungsten C...</td>\n",
       "      <td>None</td>\n",
       "      <td>9.99</td>\n",
       "    </tr>\n",
       "    <tr>\n",
       "      <th>24</th>\n",
       "      <td>24</td>\n",
       "      <td>None</td>\n",
       "      <td>None</td>\n",
       "      <td>NIKE Women's Flex Supreme TR 4 Cross Trainer</td>\n",
       "      <td>Tackle your workout like a champion in the upd...</td>\n",
       "      <td>44.95</td>\n",
       "    </tr>\n",
       "    <tr>\n",
       "      <th>25</th>\n",
       "      <td>25</td>\n",
       "      <td>None</td>\n",
       "      <td>None</td>\n",
       "      <td>NIKE Women's Flex Supreme TR 4 Cross Trainer</td>\n",
       "      <td>Tackle your workout like a champion in the upd...</td>\n",
       "      <td>44.95</td>\n",
       "    </tr>\n",
       "    <tr>\n",
       "      <th>26</th>\n",
       "      <td>26</td>\n",
       "      <td>None</td>\n",
       "      <td>SERMAN BRANDS</td>\n",
       "      <td>SERMAN BRANDS- Carbon Fiber Money Clip Credit ...</td>\n",
       "      <td>SERMAN BRANDS Genuine Leather Wallets   RFID B...</td>\n",
       "      <td>14.99</td>\n",
       "    </tr>\n",
       "    <tr>\n",
       "      <th>27</th>\n",
       "      <td>27</td>\n",
       "      <td>None</td>\n",
       "      <td>FORTINO LANDI</td>\n",
       "      <td>FORTINO LANDI Men's Long-sleeve Banded Collar ...</td>\n",
       "      <td>Some Call it a 'Casual' Dress Shirt. We Call i...</td>\n",
       "      <td>8.49</td>\n",
       "    </tr>\n",
       "  </tbody>\n",
       "</table>\n",
       "</div>"
      ],
      "text/plain": [
       "    product_id category              brand  \\\n",
       "0            0     None               None   \n",
       "1            1     None               None   \n",
       "2            2     None               None   \n",
       "3            3     None               None   \n",
       "4            4     None               None   \n",
       "5            5     None               None   \n",
       "6            6     None               None   \n",
       "7            7     None          Kidorable   \n",
       "8            8     None     Boomer Eyeware   \n",
       "9            9     None     Boomer Eyeware   \n",
       "10          10     None               None   \n",
       "11          11     None               None   \n",
       "12          12     None               None   \n",
       "13          13     None               None   \n",
       "14          14     None               None   \n",
       "15          15     None               None   \n",
       "16          16     None               None   \n",
       "17          17     None  MJ Metals Jewelry   \n",
       "18          18     None    Forum Novelties   \n",
       "19          19     None               None   \n",
       "20          20     None        Quest Sweet   \n",
       "21          21     None        Senchanting   \n",
       "22          22     None             Epoint   \n",
       "23          23     None  MJ Metals Jewelry   \n",
       "24          24     None               None   \n",
       "25          25     None               None   \n",
       "26          26     None      SERMAN BRANDS   \n",
       "27          27     None      FORTINO LANDI   \n",
       "\n",
       "                                                title  \\\n",
       "0   Calvin Klein Boy's Assorted Boxer Briefs (Pack...   \n",
       "1            Powerstep Pinnacle Orthotic Shoe Insoles   \n",
       "2            Powerstep Pinnacle Orthotic Shoe Insoles   \n",
       "3                Hanes Mens EcoSmart Fleece Sweatpant   \n",
       "4              Havaianas Women's Top Flip Flop Sandal   \n",
       "5   var aPageStart = (new Date()).getTime();\\nvar ...   \n",
       "6        Leg Avenue Women's Athletic Thigh High Socks   \n",
       "7   var aPageStart = (new Date()).getTime();\\nvar ...   \n",
       "8   Extra Pair Value Eyes Plastic Frames 6 Pack - ...   \n",
       "9   Extra Pair Value Eyes Plastic Frames 6 Pack - ...   \n",
       "10       NIKE Women's Flex Supreme TR 4 Cross Trainer   \n",
       "11               Hanes Mens EcoSmart Fleece Sweatpant   \n",
       "12    Zoo York Big Boys' Short Sleeve Crew Neck Shirt   \n",
       "13       NIKE Women's Flex Supreme TR 4 Cross Trainer   \n",
       "14       NIKE Women's Flex Supreme TR 4 Cross Trainer   \n",
       "15       NIKE Women's Flex Supreme TR 4 Cross Trainer   \n",
       "16       NIKE Women's Flex Supreme TR 4 Cross Trainer   \n",
       "17  MJ Metals Jewelry 2mm to 10mm White Tungsten C...   \n",
       "18    Forum Novelties Light-Up Ugly Christmas Sweater   \n",
       "19  90 Degree By Reflex Power Flex Yoga Capri – Ca...   \n",
       "20  Baby Headbands Turban Knotted, Girl's Hairband...   \n",
       "21  Senchanting Women Winter Warm Ski Knitted Croc...   \n",
       "22  Epoint EGC1B01-03 Multi Mens Paisley Waistcoat...   \n",
       "23  MJ Metals Jewelry 2mm to 10mm White Tungsten C...   \n",
       "24       NIKE Women's Flex Supreme TR 4 Cross Trainer   \n",
       "25       NIKE Women's Flex Supreme TR 4 Cross Trainer   \n",
       "26  SERMAN BRANDS- Carbon Fiber Money Clip Credit ...   \n",
       "27  FORTINO LANDI Men's Long-sleeve Banded Collar ...   \n",
       "\n",
       "                                          description  price  \n",
       "0                                                None  10.02  \n",
       "1                                                None  24.49  \n",
       "2                                                None  24.59  \n",
       "3   The Hanes men's comfort blend EcoSmart sweatpa...   7.73  \n",
       "4   These monochrome Havaianas flip-flops have bol...   7.99  \n",
       "5   Tackle your workout like a champion in the upd...  54.95  \n",
       "6   Fun and sexy 3 stripe athletic ribbed thigh hi...  14.76  \n",
       "7   Nothing brightens up the cold months better th...  14.50  \n",
       "8   Many of our customers have requested that we d...   9.99  \n",
       "9   Many of our customers have requested that we d...   9.99  \n",
       "10  Tackle your workout like a champion in the upd...  54.95  \n",
       "11  The Hanes men's comfort blend EcoSmart sweatpa...   7.73  \n",
       "12                                               None   3.28  \n",
       "13  Tackle your workout like a champion in the upd...  54.95  \n",
       "14  Tackle your workout like a champion in the upd...  54.95  \n",
       "15  Tackle your workout like a champion in the upd...  54.95  \n",
       "16  Tackle your workout like a champion in the upd...  54.95  \n",
       "17                                               None   9.99  \n",
       "18  Pay tribute to Christmas past in our throwback...   9.99  \n",
       "19  Adapted from our best-selling 22\" Power Flex C...  18.99  \n",
       "20                                               None  15.95  \n",
       "21  Features:  Popular and classic knitted baggy b...   7.99  \n",
       "22  Brand Name: EpointMaterial: 100% MicrofiberSiz...  15.99  \n",
       "23                                               None   9.99  \n",
       "24  Tackle your workout like a champion in the upd...  44.95  \n",
       "25  Tackle your workout like a champion in the upd...  44.95  \n",
       "26  SERMAN BRANDS Genuine Leather Wallets   RFID B...  14.99  \n",
       "27  Some Call it a 'Casual' Dress Shirt. We Call i...   8.49  "
      ]
     },
     "execution_count": 16,
     "metadata": {},
     "output_type": "execute_result"
    }
   ],
   "source": [
    "dataset.db.table_dict[\"product\"].df"
   ]
  },
  {
   "cell_type": "code",
   "execution_count": 18,
   "id": "08e832f0-fd23-4bcc-bf97-a8d3aa46121d",
   "metadata": {
    "execution": {
     "iopub.execute_input": "2023-11-26T05:12:07.685398Z",
     "iopub.status.busy": "2023-11-26T05:12:07.684945Z",
     "iopub.status.idle": "2023-11-26T05:12:07.708766Z",
     "shell.execute_reply": "2023-11-26T05:12:07.707947Z",
     "shell.execute_reply.started": "2023-11-26T05:12:07.685357Z"
    }
   },
   "outputs": [
    {
     "data": {
      "text/html": [
       "<div>\n",
       "<style scoped>\n",
       "    .dataframe tbody tr th:only-of-type {\n",
       "        vertical-align: middle;\n",
       "    }\n",
       "\n",
       "    .dataframe tbody tr th {\n",
       "        vertical-align: top;\n",
       "    }\n",
       "\n",
       "    .dataframe thead th {\n",
       "        text-align: right;\n",
       "    }\n",
       "</style>\n",
       "<table border=\"1\" class=\"dataframe\">\n",
       "  <thead>\n",
       "    <tr style=\"text-align: right;\">\n",
       "      <th></th>\n",
       "      <th>customer_id</th>\n",
       "      <th>customer_name</th>\n",
       "    </tr>\n",
       "  </thead>\n",
       "  <tbody>\n",
       "    <tr>\n",
       "      <th>0</th>\n",
       "      <td>0</td>\n",
       "      <td>Tonya B.</td>\n",
       "    </tr>\n",
       "    <tr>\n",
       "      <th>1</th>\n",
       "      <td>1</td>\n",
       "      <td>NaeNae</td>\n",
       "    </tr>\n",
       "    <tr>\n",
       "      <th>2</th>\n",
       "      <td>2</td>\n",
       "      <td>Denise A. Conte</td>\n",
       "    </tr>\n",
       "    <tr>\n",
       "      <th>3</th>\n",
       "      <td>3</td>\n",
       "      <td>Cognizant Consumer</td>\n",
       "    </tr>\n",
       "    <tr>\n",
       "      <th>4</th>\n",
       "      <td>4</td>\n",
       "      <td>William_Jasper</td>\n",
       "    </tr>\n",
       "    <tr>\n",
       "      <th>...</th>\n",
       "      <td>...</td>\n",
       "      <td>...</td>\n",
       "    </tr>\n",
       "    <tr>\n",
       "      <th>401</th>\n",
       "      <td>401</td>\n",
       "      <td>Amazon Customer</td>\n",
       "    </tr>\n",
       "    <tr>\n",
       "      <th>402</th>\n",
       "      <td>402</td>\n",
       "      <td>J. Avila</td>\n",
       "    </tr>\n",
       "    <tr>\n",
       "      <th>403</th>\n",
       "      <td>403</td>\n",
       "      <td>Amazon Customer</td>\n",
       "    </tr>\n",
       "    <tr>\n",
       "      <th>404</th>\n",
       "      <td>404</td>\n",
       "      <td>Peter</td>\n",
       "    </tr>\n",
       "    <tr>\n",
       "      <th>405</th>\n",
       "      <td>405</td>\n",
       "      <td>Susan</td>\n",
       "    </tr>\n",
       "  </tbody>\n",
       "</table>\n",
       "<p>406 rows × 2 columns</p>\n",
       "</div>"
      ],
      "text/plain": [
       "     customer_id       customer_name\n",
       "0              0            Tonya B.\n",
       "1              1              NaeNae\n",
       "2              2     Denise A. Conte\n",
       "3              3  Cognizant Consumer\n",
       "4              4      William_Jasper\n",
       "..           ...                 ...\n",
       "401          401     Amazon Customer\n",
       "402          402            J. Avila\n",
       "403          403     Amazon Customer\n",
       "404          404               Peter\n",
       "405          405               Susan\n",
       "\n",
       "[406 rows x 2 columns]"
      ]
     },
     "execution_count": 18,
     "metadata": {},
     "output_type": "execute_result"
    }
   ],
   "source": [
    "dataset.db.table_dict[\"customer\"].df"
   ]
  },
  {
   "cell_type": "code",
   "execution_count": 19,
   "id": "305c79f9-6f79-41b6-8fbe-e9d0370c23fc",
   "metadata": {
    "execution": {
     "iopub.execute_input": "2023-11-26T05:12:12.838221Z",
     "iopub.status.busy": "2023-11-26T05:12:12.837798Z",
     "iopub.status.idle": "2023-11-26T05:12:12.857496Z",
     "shell.execute_reply": "2023-11-26T05:12:12.856797Z",
     "shell.execute_reply.started": "2023-11-26T05:12:12.838182Z"
    }
   },
   "outputs": [
    {
     "data": {
      "text/plain": [
       "['customer_churn', 'customer_ltv']"
      ]
     },
     "execution_count": 19,
     "metadata": {},
     "output_type": "execute_result"
    }
   ],
   "source": [
    "dataset.task_names"
   ]
  },
  {
   "cell_type": "code",
   "execution_count": 20,
   "id": "9f163264-dbda-4534-aa3f-19dd18572c1c",
   "metadata": {
    "execution": {
     "iopub.execute_input": "2023-11-26T05:12:13.798339Z",
     "iopub.status.busy": "2023-11-26T05:12:13.797888Z",
     "iopub.status.idle": "2023-11-26T05:12:13.828732Z",
     "shell.execute_reply": "2023-11-26T05:12:13.828051Z",
     "shell.execute_reply.started": "2023-11-26T05:12:13.798307Z"
    }
   },
   "outputs": [
    {
     "data": {
      "text/plain": [
       "CustomerChurnTask(dataset=AmazonReviewsDataset())"
      ]
     },
     "execution_count": 20,
     "metadata": {},
     "output_type": "execute_result"
    }
   ],
   "source": [
    "task = dataset.get_task(\"customer_churn\")\n",
    "task"
   ]
  },
  {
   "cell_type": "code",
   "execution_count": 21,
   "id": "93b86076-7ecd-463e-a3a6-b53578a91043",
   "metadata": {
    "execution": {
     "iopub.execute_input": "2023-11-26T05:12:36.619278Z",
     "iopub.status.busy": "2023-11-26T05:12:36.618860Z",
     "iopub.status.idle": "2023-11-26T05:12:36.642290Z",
     "shell.execute_reply": "2023-11-26T05:12:36.641365Z",
     "shell.execute_reply.started": "2023-11-26T05:12:36.619238Z"
    }
   },
   "outputs": [
    {
     "data": {
      "text/html": [
       "<div>\n",
       "<style scoped>\n",
       "    .dataframe tbody tr th:only-of-type {\n",
       "        vertical-align: middle;\n",
       "    }\n",
       "\n",
       "    .dataframe tbody tr th {\n",
       "        vertical-align: top;\n",
       "    }\n",
       "\n",
       "    .dataframe thead th {\n",
       "        text-align: right;\n",
       "    }\n",
       "</style>\n",
       "<table border=\"1\" class=\"dataframe\">\n",
       "  <thead>\n",
       "    <tr style=\"text-align: right;\">\n",
       "      <th></th>\n",
       "      <th>timestamp</th>\n",
       "      <th>customer_id</th>\n",
       "      <th>churn</th>\n",
       "    </tr>\n",
       "  </thead>\n",
       "  <tbody>\n",
       "    <tr>\n",
       "      <th>0</th>\n",
       "      <td>2011-01-02</td>\n",
       "      <td>22</td>\n",
       "      <td>1</td>\n",
       "    </tr>\n",
       "    <tr>\n",
       "      <th>1</th>\n",
       "      <td>2011-01-02</td>\n",
       "      <td>29</td>\n",
       "      <td>1</td>\n",
       "    </tr>\n",
       "  </tbody>\n",
       "</table>\n",
       "</div>"
      ],
      "text/plain": [
       "   timestamp  customer_id  churn\n",
       "0 2011-01-02           22      1\n",
       "1 2011-01-02           29      1"
      ]
     },
     "execution_count": 21,
     "metadata": {},
     "output_type": "execute_result"
    }
   ],
   "source": [
    "task.train_table.df"
   ]
  },
  {
   "cell_type": "code",
   "execution_count": 22,
   "id": "eb81dcd6-d66f-4641-86cf-e21da41feac6",
   "metadata": {
    "execution": {
     "iopub.execute_input": "2023-11-26T05:12:46.171595Z",
     "iopub.status.busy": "2023-11-26T05:12:46.171084Z",
     "iopub.status.idle": "2023-11-26T05:12:46.192175Z",
     "shell.execute_reply": "2023-11-26T05:12:46.191226Z",
     "shell.execute_reply.started": "2023-11-26T05:12:46.171555Z"
    }
   },
   "outputs": [
    {
     "data": {
      "text/html": [
       "<div>\n",
       "<style scoped>\n",
       "    .dataframe tbody tr th:only-of-type {\n",
       "        vertical-align: middle;\n",
       "    }\n",
       "\n",
       "    .dataframe tbody tr th {\n",
       "        vertical-align: top;\n",
       "    }\n",
       "\n",
       "    .dataframe thead th {\n",
       "        text-align: right;\n",
       "    }\n",
       "</style>\n",
       "<table border=\"1\" class=\"dataframe\">\n",
       "  <thead>\n",
       "    <tr style=\"text-align: right;\">\n",
       "      <th></th>\n",
       "      <th>timestamp</th>\n",
       "      <th>customer_id</th>\n",
       "      <th>churn</th>\n",
       "    </tr>\n",
       "  </thead>\n",
       "  <tbody>\n",
       "    <tr>\n",
       "      <th>0</th>\n",
       "      <td>2013-01-01</td>\n",
       "      <td>28</td>\n",
       "      <td>1</td>\n",
       "    </tr>\n",
       "  </tbody>\n",
       "</table>\n",
       "</div>"
      ],
      "text/plain": [
       "   timestamp  customer_id  churn\n",
       "0 2013-01-01           28      1"
      ]
     },
     "execution_count": 22,
     "metadata": {},
     "output_type": "execute_result"
    }
   ],
   "source": [
    "task.val_table.df"
   ]
  },
  {
   "cell_type": "code",
   "execution_count": 23,
   "id": "78ff7138-6f80-40b7-b188-0127508597ab",
   "metadata": {
    "execution": {
     "iopub.execute_input": "2023-11-26T05:12:53.321784Z",
     "iopub.status.busy": "2023-11-26T05:12:53.321467Z",
     "iopub.status.idle": "2023-11-26T05:12:53.344870Z",
     "shell.execute_reply": "2023-11-26T05:12:53.343784Z",
     "shell.execute_reply.started": "2023-11-26T05:12:53.321756Z"
    }
   },
   "outputs": [
    {
     "data": {
      "text/html": [
       "<div>\n",
       "<style scoped>\n",
       "    .dataframe tbody tr th:only-of-type {\n",
       "        vertical-align: middle;\n",
       "    }\n",
       "\n",
       "    .dataframe tbody tr th {\n",
       "        vertical-align: top;\n",
       "    }\n",
       "\n",
       "    .dataframe thead th {\n",
       "        text-align: right;\n",
       "    }\n",
       "</style>\n",
       "<table border=\"1\" class=\"dataframe\">\n",
       "  <thead>\n",
       "    <tr style=\"text-align: right;\">\n",
       "      <th></th>\n",
       "      <th>timestamp</th>\n",
       "      <th>customer_id</th>\n",
       "    </tr>\n",
       "  </thead>\n",
       "  <tbody>\n",
       "    <tr>\n",
       "      <th>0</th>\n",
       "      <td>2015-01-01</td>\n",
       "      <td>4</td>\n",
       "    </tr>\n",
       "    <tr>\n",
       "      <th>1</th>\n",
       "      <td>2015-01-01</td>\n",
       "      <td>15</td>\n",
       "    </tr>\n",
       "    <tr>\n",
       "      <th>2</th>\n",
       "      <td>2015-01-01</td>\n",
       "      <td>23</td>\n",
       "    </tr>\n",
       "    <tr>\n",
       "      <th>3</th>\n",
       "      <td>2015-01-01</td>\n",
       "      <td>27</td>\n",
       "    </tr>\n",
       "  </tbody>\n",
       "</table>\n",
       "</div>"
      ],
      "text/plain": [
       "   timestamp  customer_id\n",
       "0 2015-01-01            4\n",
       "1 2015-01-01           15\n",
       "2 2015-01-01           23\n",
       "3 2015-01-01           27"
      ]
     },
     "execution_count": 23,
     "metadata": {},
     "output_type": "execute_result"
    }
   ],
   "source": [
    "task.test_table.df"
   ]
  },
  {
   "cell_type": "code",
   "execution_count": 25,
   "id": "af05faa5-4841-4e30-b410-c40386936cd6",
   "metadata": {
    "execution": {
     "iopub.execute_input": "2023-11-26T05:13:14.468095Z",
     "iopub.status.busy": "2023-11-26T05:13:14.467537Z",
     "iopub.status.idle": "2023-11-26T05:13:14.490937Z",
     "shell.execute_reply": "2023-11-26T05:13:14.490031Z",
     "shell.execute_reply.started": "2023-11-26T05:13:14.468052Z"
    }
   },
   "outputs": [
    {
     "data": {
      "text/html": [
       "<div>\n",
       "<style scoped>\n",
       "    .dataframe tbody tr th:only-of-type {\n",
       "        vertical-align: middle;\n",
       "    }\n",
       "\n",
       "    .dataframe tbody tr th {\n",
       "        vertical-align: top;\n",
       "    }\n",
       "\n",
       "    .dataframe thead th {\n",
       "        text-align: right;\n",
       "    }\n",
       "</style>\n",
       "<table border=\"1\" class=\"dataframe\">\n",
       "  <thead>\n",
       "    <tr style=\"text-align: right;\">\n",
       "      <th></th>\n",
       "      <th>timestamp</th>\n",
       "      <th>customer_id</th>\n",
       "      <th>churn</th>\n",
       "    </tr>\n",
       "  </thead>\n",
       "  <tbody>\n",
       "    <tr>\n",
       "      <th>0</th>\n",
       "      <td>2015-01-01</td>\n",
       "      <td>4</td>\n",
       "      <td>0</td>\n",
       "    </tr>\n",
       "    <tr>\n",
       "      <th>1</th>\n",
       "      <td>2015-01-01</td>\n",
       "      <td>15</td>\n",
       "      <td>1</td>\n",
       "    </tr>\n",
       "    <tr>\n",
       "      <th>2</th>\n",
       "      <td>2015-01-01</td>\n",
       "      <td>23</td>\n",
       "      <td>0</td>\n",
       "    </tr>\n",
       "    <tr>\n",
       "      <th>3</th>\n",
       "      <td>2015-01-01</td>\n",
       "      <td>27</td>\n",
       "      <td>1</td>\n",
       "    </tr>\n",
       "  </tbody>\n",
       "</table>\n",
       "</div>"
      ],
      "text/plain": [
       "   timestamp  customer_id  churn\n",
       "0 2015-01-01            4      0\n",
       "1 2015-01-01           15      1\n",
       "2 2015-01-01           23      0\n",
       "3 2015-01-01           27      1"
      ]
     },
     "execution_count": 25,
     "metadata": {},
     "output_type": "execute_result"
    }
   ],
   "source": [
    "task._full_test_table.df"
   ]
  },
  {
   "cell_type": "code",
   "execution_count": null,
   "id": "350cef28-206b-46dd-a4db-e0b48bf5ad24",
   "metadata": {},
   "outputs": [],
   "source": []
  }
 ],
 "metadata": {
  "kernelspec": {
   "display_name": "Python [conda env:rtb]",
   "language": "python",
   "name": "conda-env-rtb-py"
  },
  "language_info": {
   "codemirror_mode": {
    "name": "ipython",
    "version": 3
   },
   "file_extension": ".py",
   "mimetype": "text/x-python",
   "name": "python",
   "nbconvert_exporter": "python",
   "pygments_lexer": "ipython3",
   "version": "3.8.18"
  }
 },
 "nbformat": 4,
 "nbformat_minor": 5
}
