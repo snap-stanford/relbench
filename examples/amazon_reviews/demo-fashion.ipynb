{
 "cells": [
  {
   "cell_type": "code",
   "execution_count": 1,
   "id": "f328220d-6d96-447b-9da6-18ae0069025a",
   "metadata": {
    "execution": {
     "iopub.execute_input": "2023-11-25T02:19:35.612890Z",
     "iopub.status.busy": "2023-11-25T02:19:35.612448Z",
     "iopub.status.idle": "2023-11-25T02:19:35.635672Z",
     "shell.execute_reply": "2023-11-25T02:19:35.634845Z",
     "shell.execute_reply.started": "2023-11-25T02:19:35.612852Z"
    }
   },
   "outputs": [],
   "source": [
    "%load_ext autoreload\n",
    "%autoreload 2"
   ]
  },
  {
   "cell_type": "code",
   "execution_count": 3,
   "id": "6f3dac79-b7aa-46e7-9f60-7728da8bc263",
   "metadata": {
    "execution": {
     "iopub.execute_input": "2023-11-25T02:21:35.344860Z",
     "iopub.status.busy": "2023-11-25T02:21:35.344418Z",
     "iopub.status.idle": "2023-11-25T02:21:36.009851Z",
     "shell.execute_reply": "2023-11-25T02:21:36.008744Z",
     "shell.execute_reply.started": "2023-11-25T02:21:35.344822Z"
    }
   },
   "outputs": [],
   "source": [
    "from rtb.datasets import get_dataset"
   ]
  },
  {
   "cell_type": "code",
   "execution_count": 12,
   "id": "7c9d1987-1582-4115-92e2-23d4e9da3a98",
   "metadata": {
    "execution": {
     "iopub.execute_input": "2023-11-25T02:38:23.722990Z",
     "iopub.status.busy": "2023-11-25T02:38:23.722578Z",
     "iopub.status.idle": "2023-11-25T02:38:26.734108Z",
     "shell.execute_reply": "2023-11-25T02:38:26.733230Z",
     "shell.execute_reply.started": "2023-11-25T02:38:23.722954Z"
    }
   },
   "outputs": [
    {
     "name": "stdout",
     "output_type": "stream",
     "text": [
      "processing db...\n",
      "reading product info from ../../data/amazon_reviews-fashion/db/raw/meta_AMAZON_FASHION.json...\n",
      "done in 0.11 seconds.\n",
      "converting to pandas dataframe...\n",
      "done in 0.15 seconds.\n",
      "processing product info...\n",
      "done in 0.13 seconds.\n",
      "reading review and customer info from ../../data/amazon_reviews-fashion/db/raw/AMAZON_FASHION.json...\n",
      "done in 0.13 seconds.\n",
      "converting to pandas dataframe...\n",
      "done in 1.08 seconds.\n",
      "processing review and customer info...\n",
      "done in 0.07 seconds.\n",
      "keeping only products common to product and review tables...\n",
      "done in 0.28 seconds.\n",
      "extracting customer table...\n",
      "done in 0.11 seconds.\n",
      "processing db took 2.09 seconds.\n",
      "reindexing pkeys and fkeys...\n",
      "reindexing pkeys and fkeys took 0.26 seconds.\n",
      "saving db...\n",
      "saving db took 0.50 seconds.\n"
     ]
    }
   ],
   "source": [
    "dataset = get_dataset(\n",
    "    name=\"amazon_reviews\",\n",
    "    root=\"../../data\",\n",
    "    category=\"fashion\",\n",
    "    use_5_core=False,\n",
    "    process=True,\n",
    ")"
   ]
  },
  {
   "cell_type": "code",
   "execution_count": 20,
   "id": "305c79f9-6f79-41b6-8fbe-e9d0370c23fc",
   "metadata": {
    "execution": {
     "iopub.execute_input": "2023-11-25T02:40:05.801558Z",
     "iopub.status.busy": "2023-11-25T02:40:05.801141Z",
     "iopub.status.idle": "2023-11-25T02:40:05.821592Z",
     "shell.execute_reply": "2023-11-25T02:40:05.820646Z",
     "shell.execute_reply.started": "2023-11-25T02:40:05.801521Z"
    }
   },
   "outputs": [
    {
     "data": {
      "text/plain": [
       "['customer_churn', 'customer_ltv']"
      ]
     },
     "execution_count": 20,
     "metadata": {},
     "output_type": "execute_result"
    }
   ],
   "source": [
    "dataset.task_names"
   ]
  },
  {
   "cell_type": "code",
   "execution_count": 14,
   "id": "999cf3cc-a470-4413-af3c-1e1e7a32adb4",
   "metadata": {
    "execution": {
     "iopub.execute_input": "2023-11-25T02:38:57.904420Z",
     "iopub.status.busy": "2023-11-25T02:38:57.903970Z",
     "iopub.status.idle": "2023-11-25T02:38:57.925111Z",
     "shell.execute_reply": "2023-11-25T02:38:57.923915Z",
     "shell.execute_reply.started": "2023-11-25T02:38:57.904382Z"
    }
   },
   "outputs": [],
   "source": [
    "db = dataset._db"
   ]
  },
  {
   "cell_type": "code",
   "execution_count": 16,
   "id": "1ea16577-ca56-4edb-b459-e506f3c3f6b4",
   "metadata": {
    "execution": {
     "iopub.execute_input": "2023-11-25T02:39:11.627470Z",
     "iopub.status.busy": "2023-11-25T02:39:11.627027Z",
     "iopub.status.idle": "2023-11-25T02:39:11.647456Z",
     "shell.execute_reply": "2023-11-25T02:39:11.646745Z",
     "shell.execute_reply.started": "2023-11-25T02:39:11.627434Z"
    }
   },
   "outputs": [],
   "source": [
    "customer = db.table_dict[\"customer\"].df\n",
    "product = db.table_dict[\"product\"].df\n",
    "review = db.table_dict[\"review\"].df"
   ]
  },
  {
   "cell_type": "code",
   "execution_count": 17,
   "id": "559e16ec-8d0f-4ae0-8721-a254af40509a",
   "metadata": {
    "execution": {
     "iopub.execute_input": "2023-11-25T02:39:20.981283Z",
     "iopub.status.busy": "2023-11-25T02:39:20.980846Z",
     "iopub.status.idle": "2023-11-25T02:39:21.007046Z",
     "shell.execute_reply": "2023-11-25T02:39:21.006339Z",
     "shell.execute_reply.started": "2023-11-25T02:39:20.981246Z"
    }
   },
   "outputs": [
    {
     "data": {
      "text/html": [
       "<div>\n",
       "<style scoped>\n",
       "    .dataframe tbody tr th:only-of-type {\n",
       "        vertical-align: middle;\n",
       "    }\n",
       "\n",
       "    .dataframe tbody tr th {\n",
       "        vertical-align: top;\n",
       "    }\n",
       "\n",
       "    .dataframe thead th {\n",
       "        text-align: right;\n",
       "    }\n",
       "</style>\n",
       "<table border=\"1\" class=\"dataframe\">\n",
       "  <thead>\n",
       "    <tr style=\"text-align: right;\">\n",
       "      <th></th>\n",
       "      <th>customer_id</th>\n",
       "      <th>customer_name</th>\n",
       "    </tr>\n",
       "  </thead>\n",
       "  <tbody>\n",
       "    <tr>\n",
       "      <th>7</th>\n",
       "      <td>0</td>\n",
       "      <td>Darrow H Ankrum II</td>\n",
       "    </tr>\n",
       "    <tr>\n",
       "      <th>8</th>\n",
       "      <td>1</td>\n",
       "      <td>rosieO</td>\n",
       "    </tr>\n",
       "    <tr>\n",
       "      <th>9</th>\n",
       "      <td>2</td>\n",
       "      <td>M. Waltman</td>\n",
       "    </tr>\n",
       "    <tr>\n",
       "      <th>10</th>\n",
       "      <td>3</td>\n",
       "      <td>BTDoxies</td>\n",
       "    </tr>\n",
       "    <tr>\n",
       "      <th>11</th>\n",
       "      <td>4</td>\n",
       "      <td>Robin Howard</td>\n",
       "    </tr>\n",
       "    <tr>\n",
       "      <th>...</th>\n",
       "      <td>...</td>\n",
       "      <td>...</td>\n",
       "    </tr>\n",
       "    <tr>\n",
       "      <th>883597</th>\n",
       "      <td>264678</td>\n",
       "      <td>Kai</td>\n",
       "    </tr>\n",
       "    <tr>\n",
       "      <th>883598</th>\n",
       "      <td>264679</td>\n",
       "      <td>TPalmer</td>\n",
       "    </tr>\n",
       "    <tr>\n",
       "      <th>883599</th>\n",
       "      <td>264680</td>\n",
       "      <td>Keith miller</td>\n",
       "    </tr>\n",
       "    <tr>\n",
       "      <th>883600</th>\n",
       "      <td>264681</td>\n",
       "      <td>rico</td>\n",
       "    </tr>\n",
       "    <tr>\n",
       "      <th>883601</th>\n",
       "      <td>264682</td>\n",
       "      <td>MadinMi</td>\n",
       "    </tr>\n",
       "  </tbody>\n",
       "</table>\n",
       "<p>264683 rows × 2 columns</p>\n",
       "</div>"
      ],
      "text/plain": [
       "        customer_id       customer_name\n",
       "7                 0  Darrow H Ankrum II\n",
       "8                 1              rosieO\n",
       "9                 2          M. Waltman\n",
       "10                3            BTDoxies\n",
       "11                4        Robin Howard\n",
       "...             ...                 ...\n",
       "883597       264678                 Kai\n",
       "883598       264679             TPalmer\n",
       "883599       264680        Keith miller\n",
       "883600       264681                rico\n",
       "883601       264682             MadinMi\n",
       "\n",
       "[264683 rows x 2 columns]"
      ]
     },
     "execution_count": 17,
     "metadata": {},
     "output_type": "execute_result"
    }
   ],
   "source": [
    "customer"
   ]
  },
  {
   "cell_type": "code",
   "execution_count": 18,
   "id": "a5115f80-4c86-4131-8ad4-f32af815041d",
   "metadata": {
    "execution": {
     "iopub.execute_input": "2023-11-25T02:39:22.853647Z",
     "iopub.status.busy": "2023-11-25T02:39:22.853301Z",
     "iopub.status.idle": "2023-11-25T02:39:22.877819Z",
     "shell.execute_reply": "2023-11-25T02:39:22.877123Z",
     "shell.execute_reply.started": "2023-11-25T02:39:22.853612Z"
    }
   },
   "outputs": [
    {
     "data": {
      "text/html": [
       "<div>\n",
       "<style scoped>\n",
       "    .dataframe tbody tr th:only-of-type {\n",
       "        vertical-align: middle;\n",
       "    }\n",
       "\n",
       "    .dataframe tbody tr th {\n",
       "        vertical-align: top;\n",
       "    }\n",
       "\n",
       "    .dataframe thead th {\n",
       "        text-align: right;\n",
       "    }\n",
       "</style>\n",
       "<table border=\"1\" class=\"dataframe\">\n",
       "  <thead>\n",
       "    <tr style=\"text-align: right;\">\n",
       "      <th></th>\n",
       "      <th>product_id</th>\n",
       "      <th>category</th>\n",
       "      <th>brand</th>\n",
       "      <th>title</th>\n",
       "      <th>description</th>\n",
       "      <th>price</th>\n",
       "    </tr>\n",
       "  </thead>\n",
       "  <tbody>\n",
       "    <tr>\n",
       "      <th>4</th>\n",
       "      <td>0</td>\n",
       "      <td>None</td>\n",
       "      <td>None</td>\n",
       "      <td>Aether &amp; Empire #1 - 2016 First Printing Comic...</td>\n",
       "      <td>None</td>\n",
       "      <td>4.5</td>\n",
       "    </tr>\n",
       "    <tr>\n",
       "      <th>17</th>\n",
       "      <td>1</td>\n",
       "      <td>None</td>\n",
       "      <td>Roar Carbon</td>\n",
       "      <td>X. L. Carbon Fiber Money Clip, made in the USA</td>\n",
       "      <td>When you pull out your extra large carbon fibe...</td>\n",
       "      <td>14.99</td>\n",
       "    </tr>\n",
       "    <tr>\n",
       "      <th>18</th>\n",
       "      <td>2</td>\n",
       "      <td>None</td>\n",
       "      <td>Shimmer Anne Shine</td>\n",
       "      <td>Shimmer Anne Shine Clip On Costume/Halloween C...</td>\n",
       "      <td>A fun addition to any costume party, play, or ...</td>\n",
       "      <td>6.99</td>\n",
       "    </tr>\n",
       "    <tr>\n",
       "      <th>69</th>\n",
       "      <td>3</td>\n",
       "      <td>None</td>\n",
       "      <td>Buxton</td>\n",
       "      <td>Buxton Heiress Pik-Me-Up Framed Case</td>\n",
       "      <td>Authentic crunch leather with rich floral embo...</td>\n",
       "      <td>16.95</td>\n",
       "    </tr>\n",
       "    <tr>\n",
       "      <th>115</th>\n",
       "      <td>4</td>\n",
       "      <td>None</td>\n",
       "      <td>None</td>\n",
       "      <td>Long Blonde Witch Wig</td>\n",
       "      <td>Rubie's Costume Company has designed quality c...</td>\n",
       "      <td>9.02</td>\n",
       "    </tr>\n",
       "    <tr>\n",
       "      <th>...</th>\n",
       "      <td>...</td>\n",
       "      <td>...</td>\n",
       "      <td>...</td>\n",
       "      <td>...</td>\n",
       "      <td>...</td>\n",
       "      <td>...</td>\n",
       "    </tr>\n",
       "    <tr>\n",
       "      <th>186563</th>\n",
       "      <td>17782</td>\n",
       "      <td>None</td>\n",
       "      <td>LenzFlip</td>\n",
       "      <td>LenzFlip Polarized Replacement Lenses for Oakl...</td>\n",
       "      <td>None</td>\n",
       "      <td>30.0</td>\n",
       "    </tr>\n",
       "    <tr>\n",
       "      <th>186579</th>\n",
       "      <td>17783</td>\n",
       "      <td>None</td>\n",
       "      <td>Stetson</td>\n",
       "      <td>Stetson Hats Mens 10X Open Road 2 3/4 Brim 71/...</td>\n",
       "      <td>None</td>\n",
       "      <td>99.99</td>\n",
       "    </tr>\n",
       "    <tr>\n",
       "      <th>186589</th>\n",
       "      <td>17784</td>\n",
       "      <td>None</td>\n",
       "      <td>Ivysport</td>\n",
       "      <td>Princeton University Tigers Pennant</td>\n",
       "      <td>Measures 12\" width by 30\" in length. Features ...</td>\n",
       "      <td>16.95</td>\n",
       "    </tr>\n",
       "    <tr>\n",
       "      <th>186603</th>\n",
       "      <td>17785</td>\n",
       "      <td>None</td>\n",
       "      <td>IK COLOURING</td>\n",
       "      <td>IK COLOURING Man's Automatic Mechanical Wristw...</td>\n",
       "      <td>None</td>\n",
       "      <td>52.5</td>\n",
       "    </tr>\n",
       "    <tr>\n",
       "      <th>186634</th>\n",
       "      <td>17786</td>\n",
       "      <td>None</td>\n",
       "      <td>Lookatool</td>\n",
       "      <td>Lookatool Classic Plain Vintage Army Military ...</td>\n",
       "      <td>None</td>\n",
       "      <td>8.53</td>\n",
       "    </tr>\n",
       "  </tbody>\n",
       "</table>\n",
       "<p>17787 rows × 6 columns</p>\n",
       "</div>"
      ],
      "text/plain": [
       "        product_id category               brand  \\\n",
       "4                0     None                None   \n",
       "17               1     None         Roar Carbon   \n",
       "18               2     None  Shimmer Anne Shine   \n",
       "69               3     None              Buxton   \n",
       "115              4     None                None   \n",
       "...            ...      ...                 ...   \n",
       "186563       17782     None            LenzFlip   \n",
       "186579       17783     None             Stetson   \n",
       "186589       17784     None            Ivysport   \n",
       "186603       17785     None        IK COLOURING   \n",
       "186634       17786     None           Lookatool   \n",
       "\n",
       "                                                    title  \\\n",
       "4       Aether & Empire #1 - 2016 First Printing Comic...   \n",
       "17         X. L. Carbon Fiber Money Clip, made in the USA   \n",
       "18      Shimmer Anne Shine Clip On Costume/Halloween C...   \n",
       "69                   Buxton Heiress Pik-Me-Up Framed Case   \n",
       "115                                 Long Blonde Witch Wig   \n",
       "...                                                   ...   \n",
       "186563  LenzFlip Polarized Replacement Lenses for Oakl...   \n",
       "186579  Stetson Hats Mens 10X Open Road 2 3/4 Brim 71/...   \n",
       "186589                Princeton University Tigers Pennant   \n",
       "186603  IK COLOURING Man's Automatic Mechanical Wristw...   \n",
       "186634  Lookatool Classic Plain Vintage Army Military ...   \n",
       "\n",
       "                                              description  price  \n",
       "4                                                    None    4.5  \n",
       "17      When you pull out your extra large carbon fibe...  14.99  \n",
       "18      A fun addition to any costume party, play, or ...   6.99  \n",
       "69      Authentic crunch leather with rich floral embo...  16.95  \n",
       "115     Rubie's Costume Company has designed quality c...   9.02  \n",
       "...                                                   ...    ...  \n",
       "186563                                               None   30.0  \n",
       "186579                                               None  99.99  \n",
       "186589  Measures 12\" width by 30\" in length. Features ...  16.95  \n",
       "186603                                               None   52.5  \n",
       "186634                                               None   8.53  \n",
       "\n",
       "[17787 rows x 6 columns]"
      ]
     },
     "execution_count": 18,
     "metadata": {},
     "output_type": "execute_result"
    }
   ],
   "source": [
    "product"
   ]
  },
  {
   "cell_type": "code",
   "execution_count": 19,
   "id": "39bd3e12-68c4-4e7a-9f5e-ce7ae0f4ca9a",
   "metadata": {
    "execution": {
     "iopub.execute_input": "2023-11-25T02:39:24.653977Z",
     "iopub.status.busy": "2023-11-25T02:39:24.653709Z",
     "iopub.status.idle": "2023-11-25T02:39:24.679452Z",
     "shell.execute_reply": "2023-11-25T02:39:24.678694Z",
     "shell.execute_reply.started": "2023-11-25T02:39:24.653960Z"
    }
   },
   "outputs": [
    {
     "data": {
      "text/html": [
       "<div>\n",
       "<style scoped>\n",
       "    .dataframe tbody tr th:only-of-type {\n",
       "        vertical-align: middle;\n",
       "    }\n",
       "\n",
       "    .dataframe tbody tr th {\n",
       "        vertical-align: top;\n",
       "    }\n",
       "\n",
       "    .dataframe thead th {\n",
       "        text-align: right;\n",
       "    }\n",
       "</style>\n",
       "<table border=\"1\" class=\"dataframe\">\n",
       "  <thead>\n",
       "    <tr style=\"text-align: right;\">\n",
       "      <th></th>\n",
       "      <th>review_time</th>\n",
       "      <th>customer_id</th>\n",
       "      <th>product_id</th>\n",
       "      <th>rating</th>\n",
       "      <th>verified</th>\n",
       "      <th>review_text</th>\n",
       "      <th>summary</th>\n",
       "    </tr>\n",
       "  </thead>\n",
       "  <tbody>\n",
       "    <tr>\n",
       "      <th>7</th>\n",
       "      <td>2013-09-22</td>\n",
       "      <td>0</td>\n",
       "      <td>3</td>\n",
       "      <td>3.0</td>\n",
       "      <td>True</td>\n",
       "      <td>mother - in - law wanted it as a present for h...</td>\n",
       "      <td>bought as a present</td>\n",
       "    </tr>\n",
       "    <tr>\n",
       "      <th>8</th>\n",
       "      <td>2013-07-17</td>\n",
       "      <td>1</td>\n",
       "      <td>3</td>\n",
       "      <td>3.0</td>\n",
       "      <td>True</td>\n",
       "      <td>Item is of good quality. Looks great, too. But...</td>\n",
       "      <td>Buxton heiress collection</td>\n",
       "    </tr>\n",
       "    <tr>\n",
       "      <th>9</th>\n",
       "      <td>2013-04-13</td>\n",
       "      <td>2</td>\n",
       "      <td>3</td>\n",
       "      <td>3.0</td>\n",
       "      <td>True</td>\n",
       "      <td>I had used my last el-cheapo fake leather ciga...</td>\n",
       "      <td>Top Clasp Broke Within 3 days!</td>\n",
       "    </tr>\n",
       "    <tr>\n",
       "      <th>10</th>\n",
       "      <td>2013-03-09</td>\n",
       "      <td>3</td>\n",
       "      <td>3</td>\n",
       "      <td>4.0</td>\n",
       "      <td>True</td>\n",
       "      <td>This brand has been around a long time and you...</td>\n",
       "      <td>BUXTON QUALITY!</td>\n",
       "    </tr>\n",
       "    <tr>\n",
       "      <th>11</th>\n",
       "      <td>2013-01-27</td>\n",
       "      <td>4</td>\n",
       "      <td>3</td>\n",
       "      <td>2.0</td>\n",
       "      <td>True</td>\n",
       "      <td>I smoke 100's and these are NOT made for them....</td>\n",
       "      <td>Buxton Heiress Collection Black Leather Cigare...</td>\n",
       "    </tr>\n",
       "    <tr>\n",
       "      <th>...</th>\n",
       "      <td>...</td>\n",
       "      <td>...</td>\n",
       "      <td>...</td>\n",
       "      <td>...</td>\n",
       "      <td>...</td>\n",
       "      <td>...</td>\n",
       "      <td>...</td>\n",
       "    </tr>\n",
       "    <tr>\n",
       "      <th>883597</th>\n",
       "      <td>2017-04-05</td>\n",
       "      <td>264678</td>\n",
       "      <td>17786</td>\n",
       "      <td>5.0</td>\n",
       "      <td>True</td>\n",
       "      <td>Great hats, thank you!</td>\n",
       "      <td>good hats!</td>\n",
       "    </tr>\n",
       "    <tr>\n",
       "      <th>883598</th>\n",
       "      <td>2017-03-21</td>\n",
       "      <td>264679</td>\n",
       "      <td>17786</td>\n",
       "      <td>4.0</td>\n",
       "      <td>True</td>\n",
       "      <td>Material feels very inexpensive but the hat fi...</td>\n",
       "      <td>Four Stars</td>\n",
       "    </tr>\n",
       "    <tr>\n",
       "      <th>883599</th>\n",
       "      <td>2017-03-15</td>\n",
       "      <td>264680</td>\n",
       "      <td>17786</td>\n",
       "      <td>5.0</td>\n",
       "      <td>True</td>\n",
       "      <td>Nice hat to wear fishing fits good.</td>\n",
       "      <td>nice hat</td>\n",
       "    </tr>\n",
       "    <tr>\n",
       "      <th>883600</th>\n",
       "      <td>2017-02-06</td>\n",
       "      <td>264681</td>\n",
       "      <td>17786</td>\n",
       "      <td>5.0</td>\n",
       "      <td>True</td>\n",
       "      <td>It a perfect it! made well.</td>\n",
       "      <td>Five Stars</td>\n",
       "    </tr>\n",
       "    <tr>\n",
       "      <th>883601</th>\n",
       "      <td>2017-01-22</td>\n",
       "      <td>264682</td>\n",
       "      <td>17786</td>\n",
       "      <td>4.0</td>\n",
       "      <td>True</td>\n",
       "      <td>Somewhat cheap</td>\n",
       "      <td>Four Stars</td>\n",
       "    </tr>\n",
       "  </tbody>\n",
       "</table>\n",
       "<p>297603 rows × 7 columns</p>\n",
       "</div>"
      ],
      "text/plain": [
       "       review_time  customer_id  product_id  rating  verified  \\\n",
       "7       2013-09-22            0           3     3.0      True   \n",
       "8       2013-07-17            1           3     3.0      True   \n",
       "9       2013-04-13            2           3     3.0      True   \n",
       "10      2013-03-09            3           3     4.0      True   \n",
       "11      2013-01-27            4           3     2.0      True   \n",
       "...            ...          ...         ...     ...       ...   \n",
       "883597  2017-04-05       264678       17786     5.0      True   \n",
       "883598  2017-03-21       264679       17786     4.0      True   \n",
       "883599  2017-03-15       264680       17786     5.0      True   \n",
       "883600  2017-02-06       264681       17786     5.0      True   \n",
       "883601  2017-01-22       264682       17786     4.0      True   \n",
       "\n",
       "                                              review_text  \\\n",
       "7       mother - in - law wanted it as a present for h...   \n",
       "8       Item is of good quality. Looks great, too. But...   \n",
       "9       I had used my last el-cheapo fake leather ciga...   \n",
       "10      This brand has been around a long time and you...   \n",
       "11      I smoke 100's and these are NOT made for them....   \n",
       "...                                                   ...   \n",
       "883597                             Great hats, thank you!   \n",
       "883598  Material feels very inexpensive but the hat fi...   \n",
       "883599                Nice hat to wear fishing fits good.   \n",
       "883600                        It a perfect it! made well.   \n",
       "883601                                     Somewhat cheap   \n",
       "\n",
       "                                                  summary  \n",
       "7                                     bought as a present  \n",
       "8                               Buxton heiress collection  \n",
       "9                          Top Clasp Broke Within 3 days!  \n",
       "10                                        BUXTON QUALITY!  \n",
       "11      Buxton Heiress Collection Black Leather Cigare...  \n",
       "...                                                   ...  \n",
       "883597                                         good hats!  \n",
       "883598                                         Four Stars  \n",
       "883599                                           nice hat  \n",
       "883600                                         Five Stars  \n",
       "883601                                         Four Stars  \n",
       "\n",
       "[297603 rows x 7 columns]"
      ]
     },
     "execution_count": 19,
     "metadata": {},
     "output_type": "execute_result"
    }
   ],
   "source": [
    "review"
   ]
  },
  {
   "cell_type": "markdown",
   "id": "647c4d05-007e-4584-b2a4-98565a8f737e",
   "metadata": {},
   "source": [
    "## LTV"
   ]
  },
  {
   "cell_type": "code",
   "execution_count": 24,
   "id": "26faae7c-0c3e-4918-8060-1d876f681fdb",
   "metadata": {
    "execution": {
     "iopub.execute_input": "2023-11-25T02:41:35.740532Z",
     "iopub.status.busy": "2023-11-25T02:41:35.740109Z",
     "iopub.status.idle": "2023-11-25T02:41:36.676323Z",
     "shell.execute_reply": "2023-11-25T02:41:36.675511Z",
     "shell.execute_reply.started": "2023-11-25T02:41:35.740495Z"
    }
   },
   "outputs": [],
   "source": [
    "task = dataset.get_task(\"customer_ltv\", process=True)"
   ]
  },
  {
   "cell_type": "markdown",
   "id": "e029889c-e6b0-4cc0-ad87-680bb39c897c",
   "metadata": {
    "execution": {
     "iopub.execute_input": "2023-11-15T05:58:40.530507Z",
     "iopub.status.busy": "2023-11-15T05:58:40.530055Z",
     "iopub.status.idle": "2023-11-15T05:58:40.557811Z",
     "shell.execute_reply": "2023-11-15T05:58:40.557146Z",
     "shell.execute_reply.started": "2023-11-15T05:58:40.530470Z"
    }
   },
   "source": [
    "### train table"
   ]
  },
  {
   "cell_type": "code",
   "execution_count": 25,
   "id": "c3a070ed-9423-4ce7-99c0-2699f78c9f58",
   "metadata": {
    "execution": {
     "iopub.execute_input": "2023-11-25T02:41:58.018785Z",
     "iopub.status.busy": "2023-11-25T02:41:58.018373Z",
     "iopub.status.idle": "2023-11-25T02:41:58.039190Z",
     "shell.execute_reply": "2023-11-25T02:41:58.038498Z",
     "shell.execute_reply.started": "2023-11-25T02:41:58.018749Z"
    }
   },
   "outputs": [],
   "source": [
    "train_table = task.default_train_table"
   ]
  },
  {
   "cell_type": "code",
   "execution_count": 26,
   "id": "1023c4d7-48c7-414d-bfcc-4cb601ce6e00",
   "metadata": {
    "execution": {
     "iopub.execute_input": "2023-11-25T02:42:02.799152Z",
     "iopub.status.busy": "2023-11-25T02:42:02.798729Z",
     "iopub.status.idle": "2023-11-25T02:42:02.825505Z",
     "shell.execute_reply": "2023-11-25T02:42:02.824469Z",
     "shell.execute_reply.started": "2023-11-25T02:42:02.799115Z"
    }
   },
   "outputs": [
    {
     "data": {
      "text/html": [
       "<div>\n",
       "<style scoped>\n",
       "    .dataframe tbody tr th:only-of-type {\n",
       "        vertical-align: middle;\n",
       "    }\n",
       "\n",
       "    .dataframe tbody tr th {\n",
       "        vertical-align: top;\n",
       "    }\n",
       "\n",
       "    .dataframe thead th {\n",
       "        text-align: right;\n",
       "    }\n",
       "</style>\n",
       "<table border=\"1\" class=\"dataframe\">\n",
       "  <thead>\n",
       "    <tr style=\"text-align: right;\">\n",
       "      <th></th>\n",
       "      <th>timestamp</th>\n",
       "      <th>customer_id</th>\n",
       "      <th>ltv</th>\n",
       "      <th>count_</th>\n",
       "    </tr>\n",
       "  </thead>\n",
       "  <tbody>\n",
       "    <tr>\n",
       "      <th>0</th>\n",
       "      <td>2011-01-02</td>\n",
       "      <td>24739</td>\n",
       "      <td>0.0</td>\n",
       "      <td>0</td>\n",
       "    </tr>\n",
       "    <tr>\n",
       "      <th>1</th>\n",
       "      <td>2011-01-02</td>\n",
       "      <td>24740</td>\n",
       "      <td>0.0</td>\n",
       "      <td>0</td>\n",
       "    </tr>\n",
       "    <tr>\n",
       "      <th>2</th>\n",
       "      <td>2011-01-02</td>\n",
       "      <td>24741</td>\n",
       "      <td>0.0</td>\n",
       "      <td>0</td>\n",
       "    </tr>\n",
       "    <tr>\n",
       "      <th>3</th>\n",
       "      <td>2011-01-02</td>\n",
       "      <td>24742</td>\n",
       "      <td>0.0</td>\n",
       "      <td>0</td>\n",
       "    </tr>\n",
       "    <tr>\n",
       "      <th>4</th>\n",
       "      <td>2011-01-02</td>\n",
       "      <td>24868</td>\n",
       "      <td>0.0</td>\n",
       "      <td>0</td>\n",
       "    </tr>\n",
       "    <tr>\n",
       "      <th>...</th>\n",
       "      <td>...</td>\n",
       "      <td>...</td>\n",
       "      <td>...</td>\n",
       "      <td>...</td>\n",
       "    </tr>\n",
       "    <tr>\n",
       "      <th>936</th>\n",
       "      <td>2009-01-02</td>\n",
       "      <td>202902</td>\n",
       "      <td>0.0</td>\n",
       "      <td>0</td>\n",
       "    </tr>\n",
       "    <tr>\n",
       "      <th>937</th>\n",
       "      <td>2009-01-02</td>\n",
       "      <td>202912</td>\n",
       "      <td>0.0</td>\n",
       "      <td>0</td>\n",
       "    </tr>\n",
       "    <tr>\n",
       "      <th>938</th>\n",
       "      <td>2011-01-02</td>\n",
       "      <td>197668</td>\n",
       "      <td>0.0</td>\n",
       "      <td>0</td>\n",
       "    </tr>\n",
       "    <tr>\n",
       "      <th>939</th>\n",
       "      <td>2011-01-02</td>\n",
       "      <td>197582</td>\n",
       "      <td>0.0</td>\n",
       "      <td>0</td>\n",
       "    </tr>\n",
       "    <tr>\n",
       "      <th>940</th>\n",
       "      <td>2011-01-02</td>\n",
       "      <td>201176</td>\n",
       "      <td>0.0</td>\n",
       "      <td>0</td>\n",
       "    </tr>\n",
       "  </tbody>\n",
       "</table>\n",
       "<p>941 rows × 4 columns</p>\n",
       "</div>"
      ],
      "text/plain": [
       "     timestamp  customer_id  ltv  count_\n",
       "0   2011-01-02        24739  0.0       0\n",
       "1   2011-01-02        24740  0.0       0\n",
       "2   2011-01-02        24741  0.0       0\n",
       "3   2011-01-02        24742  0.0       0\n",
       "4   2011-01-02        24868  0.0       0\n",
       "..         ...          ...  ...     ...\n",
       "936 2009-01-02       202902  0.0       0\n",
       "937 2009-01-02       202912  0.0       0\n",
       "938 2011-01-02       197668  0.0       0\n",
       "939 2011-01-02       197582  0.0       0\n",
       "940 2011-01-02       201176  0.0       0\n",
       "\n",
       "[941 rows x 4 columns]"
      ]
     },
     "execution_count": 26,
     "metadata": {},
     "output_type": "execute_result"
    }
   ],
   "source": [
    "# here count is the number of products which contributed to the sum aggregation in ltv\n",
    "train_table.df"
   ]
  },
  {
   "cell_type": "code",
   "execution_count": 28,
   "id": "22e4c326-03ea-4542-b3ae-e8e4c6d1e5e3",
   "metadata": {
    "execution": {
     "iopub.execute_input": "2023-11-25T02:42:41.007996Z",
     "iopub.status.busy": "2023-11-25T02:42:41.007253Z",
     "iopub.status.idle": "2023-11-25T02:42:41.027950Z",
     "shell.execute_reply": "2023-11-25T02:42:41.027148Z",
     "shell.execute_reply.started": "2023-11-25T02:42:41.007957Z"
    }
   },
   "outputs": [
    {
     "data": {
      "text/plain": [
       "count_\n",
       "0    99.68119\n",
       "1     0.31881\n",
       "Name: proportion, dtype: float64"
      ]
     },
     "execution_count": 28,
     "metadata": {},
     "output_type": "execute_result"
    }
   ],
   "source": [
    "# frequency of counts in percent\n",
    "train_table.df[\"count_\"].value_counts(normalize=True) * 100"
   ]
  },
  {
   "cell_type": "markdown",
   "id": "b446dd02-4114-4410-bccc-0e02305ac0d0",
   "metadata": {},
   "source": [
    "## val table"
   ]
  },
  {
   "cell_type": "code",
   "execution_count": 29,
   "id": "64f96a10-a2e6-47a2-a35b-c724c9c22725",
   "metadata": {
    "execution": {
     "iopub.execute_input": "2023-11-25T02:42:58.679648Z",
     "iopub.status.busy": "2023-11-25T02:42:58.678893Z",
     "iopub.status.idle": "2023-11-25T02:42:58.697334Z",
     "shell.execute_reply": "2023-11-25T02:42:58.696304Z",
     "shell.execute_reply.started": "2023-11-25T02:42:58.679608Z"
    }
   },
   "outputs": [],
   "source": [
    "val_table = task.default_val_table"
   ]
  },
  {
   "cell_type": "code",
   "execution_count": 30,
   "id": "650f3400-7327-4a56-bb28-710f049783cf",
   "metadata": {
    "execution": {
     "iopub.execute_input": "2023-11-25T02:43:04.373270Z",
     "iopub.status.busy": "2023-11-25T02:43:04.372734Z",
     "iopub.status.idle": "2023-11-25T02:43:04.402380Z",
     "shell.execute_reply": "2023-11-25T02:43:04.401504Z",
     "shell.execute_reply.started": "2023-11-25T02:43:04.373232Z"
    }
   },
   "outputs": [
    {
     "data": {
      "text/html": [
       "<div>\n",
       "<style scoped>\n",
       "    .dataframe tbody tr th:only-of-type {\n",
       "        vertical-align: middle;\n",
       "    }\n",
       "\n",
       "    .dataframe tbody tr th {\n",
       "        vertical-align: top;\n",
       "    }\n",
       "\n",
       "    .dataframe thead th {\n",
       "        text-align: right;\n",
       "    }\n",
       "</style>\n",
       "<table border=\"1\" class=\"dataframe\">\n",
       "  <thead>\n",
       "    <tr style=\"text-align: right;\">\n",
       "      <th></th>\n",
       "      <th>timestamp</th>\n",
       "      <th>customer_id</th>\n",
       "      <th>ltv</th>\n",
       "      <th>count_</th>\n",
       "    </tr>\n",
       "  </thead>\n",
       "  <tbody>\n",
       "    <tr>\n",
       "      <th>0</th>\n",
       "      <td>2013-01-01</td>\n",
       "      <td>204816</td>\n",
       "      <td>0.0</td>\n",
       "      <td>0</td>\n",
       "    </tr>\n",
       "    <tr>\n",
       "      <th>1</th>\n",
       "      <td>2013-01-01</td>\n",
       "      <td>204842</td>\n",
       "      <td>0.0</td>\n",
       "      <td>0</td>\n",
       "    </tr>\n",
       "    <tr>\n",
       "      <th>2</th>\n",
       "      <td>2013-01-01</td>\n",
       "      <td>204845</td>\n",
       "      <td>0.0</td>\n",
       "      <td>0</td>\n",
       "    </tr>\n",
       "    <tr>\n",
       "      <th>3</th>\n",
       "      <td>2013-01-01</td>\n",
       "      <td>204872</td>\n",
       "      <td>0.0</td>\n",
       "      <td>0</td>\n",
       "    </tr>\n",
       "    <tr>\n",
       "      <th>4</th>\n",
       "      <td>2013-01-01</td>\n",
       "      <td>204889</td>\n",
       "      <td>0.0</td>\n",
       "      <td>0</td>\n",
       "    </tr>\n",
       "    <tr>\n",
       "      <th>...</th>\n",
       "      <td>...</td>\n",
       "      <td>...</td>\n",
       "      <td>...</td>\n",
       "      <td>...</td>\n",
       "    </tr>\n",
       "    <tr>\n",
       "      <th>3545</th>\n",
       "      <td>2013-01-01</td>\n",
       "      <td>198655</td>\n",
       "      <td>0.0</td>\n",
       "      <td>0</td>\n",
       "    </tr>\n",
       "    <tr>\n",
       "      <th>3546</th>\n",
       "      <td>2013-01-01</td>\n",
       "      <td>197560</td>\n",
       "      <td>0.0</td>\n",
       "      <td>0</td>\n",
       "    </tr>\n",
       "    <tr>\n",
       "      <th>3547</th>\n",
       "      <td>2013-01-01</td>\n",
       "      <td>197591</td>\n",
       "      <td>0.0</td>\n",
       "      <td>0</td>\n",
       "    </tr>\n",
       "    <tr>\n",
       "      <th>3548</th>\n",
       "      <td>2013-01-01</td>\n",
       "      <td>199706</td>\n",
       "      <td>0.0</td>\n",
       "      <td>0</td>\n",
       "    </tr>\n",
       "    <tr>\n",
       "      <th>3549</th>\n",
       "      <td>2013-01-01</td>\n",
       "      <td>204088</td>\n",
       "      <td>0.0</td>\n",
       "      <td>0</td>\n",
       "    </tr>\n",
       "  </tbody>\n",
       "</table>\n",
       "<p>3550 rows × 4 columns</p>\n",
       "</div>"
      ],
      "text/plain": [
       "      timestamp  customer_id  ltv  count_\n",
       "0    2013-01-01       204816  0.0       0\n",
       "1    2013-01-01       204842  0.0       0\n",
       "2    2013-01-01       204845  0.0       0\n",
       "3    2013-01-01       204872  0.0       0\n",
       "4    2013-01-01       204889  0.0       0\n",
       "...         ...          ...  ...     ...\n",
       "3545 2013-01-01       198655  0.0       0\n",
       "3546 2013-01-01       197560  0.0       0\n",
       "3547 2013-01-01       197591  0.0       0\n",
       "3548 2013-01-01       199706  0.0       0\n",
       "3549 2013-01-01       204088  0.0       0\n",
       "\n",
       "[3550 rows x 4 columns]"
      ]
     },
     "execution_count": 30,
     "metadata": {},
     "output_type": "execute_result"
    }
   ],
   "source": [
    "val_table.df"
   ]
  },
  {
   "cell_type": "code",
   "execution_count": 32,
   "id": "623906f8-2ef5-460e-9a1c-9b3155dd4a60",
   "metadata": {
    "execution": {
     "iopub.execute_input": "2023-11-25T02:43:11.556958Z",
     "iopub.status.busy": "2023-11-25T02:43:11.556500Z",
     "iopub.status.idle": "2023-11-25T02:43:11.578375Z",
     "shell.execute_reply": "2023-11-25T02:43:11.577564Z",
     "shell.execute_reply.started": "2023-11-25T02:43:11.556921Z"
    }
   },
   "outputs": [
    {
     "data": {
      "text/plain": [
       "count_\n",
       "0    98.788732\n",
       "1     1.014085\n",
       "2     0.197183\n",
       "Name: proportion, dtype: float64"
      ]
     },
     "execution_count": 32,
     "metadata": {},
     "output_type": "execute_result"
    }
   ],
   "source": [
    "val_table.df[\"count_\"].value_counts(normalize=True) * 100"
   ]
  },
  {
   "cell_type": "markdown",
   "id": "dcfd6722-53b3-4a71-a0c4-18a3de928449",
   "metadata": {},
   "source": [
    "## Churn"
   ]
  },
  {
   "cell_type": "code",
   "execution_count": 35,
   "id": "020f21e4-c076-4c84-971f-658a7b9578a8",
   "metadata": {
    "execution": {
     "iopub.execute_input": "2023-11-25T02:43:48.229459Z",
     "iopub.status.busy": "2023-11-25T02:43:48.229016Z",
     "iopub.status.idle": "2023-11-25T02:43:48.526976Z",
     "shell.execute_reply": "2023-11-25T02:43:48.526120Z",
     "shell.execute_reply.started": "2023-11-25T02:43:48.229422Z"
    }
   },
   "outputs": [
    {
     "data": {
      "text/plain": [
       "CustomerChurnTask(dataset=AmazonReviewsDataset())"
      ]
     },
     "execution_count": 35,
     "metadata": {},
     "output_type": "execute_result"
    }
   ],
   "source": [
    "task = dataset.get_task(\"customer_churn\", process=True)\n",
    "task"
   ]
  },
  {
   "cell_type": "markdown",
   "id": "04dc5000-3bc7-4ee4-b3bb-514bfb7f5d8f",
   "metadata": {
    "execution": {
     "iopub.execute_input": "2023-11-15T05:58:40.530507Z",
     "iopub.status.busy": "2023-11-15T05:58:40.530055Z",
     "iopub.status.idle": "2023-11-15T05:58:40.557811Z",
     "shell.execute_reply": "2023-11-15T05:58:40.557146Z",
     "shell.execute_reply.started": "2023-11-15T05:58:40.530470Z"
    }
   },
   "source": [
    "### train table"
   ]
  },
  {
   "cell_type": "code",
   "execution_count": 36,
   "id": "6c5890ba-4b67-4f30-a936-a017a9cc040e",
   "metadata": {
    "execution": {
     "iopub.execute_input": "2023-11-25T02:44:08.691901Z",
     "iopub.status.busy": "2023-11-25T02:44:08.691441Z",
     "iopub.status.idle": "2023-11-25T02:44:08.712046Z",
     "shell.execute_reply": "2023-11-25T02:44:08.711044Z",
     "shell.execute_reply.started": "2023-11-25T02:44:08.691865Z"
    }
   },
   "outputs": [],
   "source": [
    "train_table = task.default_train_table"
   ]
  },
  {
   "cell_type": "code",
   "execution_count": 38,
   "id": "10e23102-707b-449a-b6db-5f32847089ab",
   "metadata": {
    "execution": {
     "iopub.execute_input": "2023-11-25T02:44:17.800309Z",
     "iopub.status.busy": "2023-11-25T02:44:17.799934Z",
     "iopub.status.idle": "2023-11-25T02:44:17.823719Z",
     "shell.execute_reply": "2023-11-25T02:44:17.822912Z",
     "shell.execute_reply.started": "2023-11-25T02:44:17.800273Z"
    }
   },
   "outputs": [
    {
     "data": {
      "text/html": [
       "<div>\n",
       "<style scoped>\n",
       "    .dataframe tbody tr th:only-of-type {\n",
       "        vertical-align: middle;\n",
       "    }\n",
       "\n",
       "    .dataframe tbody tr th {\n",
       "        vertical-align: top;\n",
       "    }\n",
       "\n",
       "    .dataframe thead th {\n",
       "        text-align: right;\n",
       "    }\n",
       "</style>\n",
       "<table border=\"1\" class=\"dataframe\">\n",
       "  <thead>\n",
       "    <tr style=\"text-align: right;\">\n",
       "      <th></th>\n",
       "      <th>timestamp</th>\n",
       "      <th>customer_id</th>\n",
       "      <th>churn</th>\n",
       "    </tr>\n",
       "  </thead>\n",
       "  <tbody>\n",
       "    <tr>\n",
       "      <th>0</th>\n",
       "      <td>2011-01-02</td>\n",
       "      <td>12564</td>\n",
       "      <td>1</td>\n",
       "    </tr>\n",
       "    <tr>\n",
       "      <th>1</th>\n",
       "      <td>2011-01-02</td>\n",
       "      <td>12565</td>\n",
       "      <td>1</td>\n",
       "    </tr>\n",
       "    <tr>\n",
       "      <th>2</th>\n",
       "      <td>2011-01-02</td>\n",
       "      <td>12566</td>\n",
       "      <td>1</td>\n",
       "    </tr>\n",
       "    <tr>\n",
       "      <th>3</th>\n",
       "      <td>2011-01-02</td>\n",
       "      <td>12567</td>\n",
       "      <td>1</td>\n",
       "    </tr>\n",
       "    <tr>\n",
       "      <th>4</th>\n",
       "      <td>2011-01-02</td>\n",
       "      <td>12568</td>\n",
       "      <td>1</td>\n",
       "    </tr>\n",
       "    <tr>\n",
       "      <th>...</th>\n",
       "      <td>...</td>\n",
       "      <td>...</td>\n",
       "      <td>...</td>\n",
       "    </tr>\n",
       "    <tr>\n",
       "      <th>936</th>\n",
       "      <td>2011-01-02</td>\n",
       "      <td>204543</td>\n",
       "      <td>1</td>\n",
       "    </tr>\n",
       "    <tr>\n",
       "      <th>937</th>\n",
       "      <td>2011-01-02</td>\n",
       "      <td>204596</td>\n",
       "      <td>1</td>\n",
       "    </tr>\n",
       "    <tr>\n",
       "      <th>938</th>\n",
       "      <td>2009-01-02</td>\n",
       "      <td>202864</td>\n",
       "      <td>1</td>\n",
       "    </tr>\n",
       "    <tr>\n",
       "      <th>939</th>\n",
       "      <td>2009-01-02</td>\n",
       "      <td>202902</td>\n",
       "      <td>1</td>\n",
       "    </tr>\n",
       "    <tr>\n",
       "      <th>940</th>\n",
       "      <td>2009-01-02</td>\n",
       "      <td>202912</td>\n",
       "      <td>1</td>\n",
       "    </tr>\n",
       "  </tbody>\n",
       "</table>\n",
       "<p>941 rows × 3 columns</p>\n",
       "</div>"
      ],
      "text/plain": [
       "     timestamp  customer_id  churn\n",
       "0   2011-01-02        12564      1\n",
       "1   2011-01-02        12565      1\n",
       "2   2011-01-02        12566      1\n",
       "3   2011-01-02        12567      1\n",
       "4   2011-01-02        12568      1\n",
       "..         ...          ...    ...\n",
       "936 2011-01-02       204543      1\n",
       "937 2011-01-02       204596      1\n",
       "938 2009-01-02       202864      1\n",
       "939 2009-01-02       202902      1\n",
       "940 2009-01-02       202912      1\n",
       "\n",
       "[941 rows x 3 columns]"
      ]
     },
     "execution_count": 38,
     "metadata": {},
     "output_type": "execute_result"
    }
   ],
   "source": [
    "train_table.df"
   ]
  },
  {
   "cell_type": "code",
   "execution_count": 39,
   "id": "3596c7e2-b59c-4030-b31f-a1c25786bce7",
   "metadata": {
    "execution": {
     "iopub.execute_input": "2023-11-25T02:44:20.443021Z",
     "iopub.status.busy": "2023-11-25T02:44:20.442651Z",
     "iopub.status.idle": "2023-11-25T02:44:20.465052Z",
     "shell.execute_reply": "2023-11-25T02:44:20.464198Z",
     "shell.execute_reply.started": "2023-11-25T02:44:20.442985Z"
    }
   },
   "outputs": [
    {
     "data": {
      "text/plain": [
       "churn\n",
       "1    99.68119\n",
       "0     0.31881\n",
       "Name: proportion, dtype: float64"
      ]
     },
     "execution_count": 39,
     "metadata": {},
     "output_type": "execute_result"
    }
   ],
   "source": [
    "# frequency of churn in percent\n",
    "train_table.df[\"churn\"].value_counts(normalize=True) * 100"
   ]
  },
  {
   "cell_type": "markdown",
   "id": "65f15e81-da66-4f33-9656-eb15cc7814f3",
   "metadata": {},
   "source": [
    "## val table"
   ]
  },
  {
   "cell_type": "code",
   "execution_count": 41,
   "id": "33a31916-60da-49be-b4b7-4f4a47d31b52",
   "metadata": {
    "execution": {
     "iopub.execute_input": "2023-11-25T02:44:45.728641Z",
     "iopub.status.busy": "2023-11-25T02:44:45.727616Z",
     "iopub.status.idle": "2023-11-25T02:44:45.747689Z",
     "shell.execute_reply": "2023-11-25T02:44:45.746706Z",
     "shell.execute_reply.started": "2023-11-25T02:44:45.728596Z"
    }
   },
   "outputs": [],
   "source": [
    "val_table = task.default_val_table"
   ]
  },
  {
   "cell_type": "code",
   "execution_count": 42,
   "id": "26b15b3a-78c5-4499-bd75-d938c2d4334e",
   "metadata": {
    "execution": {
     "iopub.execute_input": "2023-11-25T02:44:48.525078Z",
     "iopub.status.busy": "2023-11-25T02:44:48.524630Z",
     "iopub.status.idle": "2023-11-25T02:44:48.548031Z",
     "shell.execute_reply": "2023-11-25T02:44:48.547085Z",
     "shell.execute_reply.started": "2023-11-25T02:44:48.525042Z"
    }
   },
   "outputs": [
    {
     "data": {
      "text/html": [
       "<div>\n",
       "<style scoped>\n",
       "    .dataframe tbody tr th:only-of-type {\n",
       "        vertical-align: middle;\n",
       "    }\n",
       "\n",
       "    .dataframe tbody tr th {\n",
       "        vertical-align: top;\n",
       "    }\n",
       "\n",
       "    .dataframe thead th {\n",
       "        text-align: right;\n",
       "    }\n",
       "</style>\n",
       "<table border=\"1\" class=\"dataframe\">\n",
       "  <thead>\n",
       "    <tr style=\"text-align: right;\">\n",
       "      <th></th>\n",
       "      <th>timestamp</th>\n",
       "      <th>customer_id</th>\n",
       "      <th>churn</th>\n",
       "    </tr>\n",
       "  </thead>\n",
       "  <tbody>\n",
       "    <tr>\n",
       "      <th>0</th>\n",
       "      <td>2013-01-01</td>\n",
       "      <td>6</td>\n",
       "      <td>1</td>\n",
       "    </tr>\n",
       "    <tr>\n",
       "      <th>1</th>\n",
       "      <td>2013-01-01</td>\n",
       "      <td>96</td>\n",
       "      <td>1</td>\n",
       "    </tr>\n",
       "    <tr>\n",
       "      <th>2</th>\n",
       "      <td>2013-01-01</td>\n",
       "      <td>97</td>\n",
       "      <td>1</td>\n",
       "    </tr>\n",
       "    <tr>\n",
       "      <th>3</th>\n",
       "      <td>2013-01-01</td>\n",
       "      <td>98</td>\n",
       "      <td>1</td>\n",
       "    </tr>\n",
       "    <tr>\n",
       "      <th>4</th>\n",
       "      <td>2013-01-01</td>\n",
       "      <td>99</td>\n",
       "      <td>1</td>\n",
       "    </tr>\n",
       "    <tr>\n",
       "      <th>...</th>\n",
       "      <td>...</td>\n",
       "      <td>...</td>\n",
       "      <td>...</td>\n",
       "    </tr>\n",
       "    <tr>\n",
       "      <th>3545</th>\n",
       "      <td>2013-01-01</td>\n",
       "      <td>198226</td>\n",
       "      <td>1</td>\n",
       "    </tr>\n",
       "    <tr>\n",
       "      <th>3546</th>\n",
       "      <td>2013-01-01</td>\n",
       "      <td>198332</td>\n",
       "      <td>1</td>\n",
       "    </tr>\n",
       "    <tr>\n",
       "      <th>3547</th>\n",
       "      <td>2013-01-01</td>\n",
       "      <td>198581</td>\n",
       "      <td>1</td>\n",
       "    </tr>\n",
       "    <tr>\n",
       "      <th>3548</th>\n",
       "      <td>2013-01-01</td>\n",
       "      <td>198582</td>\n",
       "      <td>1</td>\n",
       "    </tr>\n",
       "    <tr>\n",
       "      <th>3549</th>\n",
       "      <td>2013-01-01</td>\n",
       "      <td>198655</td>\n",
       "      <td>1</td>\n",
       "    </tr>\n",
       "  </tbody>\n",
       "</table>\n",
       "<p>3550 rows × 3 columns</p>\n",
       "</div>"
      ],
      "text/plain": [
       "      timestamp  customer_id  churn\n",
       "0    2013-01-01            6      1\n",
       "1    2013-01-01           96      1\n",
       "2    2013-01-01           97      1\n",
       "3    2013-01-01           98      1\n",
       "4    2013-01-01           99      1\n",
       "...         ...          ...    ...\n",
       "3545 2013-01-01       198226      1\n",
       "3546 2013-01-01       198332      1\n",
       "3547 2013-01-01       198581      1\n",
       "3548 2013-01-01       198582      1\n",
       "3549 2013-01-01       198655      1\n",
       "\n",
       "[3550 rows x 3 columns]"
      ]
     },
     "execution_count": 42,
     "metadata": {},
     "output_type": "execute_result"
    }
   ],
   "source": [
    "val_table.df"
   ]
  },
  {
   "cell_type": "code",
   "execution_count": 43,
   "id": "488f2ef5-009c-432a-9872-6e629839b429",
   "metadata": {
    "execution": {
     "iopub.execute_input": "2023-11-25T02:44:50.208315Z",
     "iopub.status.busy": "2023-11-25T02:44:50.207870Z",
     "iopub.status.idle": "2023-11-25T02:44:50.229316Z",
     "shell.execute_reply": "2023-11-25T02:44:50.228646Z",
     "shell.execute_reply.started": "2023-11-25T02:44:50.208279Z"
    }
   },
   "outputs": [
    {
     "data": {
      "text/plain": [
       "churn\n",
       "1    98.788732\n",
       "0     1.211268\n",
       "Name: proportion, dtype: float64"
      ]
     },
     "execution_count": 43,
     "metadata": {},
     "output_type": "execute_result"
    }
   ],
   "source": [
    "val_table.df[\"churn\"].value_counts(normalize=True) * 100"
   ]
  },
  {
   "cell_type": "code",
   "execution_count": null,
   "id": "350cef28-206b-46dd-a4db-e0b48bf5ad24",
   "metadata": {},
   "outputs": [],
   "source": []
  }
 ],
 "metadata": {
  "kernelspec": {
   "display_name": "Python [conda env:rtb]",
   "language": "python",
   "name": "conda-env-rtb-py"
  },
  "language_info": {
   "codemirror_mode": {
    "name": "ipython",
    "version": 3
   },
   "file_extension": ".py",
   "mimetype": "text/x-python",
   "name": "python",
   "nbconvert_exporter": "python",
   "pygments_lexer": "ipython3",
   "version": "3.8.18"
  }
 },
 "nbformat": 4,
 "nbformat_minor": 5
}
