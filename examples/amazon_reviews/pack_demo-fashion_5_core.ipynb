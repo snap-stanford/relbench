{
 "cells": [
  {
   "cell_type": "code",
   "execution_count": 1,
   "id": "f328220d-6d96-447b-9da6-18ae0069025a",
   "metadata": {
    "execution": {
     "iopub.execute_input": "2023-11-26T05:13:57.299604Z",
     "iopub.status.busy": "2023-11-26T05:13:57.299255Z",
     "iopub.status.idle": "2023-11-26T05:13:57.327744Z",
     "shell.execute_reply": "2023-11-26T05:13:57.327034Z",
     "shell.execute_reply.started": "2023-11-26T05:13:57.299565Z"
    }
   },
   "outputs": [],
   "source": [
    "%load_ext autoreload\n",
    "%autoreload 2"
   ]
  },
  {
   "cell_type": "code",
   "execution_count": 3,
   "id": "6f3dac79-b7aa-46e7-9f60-7728da8bc263",
   "metadata": {
    "execution": {
     "iopub.execute_input": "2023-11-26T05:14:08.635132Z",
     "iopub.status.busy": "2023-11-26T05:14:08.634541Z",
     "iopub.status.idle": "2023-11-26T05:14:08.655286Z",
     "shell.execute_reply": "2023-11-26T05:14:08.654509Z",
     "shell.execute_reply.started": "2023-11-26T05:14:08.635093Z"
    }
   },
   "outputs": [],
   "source": [
    "from rtb.datasets import get_dataset"
   ]
  },
  {
   "cell_type": "code",
   "execution_count": 4,
   "id": "7c9d1987-1582-4115-92e2-23d4e9da3a98",
   "metadata": {
    "execution": {
     "iopub.execute_input": "2023-11-26T05:14:37.525136Z",
     "iopub.status.busy": "2023-11-26T05:14:37.524703Z",
     "iopub.status.idle": "2023-11-26T05:14:37.923957Z",
     "shell.execute_reply": "2023-11-26T05:14:37.923434Z",
     "shell.execute_reply.started": "2023-11-26T05:14:37.525098Z"
    }
   },
   "outputs": [
    {
     "name": "stdout",
     "output_type": "stream",
     "text": [
      "making Database object from raw files...\n",
      "reading product info from /lfs/hyperturing1/0/ranjanr/.cache/pooch/b70e8d295f37e2465ea17803b6d1e11d-meta_AMAZON_FASHION.json.gz.decomp...\n",
      "done in 0.10 seconds.\n",
      "converting to pandas dataframe...\n",
      "done in 0.14 seconds.\n",
      "processing product info...\n",
      "done in 0.10 seconds.\n",
      "reading review and customer info from /lfs/hyperturing1/0/ranjanr/.cache/pooch/26323778935ec86761e2c260cea27601-AMAZON_FASHION_5.json.gz.decomp...\n",
      "done in 0.01 seconds.\n",
      "converting to pandas dataframe...\n",
      "done in 0.00 seconds.\n",
      "processing review and customer info...\n",
      "done in 0.00 seconds.\n",
      "keeping only products common to product and review tables...\n",
      "done in 0.01 seconds.\n",
      "extracting customer table...\n",
      "done in 0.00 seconds.\n",
      "done in 0.37 seconds.\n",
      "reindexing pkeys and fkeys...\n",
      "done in 0.00 seconds.\n"
     ]
    },
    {
     "data": {
      "text/plain": [
       "AmazonReviewsDataset()"
      ]
     },
     "execution_count": 4,
     "metadata": {},
     "output_type": "execute_result"
    }
   ],
   "source": [
    "dataset = get_dataset(\n",
    "    name=\"amazon_reviews\",\n",
    "    category=\"fashion\",\n",
    "    use_5_core=True,\n",
    "    process=True,  # this will process from raw files instead of trying to download from relbench\n",
    ")\n",
    "dataset"
   ]
  },
  {
   "cell_type": "code",
   "execution_count": 5,
   "id": "fba05fee-0828-4b20-afb2-e541c0b856ab",
   "metadata": {
    "execution": {
     "iopub.execute_input": "2023-11-26T05:15:37.675665Z",
     "iopub.status.busy": "2023-11-26T05:15:37.675248Z",
     "iopub.status.idle": "2023-11-26T05:15:37.711931Z",
     "shell.execute_reply": "2023-11-26T05:15:37.710970Z",
     "shell.execute_reply.started": "2023-11-26T05:15:37.675628Z"
    }
   },
   "outputs": [
    {
     "name": "stdout",
     "output_type": "stream",
     "text": [
      "saving Database object to /tmp/tmpv7lmd8m3/db...\n",
      "done in 0.01 seconds.\n",
      "making zip archive for db...\n",
      "done in 0.00 seconds.\n",
      "upload: /tmp/staging_data/amazon_reviews-fashion_5_core/db.zip\n",
      "sha256: 01a218fec57b2787dc468da0ffb2a529b5e6b0f23d5e9cb382ff8f3081826eaf\n"
     ]
    }
   ],
   "source": [
    "dataset.pack_db(\"/tmp/staging_data\")"
   ]
  },
  {
   "cell_type": "code",
   "execution_count": 6,
   "id": "9f163264-dbda-4534-aa3f-19dd18572c1c",
   "metadata": {
    "execution": {
     "iopub.execute_input": "2023-11-26T05:16:46.760043Z",
     "iopub.status.busy": "2023-11-26T05:16:46.759260Z",
     "iopub.status.idle": "2023-11-26T05:16:46.777729Z",
     "shell.execute_reply": "2023-11-26T05:16:46.776980Z",
     "shell.execute_reply.started": "2023-11-26T05:16:46.759999Z"
    }
   },
   "outputs": [
    {
     "data": {
      "text/plain": [
       "CustomerChurnTask(dataset=AmazonReviewsDataset())"
      ]
     },
     "execution_count": 6,
     "metadata": {},
     "output_type": "execute_result"
    }
   ],
   "source": [
    "# this will avoid downloading, and make the train/val/test tables on the fly\n",
    "task = dataset.get_task(\"customer_churn\", process=True)\n",
    "task"
   ]
  },
  {
   "cell_type": "code",
   "execution_count": 7,
   "id": "93b86076-7ecd-463e-a3a6-b53578a91043",
   "metadata": {
    "execution": {
     "iopub.execute_input": "2023-11-26T05:17:10.180930Z",
     "iopub.status.busy": "2023-11-26T05:17:10.180501Z",
     "iopub.status.idle": "2023-11-26T05:17:10.249285Z",
     "shell.execute_reply": "2023-11-26T05:17:10.248448Z",
     "shell.execute_reply.started": "2023-11-26T05:17:10.180892Z"
    }
   },
   "outputs": [
    {
     "name": "stdout",
     "output_type": "stream",
     "text": [
      "upload: /tmp/staging_data/amazon_reviews-fashion_5_core/tasks/customer_churn.zip\n",
      "sha256: 42ad8cc8889a760ad2f1a99a6e0b960dca231facfacce13ff772bc1997867037\n"
     ]
    }
   ],
   "source": [
    "task.pack_tables(\"/tmp/staging_data\")"
   ]
  },
  {
   "cell_type": "code",
   "execution_count": null,
   "id": "350cef28-206b-46dd-a4db-e0b48bf5ad24",
   "metadata": {},
   "outputs": [],
   "source": []
  }
 ],
 "metadata": {
  "kernelspec": {
   "display_name": "Python [conda env:rtb]",
   "language": "python",
   "name": "conda-env-rtb-py"
  },
  "language_info": {
   "codemirror_mode": {
    "name": "ipython",
    "version": 3
   },
   "file_extension": ".py",
   "mimetype": "text/x-python",
   "name": "python",
   "nbconvert_exporter": "python",
   "pygments_lexer": "ipython3",
   "version": "3.8.18"
  }
 },
 "nbformat": 4,
 "nbformat_minor": 5
}
