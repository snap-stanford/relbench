{
 "nbformat": 4,
 "nbformat_minor": 0,
 "metadata": {
  "colab": {
   "provenance": []
  },
  "kernelspec": {
   "name": "python3",
   "display_name": "Python 3"
  },
  "language_info": {
   "name": "python"
  }
 },
 "cells": [
  {
   "cell_type": "markdown",
   "source": [
    "First, `pip install`"
   ],
   "metadata": {
    "id": "9hVIN7QW2etU"
   }
  },
  {
   "cell_type": "code",
   "execution_count": null,
   "metadata": {
    "colab": {
     "base_uri": "https://localhost:8080/"
    },
    "id": "QkzAsRon2ZIw",
    "outputId": "4dca4023-9f6b-4124-a629-3b9257844ba8"
   },
   "outputs": [
    {
     "output_type": "stream",
     "name": "stdout",
     "text": [
      "Collecting relbench==1.0.0rc1\n",
      "  Downloading relbench-1.0.0rc1-py3-none-any.whl (57 kB)\n",
      "\u001b[?25l     \u001b[90m━━━━━━━━━━━━━━━━━━━━━━━━━━━━━━━━━━━━━━━━\u001b[0m \u001b[32m0.0/57.4 kB\u001b[0m \u001b[31m?\u001b[0m eta \u001b[36m-:--:--\u001b[0m\r\u001b[2K     \u001b[90m━━━━━━━━━━━━━━━━━━━━━━━━━━━━━━━━━━━━━━━━\u001b[0m \u001b[32m57.4/57.4 kB\u001b[0m \u001b[31m1.5 MB/s\u001b[0m eta \u001b[36m0:00:00\u001b[0m\n",
      "\u001b[?25hRequirement already satisfied: pandas in /usr/local/lib/python3.10/dist-packages (from relbench==1.0.0rc1) (2.0.3)\n",
      "Requirement already satisfied: pooch in /usr/local/lib/python3.10/dist-packages (from relbench==1.0.0rc1) (1.8.2)\n",
      "Requirement already satisfied: pyarrow in /usr/local/lib/python3.10/dist-packages (from relbench==1.0.0rc1) (14.0.2)\n",
      "Requirement already satisfied: numpy in /usr/local/lib/python3.10/dist-packages (from relbench==1.0.0rc1) (1.25.2)\n",
      "Requirement already satisfied: duckdb in /usr/local/lib/python3.10/dist-packages (from relbench==1.0.0rc1) (0.10.3)\n",
      "Requirement already satisfied: scikit-learn in /usr/local/lib/python3.10/dist-packages (from relbench==1.0.0rc1) (1.2.2)\n",
      "Requirement already satisfied: typing-extensions in /usr/local/lib/python3.10/dist-packages (from relbench==1.0.0rc1) (4.12.2)\n",
      "Requirement already satisfied: tqdm in /usr/local/lib/python3.10/dist-packages (from relbench==1.0.0rc1) (4.66.4)\n",
      "Requirement already satisfied: python-dateutil>=2.8.2 in /usr/local/lib/python3.10/dist-packages (from pandas->relbench==1.0.0rc1) (2.8.2)\n",
      "Requirement already satisfied: pytz>=2020.1 in /usr/local/lib/python3.10/dist-packages (from pandas->relbench==1.0.0rc1) (2023.4)\n",
      "Requirement already satisfied: tzdata>=2022.1 in /usr/local/lib/python3.10/dist-packages (from pandas->relbench==1.0.0rc1) (2024.1)\n",
      "Requirement already satisfied: platformdirs>=2.5.0 in /usr/local/lib/python3.10/dist-packages (from pooch->relbench==1.0.0rc1) (4.2.2)\n",
      "Requirement already satisfied: packaging>=20.0 in /usr/local/lib/python3.10/dist-packages (from pooch->relbench==1.0.0rc1) (24.1)\n",
      "Requirement already satisfied: requests>=2.19.0 in /usr/local/lib/python3.10/dist-packages (from pooch->relbench==1.0.0rc1) (2.31.0)\n",
      "Requirement already satisfied: scipy>=1.3.2 in /usr/local/lib/python3.10/dist-packages (from scikit-learn->relbench==1.0.0rc1) (1.11.4)\n",
      "Requirement already satisfied: joblib>=1.1.1 in /usr/local/lib/python3.10/dist-packages (from scikit-learn->relbench==1.0.0rc1) (1.4.2)\n",
      "Requirement already satisfied: threadpoolctl>=2.0.0 in /usr/local/lib/python3.10/dist-packages (from scikit-learn->relbench==1.0.0rc1) (3.5.0)\n",
      "Requirement already satisfied: six>=1.5 in /usr/local/lib/python3.10/dist-packages (from python-dateutil>=2.8.2->pandas->relbench==1.0.0rc1) (1.16.0)\n",
      "Requirement already satisfied: charset-normalizer<4,>=2 in /usr/local/lib/python3.10/dist-packages (from requests>=2.19.0->pooch->relbench==1.0.0rc1) (3.3.2)\n",
      "Requirement already satisfied: idna<4,>=2.5 in /usr/local/lib/python3.10/dist-packages (from requests>=2.19.0->pooch->relbench==1.0.0rc1) (3.7)\n",
      "Requirement already satisfied: urllib3<3,>=1.21.1 in /usr/local/lib/python3.10/dist-packages (from requests>=2.19.0->pooch->relbench==1.0.0rc1) (2.0.7)\n",
      "Requirement already satisfied: certifi>=2017.4.17 in /usr/local/lib/python3.10/dist-packages (from requests>=2.19.0->pooch->relbench==1.0.0rc1) (2024.6.2)\n",
      "Installing collected packages: relbench\n",
      "Successfully installed relbench-1.0.0rc1\n"
     ]
    }
   ],
   "source": [
    "!pip install relbench==1.0.0rc1"
   ]
  },
  {
   "cell_type": "markdown",
   "source": [
    "To start we can check all of the databases currently available in RelBench by printing:"
   ],
   "metadata": {
    "id": "yLfAfxNO-LBV"
   }
  },
  {
   "cell_type": "code",
   "source": [
    "from relbench.datasets import get_dataset_names\n",
    "\n",
    "get_dataset_names()"
   ],
   "metadata": {
    "colab": {
     "base_uri": "https://localhost:8080/"
    },
    "id": "ApqEZu5--HJy",
    "outputId": "f45a7623-ce90-4dd9-c088-004290d6519a"
   },
   "execution_count": null,
   "outputs": [
    {
     "output_type": "execute_result",
     "data": {
      "text/plain": [
       "['rel-amazon',\n",
       " 'rel-avito',\n",
       " 'rel-event',\n",
       " 'rel-f1',\n",
       " 'rel-hm',\n",
       " 'rel-stack',\n",
       " 'rel-trial']"
      ]
     },
     "metadata": {},
     "execution_count": 2
    }
   ]
  },
  {
   "cell_type": "markdown",
   "source": [
    "# Get dataset\n",
    "\n",
    "Let's start with the F1 dataset since it's the smallest and is easy to work with. All it takes is one line!\n"
   ],
   "metadata": {
    "id": "foOR0gDJ2j1s"
   }
  },
  {
   "cell_type": "code",
   "source": [
    "from relbench.datasets import get_dataset\n",
    "\n",
    "dataset = get_dataset(name=\"rel-f1\", download=True)"
   ],
   "metadata": {
    "id": "RsAPkjOk2hDn",
    "outputId": "837cbd40-167b-4bb1-968e-7120de1fa028",
    "colab": {
     "base_uri": "https://localhost:8080/"
    }
   },
   "execution_count": null,
   "outputs": [
    {
     "output_type": "stream",
     "name": "stderr",
     "text": [
      "Downloading file 'rel-f1/db.zip' from 'https://relbench.stanford.edu/download/rel-f1/db.zip' to '/root/.cache/relbench'.\n",
      "100%|████████████████████████████████████████| 704k/704k [00:00<00:00, 174MB/s]\n",
      "Unzipping contents of '/root/.cache/relbench/rel-f1/db.zip' to '/root/.cache/relbench/rel-f1/.'\n"
     ]
    }
   ]
  },
  {
   "cell_type": "markdown",
   "source": [
    "Use `download=True` the first time you load a patricular dataset to automatically download the data from the RelBench server onto your machine.\n",
    "\n",
    "Now we have loaded the database, let's start poking around to see what's inside."
   ],
   "metadata": {
    "id": "M3dJVd8A2sOt"
   }
  },
  {
   "cell_type": "markdown",
   "source": [
    "# Val / Test cutoffs\n",
    "\n",
    "We can check the val/test time cutoffs as follows:"
   ],
   "metadata": {
    "id": "lgeqc7x82596"
   }
  },
  {
   "cell_type": "code",
   "source": [
    "dataset.val_timestamp, dataset.test_timestamp"
   ],
   "metadata": {
    "colab": {
     "base_uri": "https://localhost:8080/"
    },
    "id": "239e0MQB2yMO",
    "outputId": "07b2cf05-a8d4-4c6c-b5cd-a755617a5baa"
   },
   "execution_count": null,
   "outputs": [
    {
     "output_type": "execute_result",
     "data": {
      "text/plain": [
       "(Timestamp('2005-01-01 00:00:00'), Timestamp('2010-01-01 00:00:00'))"
      ]
     },
     "metadata": {},
     "execution_count": 4
    }
   ]
  },
  {
   "cell_type": "markdown",
   "source": [
    "This means that information upto 2005 can be used for training, and upto 2010 can be used for validation.\n",
    "\n",
    "Note that it is a RelBench design choice to make the validation and test cutoffs a dataset property, _not_ a task-specific property. In other words, all tasks for a given database use the same time splits.\n",
    "\n",
    "\n",
    "# Load database\n",
    "\n",
    "Next we check out the database itself..."
   ],
   "metadata": {
    "id": "-75pIuTV3Ae6"
   }
  },
  {
   "cell_type": "code",
   "source": [
    "db = dataset.get_db()"
   ],
   "metadata": {
    "id": "dm1f8YDF273p"
   },
   "execution_count": null,
   "outputs": []
  },
  {
   "cell_type": "markdown",
   "source": [
    "*This* returns a RelBench `Database` object. By default, the rows with timestamp > test_timestamp are excluded to prevent accidental test set leakage.\n",
    "The complete database can be loaded with `database.get_db(upto_test_timestamp=False)`."
   ],
   "metadata": {
    "id": "kpBRvvqb3FXQ"
   }
  },
  {
   "cell_type": "markdown",
   "source": [
    "With this we can double check the full timespan of the database:"
   ],
   "metadata": {
    "id": "H9mRPjk33JfQ"
   }
  },
  {
   "cell_type": "code",
   "source": [
    "db.min_timestamp, db.max_timestamp"
   ],
   "metadata": {
    "colab": {
     "base_uri": "https://localhost:8080/"
    },
    "id": "Ahk12agU3HLA",
    "outputId": "6d93a289-6063-4cd6-fc66-72076c7a8bd1"
   },
   "execution_count": null,
   "outputs": [
    {
     "output_type": "execute_result",
     "data": {
      "text/plain": [
       "(Timestamp('1950-05-13 00:00:00'), Timestamp('2009-11-01 11:00:00'))"
      ]
     },
     "metadata": {},
     "execution_count": 6
    }
   ]
  },
  {
   "cell_type": "markdown",
   "source": [
    "1950 is the first season for F1! So we have data for the full history of F1. Note that the `max_timestamp` is the same as `test_timestamp`."
   ],
   "metadata": {
    "id": "oKmC3R-H3OIU"
   }
  },
  {
   "cell_type": "markdown",
   "source": [
    "Next let's check out the tables in the database.\n",
    "\n",
    "More info on the schemas for F1 and all other datasets can be found at https://relbench.stanford.edu/."
   ],
   "metadata": {
    "id": "zmGcKvxX3SO5"
   }
  },
  {
   "cell_type": "markdown",
   "source": [
    "We have the following tables:"
   ],
   "metadata": {
    "id": "7RobvEoY3XQt"
   }
  },
  {
   "cell_type": "code",
   "source": [
    "db.table_dict.keys()"
   ],
   "metadata": {
    "colab": {
     "base_uri": "https://localhost:8080/"
    },
    "id": "LyAdmIry3UFl",
    "outputId": "dde952af-3953-47d5-8831-98676018cc65"
   },
   "execution_count": null,
   "outputs": [
    {
     "output_type": "execute_result",
     "data": {
      "text/plain": [
       "dict_keys(['constructors', 'results', 'standings', 'constructor_results', 'drivers', 'qualifying', 'races', 'circuits', 'constructor_standings'])"
      ]
     },
     "metadata": {},
     "execution_count": 7
    }
   ]
  },
  {
   "cell_type": "markdown",
   "source": [
    "That's 9 tables total! Let's look more closely at one of them."
   ],
   "metadata": {
    "id": "3sdJ6OgukDrL"
   }
  },
  {
   "cell_type": "code",
   "source": [
    "table = db.table_dict[\"drivers\"]\n",
    "table"
   ],
   "metadata": {
    "colab": {
     "base_uri": "https://localhost:8080/"
    },
    "id": "n0OGtbMy3Y2n",
    "outputId": "42f6ee62-f1ba-4519-bfec-32808baba1f3"
   },
   "execution_count": null,
   "outputs": [
    {
     "output_type": "execute_result",
     "data": {
      "text/plain": [
       "Table(df=\n",
       "     driverId        driverRef code  forename     surname        dob  \\\n",
       "0           0         hamilton  HAM     Lewis    Hamilton 1985-01-07   \n",
       "1           1         heidfeld  HEI      Nick    Heidfeld 1977-05-10   \n",
       "2           2          rosberg  ROS      Nico     Rosberg 1985-06-27   \n",
       "3           3           alonso  ALO  Fernando      Alonso 1981-07-29   \n",
       "4           4       kovalainen  KOV    Heikki  Kovalainen 1981-10-19   \n",
       "..        ...              ...  ...       ...         ...        ...   \n",
       "852       852  mick_schumacher  MSC      Mick  Schumacher 1999-03-22   \n",
       "853       853             zhou  ZHO    Guanyu        Zhou 1999-05-30   \n",
       "854       854         de_vries  DEV      Nyck    de Vries 1995-02-06   \n",
       "855       855          piastri  PIA     Oscar     Piastri 2001-04-06   \n",
       "856       856         sargeant  SAR     Logan    Sargeant 2000-12-31   \n",
       "\n",
       "    nationality  \n",
       "0       British  \n",
       "1        German  \n",
       "2        German  \n",
       "3       Spanish  \n",
       "4       Finnish  \n",
       "..          ...  \n",
       "852      German  \n",
       "853     Chinese  \n",
       "854       Dutch  \n",
       "855  Australian  \n",
       "856    American  \n",
       "\n",
       "[857 rows x 7 columns],\n",
       "  fkey_col_to_pkey_table={},\n",
       "  pkey_col=driverId,\n",
       "  time_col=None)"
      ]
     },
     "metadata": {},
     "execution_count": 8
    }
   ]
  },
  {
   "cell_type": "markdown",
   "source": [
    "The `drivers` table stores information on all F1 drivers that ever competed in a race. Note that the table comes with multiple bits of information:\n",
    "- The table itself, `table.df` which is simply a Pandas DataFrame.\n",
    "- The primary key column, `table.pkey_col`, which indicates that the `driverId` column holds the primary key for this particular table in the database.\n",
    "- The primary time column, `table.time_col` which, if the entity is an event, records the time an event happened. In the case of drivers, they are non-temporal entities, so `table.time_col=None`.\n",
    "- The other tables that foreign keys points to `table.fkey_col_to_pkey_table`. If the table has any foreign key columns, then this dict indicates which table we foreign key corresponds to. Again in the case of drivers this is not applicable.\n",
    "\n",
    "We can start to explore the data a little, e.g., check out the oldest and youngest ever F1 drivers, spanning 3 centuries!"
   ],
   "metadata": {
    "id": "ZPEZo1TNkMaU"
   }
  },
  {
   "cell_type": "code",
   "source": [
    "table.df.iloc[table.df[\"dob\"].idxmax()]"
   ],
   "metadata": {
    "colab": {
     "base_uri": "https://localhost:8080/"
    },
    "id": "paE62mcKkDCF",
    "outputId": "f6535bd4-059f-4f87-bb60-b5ac05cc3889"
   },
   "execution_count": null,
   "outputs": [
    {
     "output_type": "execute_result",
     "data": {
      "text/plain": [
       "driverId                       855\n",
       "driverRef                  piastri\n",
       "code                           PIA\n",
       "forename                     Oscar\n",
       "surname                    Piastri\n",
       "dob            2001-04-06 00:00:00\n",
       "nationality             Australian\n",
       "Name: 855, dtype: object"
      ]
     },
     "metadata": {},
     "execution_count": 9
    }
   ]
  },
  {
   "cell_type": "code",
   "source": [
    "table.df.iloc[table.df[\"dob\"].idxmin()]"
   ],
   "metadata": {
    "colab": {
     "base_uri": "https://localhost:8080/"
    },
    "id": "pqxywakH29js",
    "outputId": "a5c2d066-3700-43da-83c1-0fd6828ceca8"
   },
   "execution_count": null,
   "outputs": [
    {
     "output_type": "execute_result",
     "data": {
      "text/plain": [
       "driverId                       741\n",
       "driverRef                etancelin\n",
       "code                            \\N\n",
       "forename                  Philippe\n",
       "surname                  Étancelin\n",
       "dob            1896-12-28 00:00:00\n",
       "nationality                 French\n",
       "Name: 741, dtype: object"
      ]
     },
     "metadata": {},
     "execution_count": 10
    }
   ]
  },
  {
   "cell_type": "markdown",
   "source": [
    "Going back to the `table.time_col` and `table.fkey_col_to_pkey_table`, the `results` table contains a non-trivial example."
   ],
   "metadata": {
    "id": "VJ3Se_Irkff1"
   }
  },
  {
   "cell_type": "code",
   "source": [
    "table = db.table_dict[\"results\"]\n",
    "table.df"
   ],
   "metadata": {
    "colab": {
     "base_uri": "https://localhost:8080/",
     "height": 791
    },
    "id": "DSmDQc3Pke5c",
    "outputId": "726f3491-5436-4a95-a905-607279afd7b6"
   },
   "execution_count": null,
   "outputs": [
    {
     "output_type": "execute_result",
     "data": {
      "text/plain": [
       "       resultId  raceId  driverId  constructorId  number  grid  position  \\\n",
       "0             0       0       660            152    18.0    21      11.0   \n",
       "1             1       0       790            149     8.0    12       NaN   \n",
       "2             2       0       579             49     1.0     3       NaN   \n",
       "3             3       0       661            149     9.0    10       NaN   \n",
       "4             4       0       789            152    17.0     7       NaN   \n",
       "...         ...     ...       ...            ...     ...   ...       ...   \n",
       "20318     20318     819         1              1     6.0     8       5.0   \n",
       "20319     20319     819        21             22    23.0     4       4.0   \n",
       "20320     20320     819        17             22    22.0     5       3.0   \n",
       "20321     20321     819        16              8    14.0     3       2.0   \n",
       "20322     20322     819         2              2    16.0     9       9.0   \n",
       "\n",
       "       positionOrder  points  laps  milliseconds  fastestLap  rank  statusId  \\\n",
       "0                 11     0.0    64           NaN         NaN   NaN        16   \n",
       "1                 21     0.0     2           NaN         NaN   NaN       126   \n",
       "2                 12     0.0    62           NaN         NaN   NaN        44   \n",
       "3                 20     0.0     5           NaN         NaN   NaN         6   \n",
       "4                 19     0.0     8           NaN         NaN   NaN        51   \n",
       "...              ...     ...   ...           ...         ...   ...       ...   \n",
       "20318              5     4.0    55     5669667.0        54.0   7.0         1   \n",
       "20319              4     5.0    55     5666149.0        54.0   4.0         1   \n",
       "20320              3     6.0    55     5661881.0        49.0   6.0         1   \n",
       "20321              2     8.0    55     5661271.0        14.0   5.0         1   \n",
       "20322              9     0.0    55     5689355.0        49.0  15.0         1   \n",
       "\n",
       "                     date  \n",
       "0     1950-05-13 00:00:00  \n",
       "1     1950-05-13 00:00:00  \n",
       "2     1950-05-13 00:00:00  \n",
       "3     1950-05-13 00:00:00  \n",
       "4     1950-05-13 00:00:00  \n",
       "...                   ...  \n",
       "20318 2009-11-01 11:00:00  \n",
       "20319 2009-11-01 11:00:00  \n",
       "20320 2009-11-01 11:00:00  \n",
       "20321 2009-11-01 11:00:00  \n",
       "20322 2009-11-01 11:00:00  \n",
       "\n",
       "[20323 rows x 15 columns]"
      ],
      "text/html": [
       "\n",
       "  <div id=\"df-9df70273-e6f5-458d-9e9c-f6581bba46c6\" class=\"colab-df-container\">\n",
       "    <div>\n",
       "<style scoped>\n",
       "    .dataframe tbody tr th:only-of-type {\n",
       "        vertical-align: middle;\n",
       "    }\n",
       "\n",
       "    .dataframe tbody tr th {\n",
       "        vertical-align: top;\n",
       "    }\n",
       "\n",
       "    .dataframe thead th {\n",
       "        text-align: right;\n",
       "    }\n",
       "</style>\n",
       "<table border=\"1\" class=\"dataframe\">\n",
       "  <thead>\n",
       "    <tr style=\"text-align: right;\">\n",
       "      <th></th>\n",
       "      <th>resultId</th>\n",
       "      <th>raceId</th>\n",
       "      <th>driverId</th>\n",
       "      <th>constructorId</th>\n",
       "      <th>number</th>\n",
       "      <th>grid</th>\n",
       "      <th>position</th>\n",
       "      <th>positionOrder</th>\n",
       "      <th>points</th>\n",
       "      <th>laps</th>\n",
       "      <th>milliseconds</th>\n",
       "      <th>fastestLap</th>\n",
       "      <th>rank</th>\n",
       "      <th>statusId</th>\n",
       "      <th>date</th>\n",
       "    </tr>\n",
       "  </thead>\n",
       "  <tbody>\n",
       "    <tr>\n",
       "      <th>0</th>\n",
       "      <td>0</td>\n",
       "      <td>0</td>\n",
       "      <td>660</td>\n",
       "      <td>152</td>\n",
       "      <td>18.0</td>\n",
       "      <td>21</td>\n",
       "      <td>11.0</td>\n",
       "      <td>11</td>\n",
       "      <td>0.0</td>\n",
       "      <td>64</td>\n",
       "      <td>NaN</td>\n",
       "      <td>NaN</td>\n",
       "      <td>NaN</td>\n",
       "      <td>16</td>\n",
       "      <td>1950-05-13 00:00:00</td>\n",
       "    </tr>\n",
       "    <tr>\n",
       "      <th>1</th>\n",
       "      <td>1</td>\n",
       "      <td>0</td>\n",
       "      <td>790</td>\n",
       "      <td>149</td>\n",
       "      <td>8.0</td>\n",
       "      <td>12</td>\n",
       "      <td>NaN</td>\n",
       "      <td>21</td>\n",
       "      <td>0.0</td>\n",
       "      <td>2</td>\n",
       "      <td>NaN</td>\n",
       "      <td>NaN</td>\n",
       "      <td>NaN</td>\n",
       "      <td>126</td>\n",
       "      <td>1950-05-13 00:00:00</td>\n",
       "    </tr>\n",
       "    <tr>\n",
       "      <th>2</th>\n",
       "      <td>2</td>\n",
       "      <td>0</td>\n",
       "      <td>579</td>\n",
       "      <td>49</td>\n",
       "      <td>1.0</td>\n",
       "      <td>3</td>\n",
       "      <td>NaN</td>\n",
       "      <td>12</td>\n",
       "      <td>0.0</td>\n",
       "      <td>62</td>\n",
       "      <td>NaN</td>\n",
       "      <td>NaN</td>\n",
       "      <td>NaN</td>\n",
       "      <td>44</td>\n",
       "      <td>1950-05-13 00:00:00</td>\n",
       "    </tr>\n",
       "    <tr>\n",
       "      <th>3</th>\n",
       "      <td>3</td>\n",
       "      <td>0</td>\n",
       "      <td>661</td>\n",
       "      <td>149</td>\n",
       "      <td>9.0</td>\n",
       "      <td>10</td>\n",
       "      <td>NaN</td>\n",
       "      <td>20</td>\n",
       "      <td>0.0</td>\n",
       "      <td>5</td>\n",
       "      <td>NaN</td>\n",
       "      <td>NaN</td>\n",
       "      <td>NaN</td>\n",
       "      <td>6</td>\n",
       "      <td>1950-05-13 00:00:00</td>\n",
       "    </tr>\n",
       "    <tr>\n",
       "      <th>4</th>\n",
       "      <td>4</td>\n",
       "      <td>0</td>\n",
       "      <td>789</td>\n",
       "      <td>152</td>\n",
       "      <td>17.0</td>\n",
       "      <td>7</td>\n",
       "      <td>NaN</td>\n",
       "      <td>19</td>\n",
       "      <td>0.0</td>\n",
       "      <td>8</td>\n",
       "      <td>NaN</td>\n",
       "      <td>NaN</td>\n",
       "      <td>NaN</td>\n",
       "      <td>51</td>\n",
       "      <td>1950-05-13 00:00:00</td>\n",
       "    </tr>\n",
       "    <tr>\n",
       "      <th>...</th>\n",
       "      <td>...</td>\n",
       "      <td>...</td>\n",
       "      <td>...</td>\n",
       "      <td>...</td>\n",
       "      <td>...</td>\n",
       "      <td>...</td>\n",
       "      <td>...</td>\n",
       "      <td>...</td>\n",
       "      <td>...</td>\n",
       "      <td>...</td>\n",
       "      <td>...</td>\n",
       "      <td>...</td>\n",
       "      <td>...</td>\n",
       "      <td>...</td>\n",
       "      <td>...</td>\n",
       "    </tr>\n",
       "    <tr>\n",
       "      <th>20318</th>\n",
       "      <td>20318</td>\n",
       "      <td>819</td>\n",
       "      <td>1</td>\n",
       "      <td>1</td>\n",
       "      <td>6.0</td>\n",
       "      <td>8</td>\n",
       "      <td>5.0</td>\n",
       "      <td>5</td>\n",
       "      <td>4.0</td>\n",
       "      <td>55</td>\n",
       "      <td>5669667.0</td>\n",
       "      <td>54.0</td>\n",
       "      <td>7.0</td>\n",
       "      <td>1</td>\n",
       "      <td>2009-11-01 11:00:00</td>\n",
       "    </tr>\n",
       "    <tr>\n",
       "      <th>20319</th>\n",
       "      <td>20319</td>\n",
       "      <td>819</td>\n",
       "      <td>21</td>\n",
       "      <td>22</td>\n",
       "      <td>23.0</td>\n",
       "      <td>4</td>\n",
       "      <td>4.0</td>\n",
       "      <td>4</td>\n",
       "      <td>5.0</td>\n",
       "      <td>55</td>\n",
       "      <td>5666149.0</td>\n",
       "      <td>54.0</td>\n",
       "      <td>4.0</td>\n",
       "      <td>1</td>\n",
       "      <td>2009-11-01 11:00:00</td>\n",
       "    </tr>\n",
       "    <tr>\n",
       "      <th>20320</th>\n",
       "      <td>20320</td>\n",
       "      <td>819</td>\n",
       "      <td>17</td>\n",
       "      <td>22</td>\n",
       "      <td>22.0</td>\n",
       "      <td>5</td>\n",
       "      <td>3.0</td>\n",
       "      <td>3</td>\n",
       "      <td>6.0</td>\n",
       "      <td>55</td>\n",
       "      <td>5661881.0</td>\n",
       "      <td>49.0</td>\n",
       "      <td>6.0</td>\n",
       "      <td>1</td>\n",
       "      <td>2009-11-01 11:00:00</td>\n",
       "    </tr>\n",
       "    <tr>\n",
       "      <th>20321</th>\n",
       "      <td>20321</td>\n",
       "      <td>819</td>\n",
       "      <td>16</td>\n",
       "      <td>8</td>\n",
       "      <td>14.0</td>\n",
       "      <td>3</td>\n",
       "      <td>2.0</td>\n",
       "      <td>2</td>\n",
       "      <td>8.0</td>\n",
       "      <td>55</td>\n",
       "      <td>5661271.0</td>\n",
       "      <td>14.0</td>\n",
       "      <td>5.0</td>\n",
       "      <td>1</td>\n",
       "      <td>2009-11-01 11:00:00</td>\n",
       "    </tr>\n",
       "    <tr>\n",
       "      <th>20322</th>\n",
       "      <td>20322</td>\n",
       "      <td>819</td>\n",
       "      <td>2</td>\n",
       "      <td>2</td>\n",
       "      <td>16.0</td>\n",
       "      <td>9</td>\n",
       "      <td>9.0</td>\n",
       "      <td>9</td>\n",
       "      <td>0.0</td>\n",
       "      <td>55</td>\n",
       "      <td>5689355.0</td>\n",
       "      <td>49.0</td>\n",
       "      <td>15.0</td>\n",
       "      <td>1</td>\n",
       "      <td>2009-11-01 11:00:00</td>\n",
       "    </tr>\n",
       "  </tbody>\n",
       "</table>\n",
       "<p>20323 rows × 15 columns</p>\n",
       "</div>\n",
       "    <div class=\"colab-df-buttons\">\n",
       "\n",
       "  <div class=\"colab-df-container\">\n",
       "    <button class=\"colab-df-convert\" onclick=\"convertToInteractive('df-9df70273-e6f5-458d-9e9c-f6581bba46c6')\"\n",
       "            title=\"Convert this dataframe to an interactive table.\"\n",
       "            style=\"display:none;\">\n",
       "\n",
       "  <svg xmlns=\"http://www.w3.org/2000/svg\" height=\"24px\" viewBox=\"0 -960 960 960\">\n",
       "    <path d=\"M120-120v-720h720v720H120Zm60-500h600v-160H180v160Zm220 220h160v-160H400v160Zm0 220h160v-160H400v160ZM180-400h160v-160H180v160Zm440 0h160v-160H620v160ZM180-180h160v-160H180v160Zm440 0h160v-160H620v160Z\"/>\n",
       "  </svg>\n",
       "    </button>\n",
       "\n",
       "  <style>\n",
       "    .colab-df-container {\n",
       "      display:flex;\n",
       "      gap: 12px;\n",
       "    }\n",
       "\n",
       "    .colab-df-convert {\n",
       "      background-color: #E8F0FE;\n",
       "      border: none;\n",
       "      border-radius: 50%;\n",
       "      cursor: pointer;\n",
       "      display: none;\n",
       "      fill: #1967D2;\n",
       "      height: 32px;\n",
       "      padding: 0 0 0 0;\n",
       "      width: 32px;\n",
       "    }\n",
       "\n",
       "    .colab-df-convert:hover {\n",
       "      background-color: #E2EBFA;\n",
       "      box-shadow: 0px 1px 2px rgba(60, 64, 67, 0.3), 0px 1px 3px 1px rgba(60, 64, 67, 0.15);\n",
       "      fill: #174EA6;\n",
       "    }\n",
       "\n",
       "    .colab-df-buttons div {\n",
       "      margin-bottom: 4px;\n",
       "    }\n",
       "\n",
       "    [theme=dark] .colab-df-convert {\n",
       "      background-color: #3B4455;\n",
       "      fill: #D2E3FC;\n",
       "    }\n",
       "\n",
       "    [theme=dark] .colab-df-convert:hover {\n",
       "      background-color: #434B5C;\n",
       "      box-shadow: 0px 1px 3px 1px rgba(0, 0, 0, 0.15);\n",
       "      filter: drop-shadow(0px 1px 2px rgba(0, 0, 0, 0.3));\n",
       "      fill: #FFFFFF;\n",
       "    }\n",
       "  </style>\n",
       "\n",
       "    <script>\n",
       "      const buttonEl =\n",
       "        document.querySelector('#df-9df70273-e6f5-458d-9e9c-f6581bba46c6 button.colab-df-convert');\n",
       "      buttonEl.style.display =\n",
       "        google.colab.kernel.accessAllowed ? 'block' : 'none';\n",
       "\n",
       "      async function convertToInteractive(key) {\n",
       "        const element = document.querySelector('#df-9df70273-e6f5-458d-9e9c-f6581bba46c6');\n",
       "        const dataTable =\n",
       "          await google.colab.kernel.invokeFunction('convertToInteractive',\n",
       "                                                    [key], {});\n",
       "        if (!dataTable) return;\n",
       "\n",
       "        const docLinkHtml = 'Like what you see? Visit the ' +\n",
       "          '<a target=\"_blank\" href=https://colab.research.google.com/notebooks/data_table.ipynb>data table notebook</a>'\n",
       "          + ' to learn more about interactive tables.';\n",
       "        element.innerHTML = '';\n",
       "        dataTable['output_type'] = 'display_data';\n",
       "        await google.colab.output.renderOutput(dataTable, element);\n",
       "        const docLink = document.createElement('div');\n",
       "        docLink.innerHTML = docLinkHtml;\n",
       "        element.appendChild(docLink);\n",
       "      }\n",
       "    </script>\n",
       "  </div>\n",
       "\n",
       "\n",
       "<div id=\"df-30ec5ae8-d49b-44f3-9e38-4c51e05a02cc\">\n",
       "  <button class=\"colab-df-quickchart\" onclick=\"quickchart('df-30ec5ae8-d49b-44f3-9e38-4c51e05a02cc')\"\n",
       "            title=\"Suggest charts\"\n",
       "            style=\"display:none;\">\n",
       "\n",
       "<svg xmlns=\"http://www.w3.org/2000/svg\" height=\"24px\"viewBox=\"0 0 24 24\"\n",
       "     width=\"24px\">\n",
       "    <g>\n",
       "        <path d=\"M19 3H5c-1.1 0-2 .9-2 2v14c0 1.1.9 2 2 2h14c1.1 0 2-.9 2-2V5c0-1.1-.9-2-2-2zM9 17H7v-7h2v7zm4 0h-2V7h2v10zm4 0h-2v-4h2v4z\"/>\n",
       "    </g>\n",
       "</svg>\n",
       "  </button>\n",
       "\n",
       "<style>\n",
       "  .colab-df-quickchart {\n",
       "      --bg-color: #E8F0FE;\n",
       "      --fill-color: #1967D2;\n",
       "      --hover-bg-color: #E2EBFA;\n",
       "      --hover-fill-color: #174EA6;\n",
       "      --disabled-fill-color: #AAA;\n",
       "      --disabled-bg-color: #DDD;\n",
       "  }\n",
       "\n",
       "  [theme=dark] .colab-df-quickchart {\n",
       "      --bg-color: #3B4455;\n",
       "      --fill-color: #D2E3FC;\n",
       "      --hover-bg-color: #434B5C;\n",
       "      --hover-fill-color: #FFFFFF;\n",
       "      --disabled-bg-color: #3B4455;\n",
       "      --disabled-fill-color: #666;\n",
       "  }\n",
       "\n",
       "  .colab-df-quickchart {\n",
       "    background-color: var(--bg-color);\n",
       "    border: none;\n",
       "    border-radius: 50%;\n",
       "    cursor: pointer;\n",
       "    display: none;\n",
       "    fill: var(--fill-color);\n",
       "    height: 32px;\n",
       "    padding: 0;\n",
       "    width: 32px;\n",
       "  }\n",
       "\n",
       "  .colab-df-quickchart:hover {\n",
       "    background-color: var(--hover-bg-color);\n",
       "    box-shadow: 0 1px 2px rgba(60, 64, 67, 0.3), 0 1px 3px 1px rgba(60, 64, 67, 0.15);\n",
       "    fill: var(--button-hover-fill-color);\n",
       "  }\n",
       "\n",
       "  .colab-df-quickchart-complete:disabled,\n",
       "  .colab-df-quickchart-complete:disabled:hover {\n",
       "    background-color: var(--disabled-bg-color);\n",
       "    fill: var(--disabled-fill-color);\n",
       "    box-shadow: none;\n",
       "  }\n",
       "\n",
       "  .colab-df-spinner {\n",
       "    border: 2px solid var(--fill-color);\n",
       "    border-color: transparent;\n",
       "    border-bottom-color: var(--fill-color);\n",
       "    animation:\n",
       "      spin 1s steps(1) infinite;\n",
       "  }\n",
       "\n",
       "  @keyframes spin {\n",
       "    0% {\n",
       "      border-color: transparent;\n",
       "      border-bottom-color: var(--fill-color);\n",
       "      border-left-color: var(--fill-color);\n",
       "    }\n",
       "    20% {\n",
       "      border-color: transparent;\n",
       "      border-left-color: var(--fill-color);\n",
       "      border-top-color: var(--fill-color);\n",
       "    }\n",
       "    30% {\n",
       "      border-color: transparent;\n",
       "      border-left-color: var(--fill-color);\n",
       "      border-top-color: var(--fill-color);\n",
       "      border-right-color: var(--fill-color);\n",
       "    }\n",
       "    40% {\n",
       "      border-color: transparent;\n",
       "      border-right-color: var(--fill-color);\n",
       "      border-top-color: var(--fill-color);\n",
       "    }\n",
       "    60% {\n",
       "      border-color: transparent;\n",
       "      border-right-color: var(--fill-color);\n",
       "    }\n",
       "    80% {\n",
       "      border-color: transparent;\n",
       "      border-right-color: var(--fill-color);\n",
       "      border-bottom-color: var(--fill-color);\n",
       "    }\n",
       "    90% {\n",
       "      border-color: transparent;\n",
       "      border-bottom-color: var(--fill-color);\n",
       "    }\n",
       "  }\n",
       "</style>\n",
       "\n",
       "  <script>\n",
       "    async function quickchart(key) {\n",
       "      const quickchartButtonEl =\n",
       "        document.querySelector('#' + key + ' button');\n",
       "      quickchartButtonEl.disabled = true;  // To prevent multiple clicks.\n",
       "      quickchartButtonEl.classList.add('colab-df-spinner');\n",
       "      try {\n",
       "        const charts = await google.colab.kernel.invokeFunction(\n",
       "            'suggestCharts', [key], {});\n",
       "      } catch (error) {\n",
       "        console.error('Error during call to suggestCharts:', error);\n",
       "      }\n",
       "      quickchartButtonEl.classList.remove('colab-df-spinner');\n",
       "      quickchartButtonEl.classList.add('colab-df-quickchart-complete');\n",
       "    }\n",
       "    (() => {\n",
       "      let quickchartButtonEl =\n",
       "        document.querySelector('#df-30ec5ae8-d49b-44f3-9e38-4c51e05a02cc button');\n",
       "      quickchartButtonEl.style.display =\n",
       "        google.colab.kernel.accessAllowed ? 'block' : 'none';\n",
       "    })();\n",
       "  </script>\n",
       "</div>\n",
       "\n",
       "    </div>\n",
       "  </div>\n"
      ],
      "application/vnd.google.colaboratory.intrinsic+json": {
       "type": "dataframe",
       "summary": "{\n  \"name\": \"table\",\n  \"rows\": 20323,\n  \"fields\": [\n    {\n      \"column\": \"resultId\",\n      \"properties\": {\n        \"dtype\": \"Int64\",\n        \"num_unique_values\": 20323,\n        \"samples\": [\n          8086,\n          10911,\n          3018\n        ],\n        \"semantic_type\": \"\",\n        \"description\": \"\"\n      }\n    },\n    {\n      \"column\": \"raceId\",\n      \"properties\": {\n        \"dtype\": \"Int64\",\n        \"num_unique_values\": 820,\n        \"samples\": [\n          641,\n          333,\n          67\n        ],\n        \"semantic_type\": \"\",\n        \"description\": \"\"\n      }\n    },\n    {\n      \"column\": \"driverId\",\n      \"properties\": {\n        \"dtype\": \"Int64\",\n        \"num_unique_values\": 806,\n        \"samples\": [\n          141,\n          600,\n          561\n        ],\n        \"semantic_type\": \"\",\n        \"description\": \"\"\n      }\n    },\n    {\n      \"column\": \"constructorId\",\n      \"properties\": {\n        \"dtype\": \"Int64\",\n        \"num_unique_values\": 199,\n        \"samples\": [\n          33,\n          105,\n          80\n        ],\n        \"semantic_type\": \"\",\n        \"description\": \"\"\n      }\n    },\n    {\n      \"column\": \"number\",\n      \"properties\": {\n        \"dtype\": \"number\",\n        \"std\": 12.618109254667905,\n        \"min\": 0.0,\n        \"max\": 208.0,\n        \"num_unique_values\": 128,\n        \"samples\": [\n          58.0,\n          62.0,\n          23.0\n        ],\n        \"semantic_type\": \"\",\n        \"description\": \"\"\n      }\n    },\n    {\n      \"column\": \"grid\",\n      \"properties\": {\n        \"dtype\": \"number\",\n        \"std\": 7,\n        \"min\": 0,\n        \"max\": 34,\n        \"num_unique_values\": 35,\n        \"samples\": [\n          29,\n          9,\n          28\n        ],\n        \"semantic_type\": \"\",\n        \"description\": \"\"\n      }\n    },\n    {\n      \"column\": \"position\",\n      \"properties\": {\n        \"dtype\": \"number\",\n        \"std\": 4.368745850543276,\n        \"min\": 1.0,\n        \"max\": 33.0,\n        \"num_unique_values\": 33,\n        \"samples\": [\n          26.0,\n          19.0,\n          31.0\n        ],\n        \"semantic_type\": \"\",\n        \"description\": \"\"\n      }\n    },\n    {\n      \"column\": \"positionOrder\",\n      \"properties\": {\n        \"dtype\": \"number\",\n        \"std\": 8,\n        \"min\": 1,\n        \"max\": 39,\n        \"num_unique_values\": 39,\n        \"samples\": [\n          34,\n          38,\n          19\n        ],\n        \"semantic_type\": \"\",\n        \"description\": \"\"\n      }\n    },\n    {\n      \"column\": \"points\",\n      \"properties\": {\n        \"dtype\": \"number\",\n        \"std\": 2.3409589523698164,\n        \"min\": 0.0,\n        \"max\": 10.0,\n        \"num_unique_values\": 23,\n        \"samples\": [\n          4.14,\n          7.0,\n          0.0\n        ],\n        \"semantic_type\": \"\",\n        \"description\": \"\"\n      }\n    },\n    {\n      \"column\": \"laps\",\n      \"properties\": {\n        \"dtype\": \"number\",\n        \"std\": 32,\n        \"min\": 0,\n        \"max\": 200,\n        \"num_unique_values\": 172,\n        \"samples\": [\n          80,\n          146,\n          134\n        ],\n        \"semantic_type\": \"\",\n        \"description\": \"\"\n      }\n    },\n    {\n      \"column\": \"milliseconds\",\n      \"properties\": {\n        \"dtype\": \"number\",\n        \"std\": 1863478.9976882094,\n        \"min\": 1474899.0,\n        \"max\": 15090540.0,\n        \"num_unique_values\": 4340,\n        \"samples\": [\n          7276534.0,\n          6101558.0,\n          5954029.0\n        ],\n        \"semantic_type\": \"\",\n        \"description\": \"\"\n      }\n    },\n    {\n      \"column\": \"fastestLap\",\n      \"properties\": {\n        \"dtype\": \"number\",\n        \"std\": 18.115517488881853,\n        \"min\": 2.0,\n        \"max\": 77.0,\n        \"num_unique_values\": 76,\n        \"samples\": [\n          10.0,\n          18.0,\n          29.0\n        ],\n        \"semantic_type\": \"\",\n        \"description\": \"\"\n      }\n    },\n    {\n      \"column\": \"rank\",\n      \"properties\": {\n        \"dtype\": \"number\",\n        \"std\": 5.790800780283663,\n        \"min\": 1.0,\n        \"max\": 22.0,\n        \"num_unique_values\": 22,\n        \"samples\": [\n          14.0,\n          3.0,\n          16.0\n        ],\n        \"semantic_type\": \"\",\n        \"description\": \"\"\n      }\n    },\n    {\n      \"column\": \"statusId\",\n      \"properties\": {\n        \"dtype\": \"number\",\n        \"std\": 27,\n        \"min\": 1,\n        \"max\": 127,\n        \"num_unique_values\": 125,\n        \"samples\": [\n          67,\n          80,\n          31\n        ],\n        \"semantic_type\": \"\",\n        \"description\": \"\"\n      }\n    },\n    {\n      \"column\": \"date\",\n      \"properties\": {\n        \"dtype\": \"date\",\n        \"min\": \"1950-05-13 00:00:00\",\n        \"max\": \"2009-11-01 11:00:00\",\n        \"num_unique_values\": 820,\n        \"samples\": [\n          \"1999-08-29 00:00:00\",\n          \"1980-05-18 00:00:00\",\n          \"1958-05-30 00:00:00\"\n        ],\n        \"semantic_type\": \"\",\n        \"description\": \"\"\n      }\n    }\n  ]\n}"
      }
     },
     "metadata": {},
     "execution_count": 11
    }
   ]
  },
  {
   "cell_type": "markdown",
   "source": [
    "Here we start to notice certain data artifacts that might be good to keep in mind for later when doing ML modeling. For instance, the `milliseconds` and `fastestLap` columns seem to only have been collected for more recent races, with `NaN` features for earlier races."
   ],
   "metadata": {
    "id": "pc23JvAykj7c"
   }
  },
  {
   "cell_type": "markdown",
   "source": [
    "# Loading a task\n",
    "\n",
    "Each RelBench dataset comes with multiple pre-defined predictive tasks. For any given RelBench dataset, you can check all the associated tasks with:"
   ],
   "metadata": {
    "id": "NBzQPRJvkqUh"
   }
  },
  {
   "cell_type": "code",
   "source": [
    "from relbench.tasks import get_task_names, get_task\n",
    "\n",
    "get_task_names(\"rel-f1\")"
   ],
   "metadata": {
    "colab": {
     "base_uri": "https://localhost:8080/"
    },
    "id": "TyHERgUAkjU8",
    "outputId": "b53a58ec-c657-4403-ab66-0735499b31b6"
   },
   "execution_count": null,
   "outputs": [
    {
     "output_type": "execute_result",
     "data": {
      "text/plain": [
       "['driver-position', 'driver-dnf', 'driver-top3']"
      ]
     },
     "metadata": {},
     "execution_count": 17
    }
   ]
  },
  {
   "cell_type": "markdown",
   "source": [
    "Check out https://relbench.stanford.edu/ for detailed descriptions of what each task is. As an example, let's use `driver-top3` where the task is, for a given driver and a given timestamp, to predict whether that driver will finish in the top 3 in some race in the next 30 days.\n",
    "\n",
    "The task itself is instantiated by calling:"
   ],
   "metadata": {
    "id": "aV6Ks72nku6y"
   }
  },
  {
   "cell_type": "code",
   "source": [
    "task = get_task(\"rel-f1\", \"driver-top3\", download=True)"
   ],
   "metadata": {
    "id": "IbVQxxdxktyU",
    "colab": {
     "base_uri": "https://localhost:8080/"
    },
    "outputId": "540d4d51-421d-45b8-ddf1-e93b413a970e"
   },
   "execution_count": null,
   "outputs": [
    {
     "output_type": "stream",
     "name": "stderr",
     "text": [
      "Downloading file 'rel-f1/tasks/driver-top3.zip' from 'https://relbench.stanford.edu/download/rel-f1/tasks/driver-top3.zip' to '/root/.cache/relbench'.\n",
      "100%|█████████████████████████████████████| 10.3k/10.3k [00:00<00:00, 1.46MB/s]\n",
      "Unzipping contents of '/root/.cache/relbench/rel-f1/tasks/driver-top3.zip' to '/root/.cache/relbench/rel-f1/tasks/.'\n"
     ]
    }
   ]
  },
  {
   "cell_type": "markdown",
   "source": [
    "Next we load the train / val / test labels. Each task table contains triples (timestamp, Id, label) indicating the entity the label is associated to, the timepoint at which the prediction is made, an the label itself. The task table also indicates which database table it is \"attached\" to - in this case the the `drivers` table."
   ],
   "metadata": {
    "id": "hkyvGxbSk0Tr"
   }
  },
  {
   "cell_type": "code",
   "source": [
    "task.get_table(\"train\")"
   ],
   "metadata": {
    "colab": {
     "base_uri": "https://localhost:8080/"
    },
    "id": "k90T-Oq1kx89",
    "outputId": "63462965-c459-4d90-e945-f4a53ea39939"
   },
   "execution_count": null,
   "outputs": [
    {
     "output_type": "execute_result",
     "data": {
      "text/plain": [
       "Table(df=\n",
       "           date  driverId  qualifying\n",
       "0    2004-08-04        12           0\n",
       "1    2004-08-04        20           0\n",
       "2    2004-07-05        10           0\n",
       "3    2004-07-05        47           0\n",
       "4    2004-06-05        31           0\n",
       "...         ...       ...         ...\n",
       "1348 1994-03-30        80           0\n",
       "1349 1994-03-30        48           0\n",
       "1350 1994-03-30        77           0\n",
       "1351 1994-02-28        43           0\n",
       "1352 1994-02-28        56           0\n",
       "\n",
       "[1353 rows x 3 columns],\n",
       "  fkey_col_to_pkey_table={'driverId': 'drivers'},\n",
       "  pkey_col=None,\n",
       "  time_col=date)"
      ]
     },
     "metadata": {},
     "execution_count": 19
    }
   ]
  },
  {
   "cell_type": "markdown",
   "source": [
    "The test table is handled differently, with the labels being hidden by default to prevent accidental test set leakage."
   ],
   "metadata": {
    "id": "-GuWKV6Hk4Pz"
   }
  },
  {
   "cell_type": "code",
   "source": [
    "task.get_table(\"test\")"
   ],
   "metadata": {
    "colab": {
     "base_uri": "https://localhost:8080/"
    },
    "id": "o3m1ROIDk2NC",
    "outputId": "656ed6c9-11f1-42e8-d1bd-16fd091f6ac9"
   },
   "execution_count": null,
   "outputs": [
    {
     "output_type": "execute_result",
     "data": {
      "text/plain": [
       "Table(df=\n",
       "          date  driverId\n",
       "0   2013-03-16       814\n",
       "1   2012-11-16         9\n",
       "2   2012-11-16        17\n",
       "3   2012-10-17         0\n",
       "4   2012-09-17       816\n",
       "..         ...       ...\n",
       "721 2010-07-30        14\n",
       "722 2010-06-30       154\n",
       "723 2010-06-30        14\n",
       "724 2010-05-01        14\n",
       "725 2010-05-01       154\n",
       "\n",
       "[726 rows x 2 columns],\n",
       "  fkey_col_to_pkey_table={'driverId': 'drivers'},\n",
       "  pkey_col=None,\n",
       "  time_col=date)"
      ]
     },
     "metadata": {},
     "execution_count": 20
    }
   ]
  },
  {
   "cell_type": "markdown",
   "source": [
    "If strictly needed, test labels can be retrieved by calling:"
   ],
   "metadata": {
    "id": "QgnTWc2Kk9gY"
   }
  },
  {
   "cell_type": "code",
   "source": [
    "task.get_table(\"test\", mask_input_cols=False)"
   ],
   "metadata": {
    "colab": {
     "base_uri": "https://localhost:8080/"
    },
    "id": "dhh0H7rBk6GL",
    "outputId": "5651517f-ba75-4e01-d3d2-71d0536181db"
   },
   "execution_count": null,
   "outputs": [
    {
     "output_type": "execute_result",
     "data": {
      "text/plain": [
       "Table(df=\n",
       "          date  driverId  qualifying\n",
       "0   2013-03-16       814           0\n",
       "1   2012-11-16         9           0\n",
       "2   2012-11-16        17           1\n",
       "3   2012-10-17         0           1\n",
       "4   2012-09-17       816           0\n",
       "..         ...       ...         ...\n",
       "721 2010-07-30        14           0\n",
       "722 2010-06-30       154           0\n",
       "723 2010-06-30        14           0\n",
       "724 2010-05-01        14           0\n",
       "725 2010-05-01       154           0\n",
       "\n",
       "[726 rows x 3 columns],\n",
       "  fkey_col_to_pkey_table={'driverId': 'drivers'},\n",
       "  pkey_col=None,\n",
       "  time_col=date)"
      ]
     },
     "metadata": {},
     "execution_count": 21
    }
   ]
  },
  {
   "cell_type": "code",
   "source": [],
   "metadata": {
    "id": "XCyVAj1Q6E0Z"
   },
   "execution_count": null,
   "outputs": []
  }
 ]
}
